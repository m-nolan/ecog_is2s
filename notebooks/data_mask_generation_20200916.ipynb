{
 "metadata": {
  "language_info": {
   "codemirror_mode": {
    "name": "ipython",
    "version": 3
   },
   "file_extension": ".py",
   "mimetype": "text/x-python",
   "name": "python",
   "nbconvert_exporter": "python",
   "pygments_lexer": "ipython3",
   "version": "3.7.7-final"
  },
  "orig_nbformat": 2,
  "kernelspec": {
   "name": "Python 3.7.7 64-bit ('ecog_is2s': conda)",
   "display_name": "Python 3.7.7 64-bit ('ecog_is2s': conda)",
   "metadata": {
    "interpreter": {
     "hash": "fe8054fe0736511d0a995e424bd42fab5ba13013efdf79ed2907f82c79967e8d"
    }
   }
  }
 },
 "nbformat": 4,
 "nbformat_minor": 2,
 "cells": [
  {
   "source": [
    "# Data Mask Generation \n",
    "## (new machine, wayy more RAM)\n",
    "\n",
    "Michael Nolan\n",
    "\n",
    "2020.09.16"
   ],
   "cell_type": "markdown",
   "metadata": {}
  },
  {
   "cell_type": "code",
   "execution_count": null,
   "metadata": {},
   "outputs": [],
   "source": [
    "import aopy\n",
    "import os.path as path\n",
    "from glob import glob\n",
    "import tqdm\n",
    "import time\n",
    "\n",
    "import scipy as sp\n",
    "import numpy as np\n",
    "import matplotlib.pyplot as plt\n",
    "\n",
    "import pickle as pkl\n"
   ]
  },
  {
   "cell_type": "code",
   "execution_count": null,
   "metadata": {},
   "outputs": [],
   "source": [
    "# get file list\n",
    "data_dir = \"C:\\\\Users\\\\mickey\\\\aoLab\\\\Data\\\\WirelessData\\\\Goose_Multiscale_M1\"\n",
    "file_list = glob(path.join(data_dir,\"18032[0-9]\\\\0[0-9]*\\\\*ECOG_3.clfp_ds250.dat\"))\n",
    "print(f'Files found: {len(file_list)}')\n",
    "datafile_list = [aopy.data.DataFile(f) for f in file_list]"
   ]
  },
  {
   "cell_type": "code",
   "execution_count": null,
   "metadata": {},
   "outputs": [],
   "source": [
    "power_window_t = 10\n",
    "gmean_thresh_scale = 1.25\n",
    "amp_thresh_scale = 10\n",
    "plot_ch_idx = 0\n",
    "# figsize = (16,5)\n",
    "plot_scale = 1.2\n",
    "for df in datafile_list:\n",
    "    print(df.data_file_path)\n",
    "    \n",
    "    # get data, params\n",
    "    srate = df.srate\n",
    "    ch_idx = df.ch_idx\n",
    "    data = df.read()\n",
    "    n_ch, n_sample = data.shape\n",
    "    \n",
    "    # compute window power\n",
    "    power_window_n = srate * power_window_t\n",
    "    n_power_window = int(np.ceil(n_sample / power_window_n))\n",
    "    ch_mean = data.mean(axis=-1)\n",
    "    rmse_window = np.empty((n_power_window))\n",
    "    for win_idx in tqdm.tqdm(range(n_power_window)):\n",
    "        if win_idx == n_power_window -1:\n",
    "            win_sample_idx = np.arange(win_idx*power_window_n,n_sample-1)\n",
    "        else:\n",
    "            win_sample_idx = win_idx*power_window_n + np.arange(power_window_n)\n",
    "        _win_data_norm = data[:,win_sample_idx].T - ch_mean # local variance won't catch drift well\n",
    "        rmse_window[win_idx] = np.sqrt((_win_data_norm**2).mean(axis=(0,1)))\n",
    "    \n",
    "    # compute, apply power thresholds\n",
    "    gmean_rmse = sp.stats.gmean(rmse_window)\n",
    "    bad_window = rmse_window > gmean_thresh_scale*gmean_rmse\n",
    "    bad_data_mask = bad_window.repeat(power_window_n)[:n_sample]\n",
    "    \n",
    "    # run amplitude filter\n",
    "    amp_thresh_high = data[:,~bad_data_mask].mean(axis=-1) + amp_thresh_scale*data[:,~bad_data_mask].std(axis=-1)\n",
    "    amp_thresh_low = data[:,~bad_data_mask].mean(axis=-1) - amp_thresh_scale*data[:,~bad_data_mask].std(axis=-1)\n",
    "    bad_window_amp = bad_window.copy()\n",
    "    for win_idx in tqdm.tqdm(np.arange(n_power_window)[~bad_window]): # over all \"good\" windows\n",
    "        if win_idx == n_power_window -1:\n",
    "            win_sample_idx = np.arange(win_idx*power_window_n,n_sample-1)\n",
    "        else:\n",
    "            win_sample_idx = win_idx*power_window_n + np.arange(power_window_n)\n",
    "        _win_data = data[:,win_sample_idx]\n",
    "        oor_low = np.any(_win_data.T < amp_thresh_low, axis=(0,1))\n",
    "        oor_high = np.any(_win_data.T > amp_thresh_high, axis=(0,1))\n",
    "        bad_window_amp[win_idx] = oor_low | oor_high\n",
    "    \n",
    "    # get secondary thresholds\n",
    "    bad_data_amp_mask = bad_window_amp.repeat(power_window_n)[:n_sample]\n",
    "\n",
    "    # print threshold percentages\n",
    "    print(f'power thresh: {100*bad_data_mask.mean():0.3f}%')\n",
    "    print(f'power, amp. thresh: {100*bad_data_amp_mask.mean():0.3f}%')\n",
    "\n",
    "    # plot results\n",
    "    f, ax = plt.subplots()\n",
    "    time = np.arange(n_sample)/srate\n",
    "    ax.plot(time,data[plot_ch_idx,:].T,label='no filter')\n",
    "    ax.plot(time[~bad_data_mask],data[plot_ch_idx,~bad_data_mask].T,label='power filter')\n",
    "    ax.plot(time[~bad_data_amp_mask],data[plot_ch_idx,~bad_data_amp_mask].T,label='power, amp. filter')\n",
    "    ax.axhline(data[plot_ch_idx,~bad_data_mask].mean(),color='k')\n",
    "    ax.axhline(amp_thresh_high[plot_ch_idx],color='k',linestyle=':')\n",
    "    ax.axhline(amp_thresh_low[plot_ch_idx],color='k',linestyle=':')\n",
    "    ax.set_ylim(plot_scale*amp_thresh_low[plot_ch_idx],plot_scale*amp_thresh_high[plot_ch_idx])\n",
    "    ax.legend(loc=0)\n",
    "    ax.set_xlabel('time (s)')\n",
    "    ax.set_ylabel('amp. ($\\mu$V)')\n",
    "    ax.set_title(f'ECoG data, ch. {plot_ch_idx}')\n",
    "\n",
    "    # save figure\n",
    "    file_dir = path.dirname(df.data_file_path)\n",
    "    f.savefig(path.join(file_dir,f'power_and_amplitude_filter_ch{plot_ch_idx}_ds250.png'))\n",
    "\n",
    "    # save new mask to data file under 'sat' value\n",
    "    with open(df.mask_file_path,'rb') as f:\n",
    "        mask_dict = pkl.load(f)\n",
    "    mask_dict['sat'] = bad_data_amp_mask\n",
    "    with open(df.mask_file_path,'wb') as f:\n",
    "        pkl.dump(mask_dict,f)\n",
    "    print(f'mask file {df.mask_file_path} updated.')\n",
    "    "
   ]
  }
 ]
}