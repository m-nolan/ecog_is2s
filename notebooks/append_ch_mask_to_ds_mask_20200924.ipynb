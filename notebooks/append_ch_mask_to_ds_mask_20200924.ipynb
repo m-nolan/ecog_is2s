{
 "metadata": {
  "language_info": {
   "codemirror_mode": {
    "name": "ipython",
    "version": 3
   },
   "file_extension": ".py",
   "mimetype": "text/x-python",
   "name": "python",
   "nbconvert_exporter": "python",
   "pygments_lexer": "ipython3",
   "version": "3.7.7-final"
  },
  "orig_nbformat": 2,
  "kernelspec": {
   "name": "python_defaultSpec_1600962483621",
   "display_name": "Python 3.7.7 64-bit ('ecog_is2s': conda)"
  }
 },
 "nbformat": 4,
 "nbformat_minor": 2,
 "cells": [
  {
   "source": [
    "# Mask files: add channel mask to downsampled mask files\n",
    "Michael Nolan\n",
    "\n",
    "2020.09.24 (!)"
   ],
   "cell_type": "markdown",
   "metadata": {}
  },
  {
   "cell_type": "code",
   "execution_count": 1,
   "metadata": {},
   "outputs": [],
   "source": [
    "import glob\n",
    "import pickle as pkl\n",
    "import tqdm"
   ]
  },
  {
   "cell_type": "code",
   "execution_count": 2,
   "metadata": {
    "tags": []
   },
   "outputs": [
    {
     "output_type": "stream",
     "name": "stdout",
     "text": "['E:\\\\aoLab\\\\Data\\\\WirelessData\\\\Goose_Multiscale_M1\\\\180325\\\\001\\\\rec001.LM1_ECOG_3.clfp.mask.pkl', 'E:\\\\aoLab\\\\Data\\\\WirelessData\\\\Goose_Multiscale_M1\\\\180325\\\\002\\\\rec002.LM1_ECOG_3.clfp.mask.pkl', 'E:\\\\aoLab\\\\Data\\\\WirelessData\\\\Goose_Multiscale_M1\\\\180325\\\\010\\\\rec010.LM1_ECOG_3.clfp.mask.pkl', 'E:\\\\aoLab\\\\Data\\\\WirelessData\\\\Goose_Multiscale_M1\\\\180325\\\\008\\\\rec008.LM1_ECOG_3.clfp.mask.pkl', 'E:\\\\aoLab\\\\Data\\\\WirelessData\\\\Goose_Multiscale_M1\\\\180325\\\\009\\\\rec009.LM1_ECOG_3.clfp.mask.pkl', 'E:\\\\aoLab\\\\Data\\\\WirelessData\\\\Goose_Multiscale_M1\\\\180325\\\\005\\\\rec005.LM1_ECOG_3.clfp.mask.pkl', 'E:\\\\aoLab\\\\Data\\\\WirelessData\\\\Goose_Multiscale_M1\\\\180325\\\\004\\\\rec004.LM1_ECOG_3.clfp.mask.pkl', 'E:\\\\aoLab\\\\Data\\\\WirelessData\\\\Goose_Multiscale_M1\\\\180325\\\\003\\\\rec003.LM1_ECOG_3.clfp.mask.pkl', 'E:\\\\aoLab\\\\Data\\\\WirelessData\\\\Goose_Multiscale_M1\\\\180325\\\\007\\\\rec007.LM1_ECOG_3.clfp.mask.pkl', 'E:\\\\aoLab\\\\Data\\\\WirelessData\\\\Goose_Multiscale_M1\\\\180325\\\\006\\\\rec006.LM1_ECOG_3.clfp.mask.pkl', 'E:\\\\aoLab\\\\Data\\\\WirelessData\\\\Goose_Multiscale_M1\\\\180326\\\\002\\\\rec002.LM1_ECOG_3.clfp.mask.pkl', 'E:\\\\aoLab\\\\Data\\\\WirelessData\\\\Goose_Multiscale_M1\\\\180326\\\\003\\\\rec003.LM1_ECOG_3.clfp.mask.pkl', 'E:\\\\aoLab\\\\Data\\\\WirelessData\\\\Goose_Multiscale_M1\\\\180326\\\\004\\\\rec004.LM1_ECOG_3.clfp.mask.pkl', 'E:\\\\aoLab\\\\Data\\\\WirelessData\\\\Goose_Multiscale_M1\\\\180326\\\\005\\\\rec005.LM1_ECOG_3.clfp.mask.pkl', 'E:\\\\aoLab\\\\Data\\\\WirelessData\\\\Goose_Multiscale_M1\\\\180326\\\\006\\\\rec006.LM1_ECOG_3.clfp.mask.pkl', 'E:\\\\aoLab\\\\Data\\\\WirelessData\\\\Goose_Multiscale_M1\\\\180326\\\\007\\\\rec007.LM1_ECOG_3.clfp.mask.pkl', 'E:\\\\aoLab\\\\Data\\\\WirelessData\\\\Goose_Multiscale_M1\\\\180326\\\\008\\\\rec008.LM1_ECOG_3.clfp.mask.pkl', 'E:\\\\aoLab\\\\Data\\\\WirelessData\\\\Goose_Multiscale_M1\\\\180326\\\\009\\\\rec009.LM1_ECOG_3.clfp.mask.pkl', 'E:\\\\aoLab\\\\Data\\\\WirelessData\\\\Goose_Multiscale_M1\\\\180326\\\\010\\\\rec010.LM1_ECOG_3.clfp.mask.pkl', 'E:\\\\aoLab\\\\Data\\\\WirelessData\\\\Goose_Multiscale_M1\\\\180327\\\\001\\\\rec001.LM1_ECOG_3.clfp.mask.pkl', 'E:\\\\aoLab\\\\Data\\\\WirelessData\\\\Goose_Multiscale_M1\\\\180327\\\\001\\\\rec001.LM1_SC32_1.clfp.mask.pkl', 'E:\\\\aoLab\\\\Data\\\\WirelessData\\\\Goose_Multiscale_M1\\\\180327\\\\002\\\\rec002.LM1_ECOG_3.clfp.mask.pkl', 'E:\\\\aoLab\\\\Data\\\\WirelessData\\\\Goose_Multiscale_M1\\\\180327\\\\002\\\\rec002.LM1_SC32_1.clfp.mask.pkl', 'E:\\\\aoLab\\\\Data\\\\WirelessData\\\\Goose_Multiscale_M1\\\\180327\\\\003\\\\rec003.LM1_ECOG_3.clfp.mask.pkl', 'E:\\\\aoLab\\\\Data\\\\WirelessData\\\\Goose_Multiscale_M1\\\\180327\\\\003\\\\rec003.LM1_SC32_1.clfp.mask.pkl', 'E:\\\\aoLab\\\\Data\\\\WirelessData\\\\Goose_Multiscale_M1\\\\180327\\\\004\\\\rec004.LM1_ECOG_3.clfp.mask.pkl', 'E:\\\\aoLab\\\\Data\\\\WirelessData\\\\Goose_Multiscale_M1\\\\180327\\\\004\\\\rec004.LM1_SC32_1.clfp.mask.pkl', 'E:\\\\aoLab\\\\Data\\\\WirelessData\\\\Goose_Multiscale_M1\\\\180327\\\\005\\\\rec005.LM1_ECOG_3.clfp.mask.pkl', 'E:\\\\aoLab\\\\Data\\\\WirelessData\\\\Goose_Multiscale_M1\\\\180327\\\\005\\\\rec005.LM1_SC32_1.clfp.mask.pkl', 'E:\\\\aoLab\\\\Data\\\\WirelessData\\\\Goose_Multiscale_M1\\\\180327\\\\006\\\\rec006.LM1_ECOG_3.clfp.mask.pkl', 'E:\\\\aoLab\\\\Data\\\\WirelessData\\\\Goose_Multiscale_M1\\\\180327\\\\006\\\\rec006.LM1_SC32_1.clfp.mask.pkl', 'E:\\\\aoLab\\\\Data\\\\WirelessData\\\\Goose_Multiscale_M1\\\\180327\\\\007\\\\rec007.LM1_ECOG_3.clfp.mask.pkl', 'E:\\\\aoLab\\\\Data\\\\WirelessData\\\\Goose_Multiscale_M1\\\\180327\\\\007\\\\rec007.LM1_SC32_1.clfp.mask.pkl', 'E:\\\\aoLab\\\\Data\\\\WirelessData\\\\Goose_Multiscale_M1\\\\180327\\\\008\\\\rec008.LM1_ECOG_3.clfp.mask.pkl', 'E:\\\\aoLab\\\\Data\\\\WirelessData\\\\Goose_Multiscale_M1\\\\180327\\\\008\\\\rec008.LM1_SC32_1.clfp.mask.pkl', 'E:\\\\aoLab\\\\Data\\\\WirelessData\\\\Goose_Multiscale_M1\\\\180327\\\\009\\\\rec009.LM1_ECOG_3.clfp.mask.pkl', 'E:\\\\aoLab\\\\Data\\\\WirelessData\\\\Goose_Multiscale_M1\\\\180327\\\\009\\\\rec009.LM1_SC32_1.clfp.mask.pkl', 'E:\\\\aoLab\\\\Data\\\\WirelessData\\\\Goose_Multiscale_M1\\\\180328\\\\001\\\\rec001.LM1_ECOG_3.clfp.mask.pkl', 'E:\\\\aoLab\\\\Data\\\\WirelessData\\\\Goose_Multiscale_M1\\\\180328\\\\002\\\\rec002.LM1_ECOG_3.clfp.mask.pkl', 'E:\\\\aoLab\\\\Data\\\\WirelessData\\\\Goose_Multiscale_M1\\\\180328\\\\003\\\\rec003.LM1_ECOG_3.clfp.mask.pkl', 'E:\\\\aoLab\\\\Data\\\\WirelessData\\\\Goose_Multiscale_M1\\\\180328\\\\004\\\\rec004.LM1_ECOG_3.clfp.mask.pkl', 'E:\\\\aoLab\\\\Data\\\\WirelessData\\\\Goose_Multiscale_M1\\\\180328\\\\005\\\\rec005.LM1_ECOG_3.clfp.mask.pkl', 'E:\\\\aoLab\\\\Data\\\\WirelessData\\\\Goose_Multiscale_M1\\\\180328\\\\006\\\\rec006.LM1_ECOG_3.clfp.mask.pkl', 'E:\\\\aoLab\\\\Data\\\\WirelessData\\\\Goose_Multiscale_M1\\\\180328\\\\007\\\\rec007.LM1_ECOG_3.clfp.mask.pkl', 'E:\\\\aoLab\\\\Data\\\\WirelessData\\\\Goose_Multiscale_M1\\\\180328\\\\008\\\\rec008.LM1_ECOG_3.clfp.mask.pkl', 'E:\\\\aoLab\\\\Data\\\\WirelessData\\\\Goose_Multiscale_M1\\\\180328\\\\009\\\\rec009.LM1_ECOG_3.clfp.mask.pkl', 'E:\\\\aoLab\\\\Data\\\\WirelessData\\\\Goose_Multiscale_M1\\\\180328\\\\010\\\\rec010.LM1_ECOG_3.clfp.mask.pkl', 'E:\\\\aoLab\\\\Data\\\\WirelessData\\\\Goose_Multiscale_M1\\\\180328\\\\011\\\\rec011.LM1_ECOG_3.clfp.mask.pkl']\n['E:\\\\aoLab\\\\Data\\\\WirelessData\\\\Goose_Multiscale_M1\\\\180325\\\\001\\\\rec001.LM1_ECOG_3.clfp_ds250.mask.pkl', 'E:\\\\aoLab\\\\Data\\\\WirelessData\\\\Goose_Multiscale_M1\\\\180325\\\\002\\\\rec002.LM1_ECOG_3.clfp_ds250.mask.pkl', 'E:\\\\aoLab\\\\Data\\\\WirelessData\\\\Goose_Multiscale_M1\\\\180325\\\\010\\\\rec010.LM1_ECOG_3.clfp_ds250.mask.pkl', 'E:\\\\aoLab\\\\Data\\\\WirelessData\\\\Goose_Multiscale_M1\\\\180325\\\\008\\\\rec008.LM1_ECOG_3.clfp_ds250.mask.pkl', 'E:\\\\aoLab\\\\Data\\\\WirelessData\\\\Goose_Multiscale_M1\\\\180325\\\\009\\\\rec009.LM1_ECOG_3.clfp_ds250.mask.pkl', 'E:\\\\aoLab\\\\Data\\\\WirelessData\\\\Goose_Multiscale_M1\\\\180325\\\\005\\\\rec005.LM1_ECOG_3.clfp_ds250.mask.pkl', 'E:\\\\aoLab\\\\Data\\\\WirelessData\\\\Goose_Multiscale_M1\\\\180325\\\\004\\\\rec004.LM1_ECOG_3.clfp_ds250.mask.pkl', 'E:\\\\aoLab\\\\Data\\\\WirelessData\\\\Goose_Multiscale_M1\\\\180325\\\\003\\\\rec003.LM1_ECOG_3.clfp_ds250.mask.pkl', 'E:\\\\aoLab\\\\Data\\\\WirelessData\\\\Goose_Multiscale_M1\\\\180325\\\\007\\\\rec007.LM1_ECOG_3.clfp_ds250.mask.pkl', 'E:\\\\aoLab\\\\Data\\\\WirelessData\\\\Goose_Multiscale_M1\\\\180325\\\\006\\\\rec006.LM1_ECOG_3.clfp_ds250.mask.pkl', 'E:\\\\aoLab\\\\Data\\\\WirelessData\\\\Goose_Multiscale_M1\\\\180326\\\\002\\\\rec002.LM1_ECOG_3.clfp_ds250.mask.pkl', 'E:\\\\aoLab\\\\Data\\\\WirelessData\\\\Goose_Multiscale_M1\\\\180326\\\\003\\\\rec003.LM1_ECOG_3.clfp_ds250.mask.pkl', 'E:\\\\aoLab\\\\Data\\\\WirelessData\\\\Goose_Multiscale_M1\\\\180326\\\\004\\\\rec004.LM1_ECOG_3.clfp_ds250.mask.pkl', 'E:\\\\aoLab\\\\Data\\\\WirelessData\\\\Goose_Multiscale_M1\\\\180326\\\\005\\\\rec005.LM1_ECOG_3.clfp_ds250.mask.pkl', 'E:\\\\aoLab\\\\Data\\\\WirelessData\\\\Goose_Multiscale_M1\\\\180326\\\\006\\\\rec006.LM1_ECOG_3.clfp_ds250.mask.pkl', 'E:\\\\aoLab\\\\Data\\\\WirelessData\\\\Goose_Multiscale_M1\\\\180326\\\\007\\\\rec007.LM1_ECOG_3.clfp_ds250.mask.pkl', 'E:\\\\aoLab\\\\Data\\\\WirelessData\\\\Goose_Multiscale_M1\\\\180326\\\\008\\\\rec008.LM1_ECOG_3.clfp_ds250.mask.pkl', 'E:\\\\aoLab\\\\Data\\\\WirelessData\\\\Goose_Multiscale_M1\\\\180326\\\\009\\\\rec009.LM1_ECOG_3.clfp_ds250.mask.pkl', 'E:\\\\aoLab\\\\Data\\\\WirelessData\\\\Goose_Multiscale_M1\\\\180326\\\\010\\\\rec010.LM1_ECOG_3.clfp_ds250.mask.pkl', 'E:\\\\aoLab\\\\Data\\\\WirelessData\\\\Goose_Multiscale_M1\\\\180327\\\\001\\\\rec001.LM1_ECOG_3.clfp_ds250.mask.pkl', 'E:\\\\aoLab\\\\Data\\\\WirelessData\\\\Goose_Multiscale_M1\\\\180327\\\\001\\\\rec001.LM1_SC32_1.clfp_ds250.mask.pkl', 'E:\\\\aoLab\\\\Data\\\\WirelessData\\\\Goose_Multiscale_M1\\\\180327\\\\002\\\\rec002.LM1_ECOG_3.clfp_ds250.mask.pkl', 'E:\\\\aoLab\\\\Data\\\\WirelessData\\\\Goose_Multiscale_M1\\\\180327\\\\002\\\\rec002.LM1_SC32_1.clfp_ds250.mask.pkl', 'E:\\\\aoLab\\\\Data\\\\WirelessData\\\\Goose_Multiscale_M1\\\\180327\\\\003\\\\rec003.LM1_ECOG_3.clfp_ds250.mask.pkl', 'E:\\\\aoLab\\\\Data\\\\WirelessData\\\\Goose_Multiscale_M1\\\\180327\\\\003\\\\rec003.LM1_SC32_1.clfp_ds250.mask.pkl', 'E:\\\\aoLab\\\\Data\\\\WirelessData\\\\Goose_Multiscale_M1\\\\180327\\\\004\\\\rec004.LM1_ECOG_3.clfp_ds250.mask.pkl', 'E:\\\\aoLab\\\\Data\\\\WirelessData\\\\Goose_Multiscale_M1\\\\180327\\\\004\\\\rec004.LM1_SC32_1.clfp_ds250.mask.pkl', 'E:\\\\aoLab\\\\Data\\\\WirelessData\\\\Goose_Multiscale_M1\\\\180327\\\\005\\\\rec005.LM1_ECOG_3.clfp_ds250.mask.pkl', 'E:\\\\aoLab\\\\Data\\\\WirelessData\\\\Goose_Multiscale_M1\\\\180327\\\\005\\\\rec005.LM1_SC32_1.clfp_ds250.mask.pkl', 'E:\\\\aoLab\\\\Data\\\\WirelessData\\\\Goose_Multiscale_M1\\\\180327\\\\006\\\\rec006.LM1_ECOG_3.clfp_ds250.mask.pkl', 'E:\\\\aoLab\\\\Data\\\\WirelessData\\\\Goose_Multiscale_M1\\\\180327\\\\006\\\\rec006.LM1_SC32_1.clfp_ds250.mask.pkl', 'E:\\\\aoLab\\\\Data\\\\WirelessData\\\\Goose_Multiscale_M1\\\\180327\\\\007\\\\rec007.LM1_ECOG_3.clfp_ds250.mask.pkl', 'E:\\\\aoLab\\\\Data\\\\WirelessData\\\\Goose_Multiscale_M1\\\\180327\\\\007\\\\rec007.LM1_SC32_1.clfp_ds250.mask.pkl', 'E:\\\\aoLab\\\\Data\\\\WirelessData\\\\Goose_Multiscale_M1\\\\180327\\\\008\\\\rec008.LM1_ECOG_3.clfp_ds250.mask.pkl', 'E:\\\\aoLab\\\\Data\\\\WirelessData\\\\Goose_Multiscale_M1\\\\180327\\\\008\\\\rec008.LM1_SC32_1.clfp_ds250.mask.pkl', 'E:\\\\aoLab\\\\Data\\\\WirelessData\\\\Goose_Multiscale_M1\\\\180327\\\\009\\\\rec009.LM1_ECOG_3.clfp_ds250.mask.pkl', 'E:\\\\aoLab\\\\Data\\\\WirelessData\\\\Goose_Multiscale_M1\\\\180327\\\\009\\\\rec009.LM1_SC32_1.clfp_ds250.mask.pkl', 'E:\\\\aoLab\\\\Data\\\\WirelessData\\\\Goose_Multiscale_M1\\\\180328\\\\001\\\\rec001.LM1_ECOG_3.clfp_ds250.mask.pkl', 'E:\\\\aoLab\\\\Data\\\\WirelessData\\\\Goose_Multiscale_M1\\\\180328\\\\002\\\\rec002.LM1_ECOG_3.clfp_ds250.mask.pkl', 'E:\\\\aoLab\\\\Data\\\\WirelessData\\\\Goose_Multiscale_M1\\\\180328\\\\003\\\\rec003.LM1_ECOG_3.clfp_ds250.mask.pkl', 'E:\\\\aoLab\\\\Data\\\\WirelessData\\\\Goose_Multiscale_M1\\\\180328\\\\004\\\\rec004.LM1_ECOG_3.clfp_ds250.mask.pkl', 'E:\\\\aoLab\\\\Data\\\\WirelessData\\\\Goose_Multiscale_M1\\\\180328\\\\005\\\\rec005.LM1_ECOG_3.clfp_ds250.mask.pkl', 'E:\\\\aoLab\\\\Data\\\\WirelessData\\\\Goose_Multiscale_M1\\\\180328\\\\006\\\\rec006.LM1_ECOG_3.clfp_ds250.mask.pkl', 'E:\\\\aoLab\\\\Data\\\\WirelessData\\\\Goose_Multiscale_M1\\\\180328\\\\007\\\\rec007.LM1_ECOG_3.clfp_ds250.mask.pkl', 'E:\\\\aoLab\\\\Data\\\\WirelessData\\\\Goose_Multiscale_M1\\\\180328\\\\008\\\\rec008.LM1_ECOG_3.clfp_ds250.mask.pkl', 'E:\\\\aoLab\\\\Data\\\\WirelessData\\\\Goose_Multiscale_M1\\\\180328\\\\009\\\\rec009.LM1_ECOG_3.clfp_ds250.mask.pkl', 'E:\\\\aoLab\\\\Data\\\\WirelessData\\\\Goose_Multiscale_M1\\\\180328\\\\010\\\\rec010.LM1_ECOG_3.clfp_ds250.mask.pkl', 'E:\\\\aoLab\\\\Data\\\\WirelessData\\\\Goose_Multiscale_M1\\\\180328\\\\011\\\\rec011.LM1_ECOG_3.clfp_ds250.mask.pkl']\n"
    }
   ],
   "source": [
    "mask_file_list = glob.glob('E:\\\\aoLab\\\\Data\\\\WirelessData\\\\Goose_Multiscale_M1\\\\18032*\\\\0*\\\\*clfp.mask.pkl')\n",
    "ds_mask_file_list = glob.glob('E:\\\\aoLab\\\\Data\\\\WirelessData\\\\Goose_Multiscale_M1\\\\18032*\\\\0*\\\\*clfp_ds*.mask.pkl')\n",
    "\n",
    "print(mask_file_list)\n",
    "print(ds_mask_file_list)"
   ]
  },
  {
   "cell_type": "code",
   "execution_count": 3,
   "metadata": {
    "tags": []
   },
   "outputs": [
    {
     "output_type": "stream",
     "name": "stderr",
     "text": "100%|██████████| 48/48 [00:05<00:00,  8.79it/s]\n"
    }
   ],
   "source": [
    "n_files = len(mask_file_list)\n",
    "for file_idx in tqdm.tqdm(range(n_files)):\n",
    "    mask_file = mask_file_list[file_idx]\n",
    "    ds_mask_file = ds_mask_file_list[file_idx]\n",
    "    # read channel mask from mask file\n",
    "    with open(mask_file,'rb') as f:\n",
    "        ch_mask = pkl.load(f)['ch']\n",
    "    # add channel mask to downsampled mask file\n",
    "    with open(ds_mask_file,'rb') as f:\n",
    "        ds_mask_dict = pkl.load(f)\n",
    "    ds_mask_dict['ch'] = ch_mask\n",
    "    with open(ds_mask_file,'wb') as f:\n",
    "        pkl.dump(ds_mask_dict,f)"
   ]
  },
  {
   "cell_type": "code",
   "execution_count": null,
   "metadata": {},
   "outputs": [],
   "source": []
  }
 ]
}