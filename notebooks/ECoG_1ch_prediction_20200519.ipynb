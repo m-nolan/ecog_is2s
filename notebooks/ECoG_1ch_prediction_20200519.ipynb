{
 "cells": [
  {
   "cell_type": "markdown",
   "metadata": {},
   "source": [
    "# ECoG Forecasting with Sequence-to-Sequence (seq2seq) RNN models.\n",
    "\n",
    "## Starting small: 1 channel."
   ]
  },
  {
   "cell_type": "code",
   "execution_count": 1,
   "metadata": {},
   "outputs": [],
   "source": [
    "#!/usr/bin/env python\n",
    "# coding: utf-8\n",
    "\n",
    "from aopy import datareader, datafilter\n",
    "from ecog_is2s import EcogDataloader, Training, Encoder, Decoder, Seq2Seq, Util\n",
    "\n",
    "import torch\n",
    "import torch.nn as nn\n",
    "import torch.optim as optim\n",
    "from torch.utils.data.sampler import SequentialSampler, BatchSampler, SubsetRandomSampler\n",
    "from torch.utils.data import TensorDataset, random_split\n",
    "\n",
    "import spacy\n",
    "import numpy as np\n",
    "import pandas as pd\n",
    "# import sklearn\n",
    "import scipy as sp\n",
    "\n",
    "import random\n",
    "import math\n",
    "import time\n",
    "\n",
    "# import progressbar as pb\n",
    "import datetime\n",
    "import os\n",
    "import sys\n",
    "import pickle as pkl\n",
    "\n",
    "import argparse\n",
    "import matplotlib.pyplot as plt\n",
    "import plotly.express as px\n",
    "\n",
    "import fooof"
   ]
  },
  {
   "cell_type": "markdown",
   "metadata": {},
   "source": [
    "The code in the next cell is used to parse command line arguments. These arguments assign values to the network and training parameters. This functionality has been replaced with more hard-coded constants in the current notebook. From an organizational standpoint, that's not the worst thing - it's given me a good opportunity to collect all of the constants together into one single code block @ the top of the notebook. They were pretty scattershot before that."
   ]
  },
  {
   "cell_type": "code",
   "execution_count": 2,
   "metadata": {},
   "outputs": [],
   "source": [
    "# # grab input arguments\n",
    "# parser = argparse.ArgumentParser('Trains a seq2seq network on a section of example NHP PMC ECoG data.',add_help=True)\n",
    "# parser.add_argument('--encoder-depth', metavar='el', type=int, default=10, help='Sequence depth of the encoder network')\n",
    "# parser.add_argument('--decoder-depth', metavar='dl', type=int, default=1, help='Sequence depth of the decoder network')\n",
    "# parser.add_argument('--batch-size', metavar='b', type=int, default=1, help='Data batch size')\n",
    "# parser.add_argument('--num-epochs', metavar='n', type=int, default=1, help='Number of optimization epochs')\n",
    "# parser.add_argument('--num-layers', metavar='nl', type=int, default=1, help='Number of layers in each RNN block')\n",
    "\n",
    "# args = parser.parse_args() # this bad boy has all the values packed into it. Nice!\n",
    "# print(args.encoder_depth,args.decoder_depth)\n",
    "\n",
    "# print(args.encoder_depth,args.decoder_depth)"
   ]
  },
  {
   "cell_type": "markdown",
   "metadata": {},
   "source": [
    "### TO-DO:\n",
    "Clean this mess up! There are lots of copied values and variable rereferences. They're unncessary and confusing."
   ]
  },
  {
   "cell_type": "code",
   "execution_count": 3,
   "metadata": {},
   "outputs": [],
   "source": [
    "# define constants\n",
    "T_MINUTES = 2\n",
    "ENCODER_DEPTH = 250\n",
    "DECODER_DEPTH = 50\n",
    "NUM_HID_DIM = 128\n",
    "BATCH_SIZE = 100\n",
    "NUM_EPOCHS = 100\n",
    "N_EPOCHS = NUM_EPOCHS\n",
    "NUM_LAYERS = 1\n",
    "RNG_SEED = 5050\n",
    "INPUT_SEQ_LEN = ENCODER_DEPTH\n",
    "OUTPUT_SEQ_LEN = DECODER_DEPTH\n",
    "N_CH_USE = 1\n",
    "N_LAYER = NUM_LAYERS\n",
    "N_ENC_LAYERS = N_LAYER\n",
    "N_DEC_LAYERS = N_LAYER\n",
    "dropout = 0.1\n",
    "ENC_DROPOUT = np.float32(dropout)\n",
    "DEC_DROPOUT = np.float32(dropout)\n",
    "LEARN_RATE = 0.01 # default ADAM: 0.001\n",
    "LOSS_OBJ = 'MSE' #L1, L2, see training.py:ECOGLoss()\n",
    "WEIGHT_RANGE = (-0.2,0.2) # ignore for now; not sure how to worm this through\n",
    "train_frac = 0.5\n",
    "test_frac = 0.5\n",
    "valid_frac = 0.0\n",
    "# BATCH_SIZE = args.batch_size\n",
    "# N_EPOCHS = args.num_epochs\n",
    "CLIP = 1. # this the maximum norm of the whole parameter gradient.\n",
    "TFR = 0. # no teacher forcing! Anything it's learning is all on its own\n",
    "RAND_SAMP = False\n",
    "weight_reg = 0.#0.0003\n",
    "enc_len = ENCODER_DEPTH\n",
    "dec_len = DECODER_DEPTH\n",
    "seq_len = ENCODER_DEPTH+DECODER_DEPTH # use ten time points to predict the next time point"
   ]
  },
  {
   "cell_type": "code",
   "execution_count": 4,
   "metadata": {},
   "outputs": [],
   "source": [
    "# seed RNG for pytorch/np\n",
    "random.seed(RNG_SEED)\n",
    "np.random.seed(RNG_SEED)\n",
    "torch.manual_seed(RNG_SEED)\n",
    "torch.cuda.manual_seed(RNG_SEED)\n",
    "torch.backends.cudnn.deterministic = True # enforces deterministic algorithm use -> reproducibility. Remove for production code. You don't do production code. Don't remove."
   ]
  },
  {
   "cell_type": "code",
   "execution_count": 5,
   "metadata": {},
   "outputs": [
    {
     "name": "stdout",
     "output_type": "stream",
     "text": [
      "mounting to device: cpu\n"
     ]
    }
   ],
   "source": [
    "# set device - CUDA if you've got it\n",
    "device = torch.device('cuda' if torch.cuda.is_available() else 'cpu')\n",
    "print('mounting to device: {}'.format(device))"
   ]
  },
  {
   "cell_type": "code",
   "execution_count": 27,
   "metadata": {},
   "outputs": [
    {
     "name": "stdout",
     "output_type": "stream",
     "text": [
      "Loading data file:\n"
     ]
    }
   ],
   "source": [
    "# load data\n",
    "platform_name = sys.platform\n",
    "if platform_name == 'darwin':\n",
    "    # local machine\n",
    "    data_file_full_path = '/Volumes/Samsung_T5/aoLab/Data/WirelessData/Goose_Multiscale_M1/180325/001/rec001.LM1_ECOG_3.clfp.dat'\n",
    "    mask_file_path = \"/Volumes/Samsung_T5/aoLab/Data/WirelessData/Goose_Multiscale_M1/180325/001/rec001.LM1_ECOG_3.lfp.clfp.pkl\"\n",
    "    model_save_dir_path = '/Volumes/Samsung_T5/aoLab/Data/models/pyt/seq2seq/'\n",
    "elif platform_name == 'linux2':\n",
    "    # HYAK, baby!\n",
    "    data_file_full_path = '/gscratch/stf/manolan/Data/WirelessData/Goose_Multiscale_M1/180325/001/rec001.LM1_ECOG_3.clfp.dat'\n",
    "    mask_file_path = \"/gscratch/stf/manolan/Data/WirelessData/Goose_Multiscale_M1/180325/001/rec001.LM1_ECOG_3.clfp.mask.pkl\"\n",
    "elif platform_name == 'linux':\n",
    "    # google cloud, don't fail me now\n",
    "    data_file_full_path = '/home/mickey/rec001.LM1_ECOG_3.clfp.dat'\n",
    "    mask_file_path = '/home/mickey/rec001.LM1_ECOG_3.clfp.mask.pkl'\n",
    "    model_save_dir_path = '/home/mickey/models/pyt/seq2seq/'\n",
    "\n",
    "# make sure the output directory actually exists\n",
    "if not os.path.exists(model_save_dir_path):\n",
    "    os.makedirs(model_save_dir_path)\n",
    "\n",
    "t_range = (0,40*60)\n",
    "data_in, data_param, data_mask = datareader.load_ecog_clfp_data(data_file_name=data_file_full_path,t_range=t_range)\n",
    "srate_in= data_param['srate']\n",
    "num_ch = data_param['num_ch']\n",
    "mask_idx = np.arange(t_range[0]*srate_in,t_range[1]*srate_in)"
   ]
  },
  {
   "cell_type": "code",
   "execution_count": 28,
   "metadata": {},
   "outputs": [],
   "source": [
    "T = t_range[-1]\n",
    "\n",
    "data_in = data_in[:,:T*srate_in]*1e-3 # uV -> mV\n",
    "dsf = 5\n",
    "data_down = sp.signal.resample(data_in,data_in.shape[-1]//dsf,axis=-1)\n",
    "data_dec = sp.signal.decimate(data_in,dsf,axis=-1)"
   ]
  },
  {
   "cell_type": "code",
   "execution_count": 31,
   "metadata": {},
   "outputs": [
    {
     "data": {
      "text/plain": [
       "[<matplotlib.lines.Line2D at 0x1a31f55590>]"
      ]
     },
     "execution_count": 31,
     "metadata": {},
     "output_type": "execute_result"
    },
    {
     "data": {
      "image/png": "[encoded data removed]",
      "text/plain": [
       "<Figure size 1296x432 with 2 Axes>"
      ]
     },
     "metadata": {
      "needs_background": "light"
     },
     "output_type": "display_data"
    }
   ],
   "source": [
    "f, ax = plt.subplots(2,1,figsize=(18,6))\n",
    "t_in = np.arange(t_range[0]*srate_in,t_range[1]*srate_in)/srate_in\n",
    "t_down = np.arange(T*srate_in/dsf)/srate_in*dsf\n",
    "t_dec = np.arange(T*srate_in/dsf)/srate_in*dsf\n",
    "ax[0].plot(t_in,data_in[0,:],label='full')\n",
    "ax[0].plot(t_down,data_down[0,:],label='down')\n",
    "ax[0].plot(t_dec,data_dec[0,:],label='dec')\n",
    "# ax.set_xlim(2,5)\n",
    "ax[0].set_xlabel('time (s)')\n",
    "ax[0].set_ylabel('$\\mu V$')\n",
    "ax[1].plot(t_in,np.logical_or(data_mask['hf'],data_mask['sat'])[mask_idx])"
   ]
  },
  {
   "cell_type": "code",
   "execution_count": 32,
   "metadata": {},
   "outputs": [
    {
     "data": {
      "text/plain": [
       "0.21333958333333333"
      ]
     },
     "execution_count": 32,
     "metadata": {},
     "output_type": "execute_result"
    }
   ],
   "source": [
    "np.logical_or(data_mask['hf'],data_mask['sat'])[mask_idx].mean()"
   ]
  },
  {
   "cell_type": "code",
   "execution_count": 13,
   "metadata": {},
   "outputs": [],
   "source": [
    "f_in,t_in,sg_in = datafilter.mt_sgram(data_down,srate_in/dsf,4,2,2)"
   ]
  },
  {
   "cell_type": "code",
   "execution_count": 14,
   "metadata": {},
   "outputs": [
    {
     "name": "stdout",
     "output_type": "stream",
     "text": [
      "(24,) (401,) (62, 401, 24)\n"
     ]
    }
   ],
   "source": [
    "print(t_in.shape,f_in.shape,sg_in.shape)"
   ]
  },
  {
   "cell_type": "code",
   "execution_count": 17,
   "metadata": {},
   "outputs": [
    {
     "data": {
      "image/png": "[encoded data removed]",
      "text/plain": [
       "<Figure size 432x288 with 1 Axes>"
      ]
     },
     "metadata": {
      "needs_background": "light"
     },
     "output_type": "display_data"
    }
   ],
   "source": [
    "plt.plot(f_in,sg_in[0,])\n",
    "plt.yscale('log')"
   ]
  },
  {
   "cell_type": "code",
   "execution_count": null,
   "metadata": {},
   "outputs": [],
   "source": [
    "# try fooof\n",
    "fm = fooof.FOOOF()\n",
    "freq_range = [5,80]\n",
    "fm.report(f_in, sg_in[0,].mean(axis=-1), freq_range)"
   ]
  },
  {
   "cell_type": "code",
   "execution_count": null,
   "metadata": {},
   "outputs": [],
   "source": [
    "fm.n_peaks_"
   ]
  },
  {
   "cell_type": "code",
   "execution_count": null,
   "metadata": {},
   "outputs": [],
   "source": [
    "num_ch = pxx_in.shape[0]\n",
    "alpha = np.zeros((num_ch))\n",
    "zero_power = np.zeros((num_ch))\n",
    "lr_err = np.zeros((num_ch))\n",
    "for ch_idx in range(pxx_in.shape[0]):\n",
    "    linreg_ = sp.state.linregress(f_in,10*np.log10(pxx_in[ch_idx,:]))\n",
    "    alpha[ch_idx] = linreg_.slope"
   ]
  },
  {
   "cell_type": "code",
   "execution_count": null,
   "metadata": {},
   "outputs": [],
   "source": [
    "# mask data array, remove obvious outliers\n",
    "data_in[:,np.logical_or(data_mask[\"hf\"],data_mask[\"sat\"])] = 0.\n",
    "\n",
    "# downsample data\n",
    "srate_down = 250\n",
    "srate = srate_in\n",
    "\n",
    "# grab local time segment\n",
    "total_len_T = T_MINUTES*60\n",
    "total_len_n = total_len_T*srate_in\n",
    "data_idx = data_in.shape[1]//2 + np.arange(total_len_n)\n",
    "print('Downsampling data from {0} to {1}'.format(srate_in,srate_down))\n",
    "### note: this breaks mask indexing, if you plan to do that later.\n",
    "data_in = np.float32(sp.signal.decimate(data_in[:,data_idx],srate_in//srate_down,axis=-1))\n",
    "print('Data Size:\\t{}\\n'.format(data_in.shape))\n",
    "\n",
    "# filter dead channels\n",
    "ch_rms = np.std(data_in,axis=-1)\n",
    "ch_m = np.mean(ch_rms)\n",
    "ch_low_lim = ch_m - 2*np.std(ch_rms)\n",
    "ch_up_lim = ch_m + 2*np.std(ch_rms)\n",
    "ch_idx = np.logical_and(ch_rms > ch_low_lim, ch_rms < ch_up_lim)\n",
    "ch_list = np.arange(num_ch)[ch_idx]\n",
    "num_ch_down = len(ch_list)\n",
    "print('Filtering Channels:')\n",
    "print('Num. ch. used:\\t{}'.format(num_ch_down))\n",
    "print('Ch. kept:\\t{}\\n'.format(ch_list))\n",
    "\n",
    "#create data tensor\n",
    "print('Normalizing data, converting to tensor:')\n",
    "data_rail = np.max(np.abs(data_in.reshape(-1)))\n",
    "# normalization = 'zscore'\n",
    "normalization = 'tanh'\n",
    "if normalization is 'max':\n",
    "    data_tensor = torch.from_numpy(data_in[ch_idx,:].view().transpose()/data_rail)\n",
    "elif normalization is 'zscore':\n",
    "    # for nominally gaussian data distributions, this will get ~99% of data points in (-1, 1)\n",
    "    data_tensor = torch.from_numpy(sp.stats.zscore(data_in[ch_idx,:].view().transpose())/5)\n",
    "elif normalization is 'tanh':\n",
    "    data_tensor = torch.from_numpy(np.tanh(sp.stats.zscore(data_in[ch_idx,:].view().transpose())/3))\n",
    "print('Data tensor shape: {}\\n'.format(data_tensor.shape))\n",
    "\n",
    "# create dataset object\n",
    "print('Creating EcogDataloader dataset object:')\n",
    "if device == 'cuda:0':\n",
    "    data_tensor.cuda()\n",
    "dataset = EcogDataloader.EcogDataset(data_tensor[:,:N_CH_USE],device,seq_len) ## make my own Dataset class\n",
    "num_ch_down = dataset.n_ch\n",
    "print('\\n')"
   ]
  },
  {
   "cell_type": "code",
   "execution_count": null,
   "metadata": {},
   "outputs": [],
   "source": [
    "# generate sampling index sets\n",
    "idx_all = np.arange(dataset.data.shape[0])\n",
    "idx_step = int(np.round(0.1*srate_down))\n",
    "sample_idx = idx_all[:-seq_len:idx_step]\n",
    "# plot samples\n",
    "n_plot_seed = 1\n",
    "n_plot_step = 4*seq_len\n",
    "plot_seed_idx = np.arange(0,n_plot_seed*n_plot_step,n_plot_step)"
   ]
  },
  {
   "cell_type": "markdown",
   "metadata": {},
   "source": [
    "### Data visualization\n",
    "The next few cells plot data characteristics (how similar are the train, test sets, etc)"
   ]
  },
  {
   "cell_type": "code",
   "execution_count": null,
   "metadata": {},
   "outputs": [],
   "source": [
    "# define function for spectrogram plotting; forgive the misnomer\n",
    "def plot_psd(ax,psd,x,y,clim,cmap='viridis'):\n",
    "    # create norm from clim\n",
    "    norm = plt.Normalize(vmin=clim[0],vmax=clim[1])\n",
    "    # get axes extent from x, y\n",
    "    extent = (x.min(), x.max(), y.min(), y.max())\n",
    "    # plot the figure\n",
    "    im_h = ax.imshow(10*np.log10(psd),extent=extent,norm=norm,origin='bottom')\n",
    "    # add a colorbar\n",
    "    cb_h = plt.colorbar(im_h, ax=ax, label='dB', pad=0.01)\n",
    "    \n",
    "    return im_h, cb_h"
   ]
  },
  {
   "cell_type": "code",
   "execution_count": null,
   "metadata": {},
   "outputs": [],
   "source": [
    "# histogram of test/train values\n",
    "n_data_down = dataset.data.shape[0]\n",
    "n_train = np.int(np.round(train_frac*n_data_down))\n",
    "idx_train = idx_all[:n_train]\n",
    "idx_test = idx_all[n_train:]\n",
    "f_train_test_hist,ax = plt.subplots(1,1,figsize=(8,6))\n",
    "ax.hist(dataset.data[idx_train,:].reshape(-1),100,alpha=0.3,label='train',color='b',density=True)\n",
    "ax.hist(dataset.data[idx_test,:].reshape(-1),100,alpha=0.3,label='test',color='r',density=True)\n",
    "ax.legend(loc=0)\n",
    "f_train_test_hist.savefig('test_train_data_histogram.png')\n",
    "# power spectral densities of the data\n",
    "# compute mtpsd estimates from normalized data\n",
    "srate = srate_down\n",
    "win_t = 8.0\n",
    "over_t = 7.0\n",
    "del_f = 0.5 # desired bandwidth (Hz)\n",
    "bw = int(win_t * del_f /2)\n",
    "f, t_train, S_train = datafilter.mt_sgram(dataset.data[idx_train,:].T,srate,win_t,over_t,bw,interp=False,mask=None)\n",
    "_, t_test, S_test = datafilter.mt_sgram(dataset.data[idx_test,:].T,srate,win_t,over_t,bw,interp=False,mask=None)\n",
    "f_spectrogram,ax = plt.subplots(1,2,figsize=(20,8)) \n",
    "z_im_h, _ = plot_psd(ax[0],S_train.squeeze(),t_train,f,(-50,-20))\n",
    "plot_psd(ax[1],S_test.squeeze(),t_test,f,(-50,-20))\n",
    "ax[1].set_xlabel('Time (s)')\n",
    "ax[0].set_title('training data')\n",
    "ax[1].set_title('testing data')\n",
    "f_spectrogram.savefig('test_train_spectrogram.png')"
   ]
  },
  {
   "cell_type": "code",
   "execution_count": null,
   "metadata": {},
   "outputs": [],
   "source": [
    "# plot PSDs\n",
    "f_psd,ax = plt.subplots(1,1,figsize=(8,6))\n",
    "ax.plot(f,10*np.log10(S_train[0,:,:]),color='b')\n",
    "ax.plot(f,10*np.log10(S_test[0,:,:]),color='r')\n",
    "ax.set_xlabel('freq. (Hz)')\n",
    "ax.set_ylabel('dB power')\n",
    "ax.set_title('Train, Test data PSD estimate')"
   ]
  },
  {
   "cell_type": "code",
   "execution_count": null,
   "metadata": {},
   "outputs": [],
   "source": [
    "# define the network!\n",
    "INPUT_DIM = num_ch_down\n",
    "OUTPUT_DIM = num_ch_down\n",
    "HID_DIM = NUM_HID_DIM\n",
    "\n",
    "enc = Encoder.Encoder_GRU(INPUT_DIM, HID_DIM, N_ENC_LAYERS, INPUT_SEQ_LEN, ENC_DROPOUT)\n",
    "dec = Decoder.Decoder_GRU(OUTPUT_DIM, HID_DIM, N_DEC_LAYERS, OUTPUT_SEQ_LEN, DEC_DROPOUT)\n",
    "\n",
    "model = Seq2Seq.Seq2Seq_GRU(enc, dec, device).to(device)\n",
    "model.apply(Util.init_weights) # initialize the model each time.\n",
    "\n",
    "print(f'The model has {Util.count_parameters(model):,} trainable parameters')\n",
    "\n",
    "criterion = Training.ECOGLoss(sum_axis=1,objective=LOSS_OBJ)\n",
    "optimizer = optim.Adam(model.parameters(),lr=LEARN_RATE,weight_decay=weight_reg)"
   ]
  },
  {
   "cell_type": "code",
   "execution_count": null,
   "metadata": {},
   "outputs": [],
   "source": [
    "print(model)"
   ]
  },
  {
   "cell_type": "markdown",
   "metadata": {},
   "source": [
    "### network visualization\n",
    "now let's use tensorboard to take a look at the network architecture:"
   ]
  },
  {
   "cell_type": "code",
   "execution_count": null,
   "metadata": {},
   "outputs": [],
   "source": [
    "## This is very, very slow. I'm guessing that the recurrence somehow breaks things? I dunno.\n",
    "# import torchviz\n",
    "# src = torch.zeros((BATCH_SIZE,INPUT_SEQ_LEN,INPUT_DIM))\n",
    "# trg = torch.zeros((BATCH_SIZE,OUTPUT_SEQ_LEN,INPUT_DIM))\n",
    "# y,_,_ = model(src,trg)\n",
    "# torchviz.make_dot(y.mean(),params=dict(model.named_parameters()))"
   ]
  },
  {
   "cell_type": "code",
   "execution_count": null,
   "metadata": {},
   "outputs": [],
   "source": [
    "# simple progressbar, not tied to the iterator\n",
    "def print_progress_bar(count, total, status=''):\n",
    "    bar_len = 60\n",
    "    filled_len = int(round(bar_len * count / float(total)))\n",
    "\n",
    "    percents = round(100.0 * count / float(total), 1)\n",
    "    bar = '=' * filled_len + '-' * (bar_len - filled_len)\n",
    "\n",
    "    sys.stdout.write('[%s] %s%s ...%s\\r' % (bar, percents, '%', status))\n",
    "    sys.stdout.flush()"
   ]
  },
  {
   "cell_type": "code",
   "execution_count": null,
   "metadata": {},
   "outputs": [],
   "source": [
    "# train/test!\n",
    "best_test_loss = float('inf')\n",
    "\n",
    "train_loss = np.zeros(N_EPOCHS)\n",
    "train_batch_loss = []\n",
    "test_loss = np.zeros(N_EPOCHS)\n",
    "test_batch_loss = []\n",
    "\n",
    "# create training session directory\n",
    "time_str = Util.time_str() # I may do well to pack this into util\n",
    "session_save_path = os.path.join(model_save_dir_path,'enc{}_dec{}_nl{}_nep{}_{}'.format(enc_len,dec_len,N_ENC_LAYERS,N_EPOCHS,time_str))\n",
    "sequence_plot_path = os.path.join(session_save_path,'example_sequence_figs')\n",
    "os.makedirs(session_save_path) # no need to check; there's no way it exists yet.\n",
    "os.makedirs(sequence_plot_path)\n",
    "print('saving session data to:\\t{}'.format(session_save_path))\n",
    "# save a histogram of the data distribution; allowing you to check\n",
    "f,ax = plt.subplots(1,1,figsize=(6,4))\n",
    "ax.hist(dataset.data.reshape(-1),100,density=True)\n",
    "f.savefig(os.path.join(session_save_path,'norm_data_hist.png'))\n",
    "\n",
    "# make figure (and a place to save it)\n",
    "f_loss = plt.figure()\n",
    "ax_loss = f_loss.add_subplot(1,1,1)\n",
    "\n",
    "for e_idx, epoch in enumerate(range(N_EPOCHS)):\n",
    "    print_progress_bar(epoch,N_EPOCHS,status='epoch:\\t{}'.format(epoch))\n",
    "\n",
    "    start_time = time.time()\n",
    "\n",
    "    # get new train/test splits\n",
    "    # note: add switch to genLoaders to allow for fixed/random sampling\n",
    "    train_loader, test_loader, _, plot_loader = EcogDataloader.genLoaders(dataset, sample_idx, train_frac, test_frac, valid_frac, BATCH_SIZE, rand_samp=RAND_SAMP, plot_seed=plot_seed_idx)\n",
    "\n",
    "#     print('Training Network:')\n",
    "    _, trbl_ = Training.train(model, train_loader, optimizer, criterion, CLIP, TFR)\n",
    "    train_batch_loss.append(trbl_)\n",
    "    train_loss[e_idx] = np.mean(trbl_) # this is the plotted training loss\n",
    "#     print('Testing Network:')\n",
    "    _, tebl_, _ = Training.evaluate(model, test_loader, criterion)\n",
    "    # test_batch_loss.append(tebl_)\n",
    "    test_loss[e_idx] = np.mean(tebl_) # this is the plotted test loss\n",
    "#     print('Running Figure Sequence:')\n",
    "    plot_loss, plbl_, plot_data_list = Training.evaluate(model, plot_loader, criterion, plot_flag=True)\n",
    "    if not (epoch % 10):\n",
    "#         print('Saving estimate plots:')\n",
    "        # save the data for the plotting window in dict form\n",
    "        epoch_plot_path = os.path.join(sequence_plot_path,'epoch{}'.format(epoch))\n",
    "        os.makedirs(epoch_plot_path)\n",
    "        torch.save(model.state_dict(),os.path.join(epoch_plot_path,'model_epoch{}.pt'.format(epoch)))\n",
    "        c_list = ['b','r']\n",
    "        for k in range(len(plot_data_list)):\n",
    "            c_output = c_list[k//n_plot_seed] # blue for training windows, red for testing windows\n",
    "            plot_data_dict = {\n",
    "                'src': plot_data_list[k][0],\n",
    "                'src_dx': plot_data_list[k][1],\n",
    "                'trg': plot_data_list[k][2],\n",
    "                'out': plot_data_list[k][3],\n",
    "                'enc': plot_data_list[k][4],\n",
    "                'dec': plot_data_list[k][5],\n",
    "                'srate': srate_down,\n",
    "                # 'state_dict': model.state_dict(), # putting this in every file is redundant\n",
    "            }\n",
    "            torch.save(plot_data_dict,os.path.join(epoch_plot_path,'data_tuple_epoch{}_window{}.pt'.format(epoch,k)))\n",
    "            # pass data to plotting function for this window\n",
    "            # for plots:\n",
    "            # blue: train\n",
    "            # red: test\n",
    "            # black: real\n",
    "            # green: encoder\n",
    "            # magenta: decoder\n",
    "            f_out, f_enc, f_dec, f_src = Training.eval_plot(plot_data_dict,c_output=c_output)\n",
    "            # save plots in current epoch subdir\n",
    "            f_out.savefig(os.path.join(epoch_plot_path,'output_plot_epoch{}_window{}.png'.format(epoch,k)))\n",
    "            f_enc.savefig(os.path.join(epoch_plot_path,'encoder_plot_epoch{}_window{}.png'.format(epoch,k)))\n",
    "            f_dec.savefig(os.path.join(epoch_plot_path,'decoder_plot_epoch{}_window{}.png'.format(epoch,k)))\n",
    "            f_src.savefig(os.path.join(epoch_plot_path,'source_plot_epoch{}_window{}.png'.format(epoch,k)))\n",
    "            [plt.close(f) for f in [f_out,f_enc,f_dec,f_src]]\n",
    "\n",
    "    end_time = time.time()\n",
    "\n",
    "    epoch_mins, epoch_secs = Util.epoch_time(start_time, end_time)\n",
    "\n",
    "    if test_loss[e_idx] < best_test_loss:\n",
    "        best_test_loss = test_loss[e_idx]\n",
    "        torch.save({ # this needs to be made into a model class method!\n",
    "                'epoch': epoch,\n",
    "                'num_epochs': N_EPOCHS,\n",
    "                'model_state_dict': model.state_dict(),\n",
    "                'optimizer_state_dict': optimizer.state_dict(),\n",
    "                'loss': best_test_loss,\n",
    "                'data_path': data_file_full_path,\n",
    "                'train_frac': train_frac,\n",
    "                'test_frac': test_frac,\n",
    "                'batch_size': BATCH_SIZE,\n",
    "                'encoder_length': enc_len,\n",
    "                'decoder_length': dec_len,\n",
    "                }, os.path.join(session_save_path,'model_checkpoint.pt'))\n",
    "\n",
    "#     print(f'Epoch: {epoch+1:02} | Time: {epoch_mins}m {epoch_secs}s')\n",
    "#     print(f'\\tTrain Loss: {train_loss[e_idx]:.3g}')\n",
    "#     print(f'\\t Test Loss: {test_loss[e_idx]:.3g}')\n",
    "    if e_idx == 0:\n",
    "        ax_loss.plot(e_idx,train_loss[e_idx],'b.',label='train loss')\n",
    "        ax_loss.plot(e_idx,test_loss[e_idx],'r.',label='valid. loss')\n",
    "        ax_loss.legend(loc=0)\n",
    "    else:\n",
    "        ax_loss.plot(e_idx,train_loss[e_idx],'b.')\n",
    "        ax_loss.plot(e_idx,test_loss[e_idx],'r.')\n",
    "    ax_loss.set_ylim(bottom=0,top=1.05*np.concatenate((train_loss,test_loss)).max())\n",
    "    # print the loss curve figure; continuously overwrite (like a fun stock ticker)\n",
    "    f_loss.savefig(os.path.join(session_save_path,'training_progress.png'))\n",
    "    torch.save({'train_loss':train_loss,'test_loss':test_loss,},os.path.join(session_save_path,'training_progress.pt'))"
   ]
  }
 ],
 "metadata": {
  "kernelspec": {
   "display_name": "ecog_is2s",
   "language": "python",
   "name": "ecog_is2s"
  },
  "language_info": {
   "codemirror_mode": {
    "name": "ipython",
    "version": 3
   },
   "file_extension": ".py",
   "mimetype": "text/x-python",
   "name": "python",
   "nbconvert_exporter": "python",
   "pygments_lexer": "ipython3",
   "version": "3.7.6"
  }
 },
 "nbformat": 4,
 "nbformat_minor": 4
}
