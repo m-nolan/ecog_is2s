{
 "metadata": {
  "language_info": {
   "codemirror_mode": {
    "name": "ipython",
    "version": 3
   },
   "file_extension": ".py",
   "mimetype": "text/x-python",
   "name": "python",
   "nbconvert_exporter": "python",
   "pygments_lexer": "ipython3",
   "version": "3.7.7-final"
  },
  "orig_nbformat": 2,
  "kernelspec": {
   "name": "python3",
   "display_name": "Python 3"
  }
 },
 "nbformat": 4,
 "nbformat_minor": 2,
 "cells": [
  {
   "cell_type": "markdown",
   "metadata": {},
   "source": [
    "# Rethinking data access: ECoG signal analysis over many, many files\n",
    "\n",
    "Michael Nolan\n",
    "\n",
    "Created: 2020.09.04.1948\n",
    "Updated: 2020.09.09.1939"
   ]
  },
  {
   "cell_type": "markdown",
   "metadata": {},
   "source": [
    "I intend for this to become a blog post, eventually. I'll put it up on my github.io page. Should I buy a personal domain?\n",
    "\n",
    "## Outline\n",
    "- Problem\n",
    "- Data\n",
    "    - structure\n",
    "    - Filters + Masks\n",
    "- Class structure\n",
    "    - Files\n",
    "        - Sampler\n",
    "    - Dataset\n",
    "    - Dataloader\n",
    "        - multiprocessing for parallelized batching"
   ]
  },
  {
   "cell_type": "markdown",
   "metadata": {},
   "source": [
    "### Problem\n",
    "I'm trying to train a neural network to predict time series data (more on that in a later post). I need to access the data in order to do that. I've had some success accessing individual files in the past, loading the entire file's data into memory all at once. I can easily take that file and create a `torch.util.data.Dataset` from it, but that's not too scalable when files are ~2GB a piece and I'm working with 40+ files.\n",
    "\n",
    "Previously I approached this problem by creating a dataset class that directly interfaced with the file with an unrefactored reading method. It is a little hacky, but works well for a single file. I also created a multifile class that can sample fixed-length sequences from a number of different data files through a single class interface. However, this is generally inflexible to different file types (I've created a few different pre-filtered versions of the same data) and gets the scope of file information (number of samples, channels, size of batch reads) spread across several class levels. I'd like a better interface to the data that's more flexible between different file encodings and \n",
    "\n",
    "### Solution\n",
    "Classes all the way down. This requires stable and trackable access to data distributed over many many files. I think it makes sense to make a file class that holds data file, mask and channel information in an accessible form. All data loading will be through object instances of that class. A dataset class will then be made that is constructed from a collection of data file objects. This dataset will be very flexible w.r.t. sample sizes, allowing us to make arbitrary dataloaders to ease hyperparameter sweeps.\n",
    "\n",
    "Anywho, let's go for it!"
   ]
  },
  {
   "cell_type": "code",
   "execution_count": null,
   "metadata": {},
   "outputs": [],
   "source": [
    "# needed for class defs\n",
    "import numpy as np\n",
    "import scipy as sp\n",
    "import os.path as path # may need to build a switch here for PC/POSIX\n",
    "import glob\n",
    "import re\n",
    "import json\n",
    "import pickle as pkl\n",
    "from torch.utils.data import dataset, IterableDataset\n",
    "import bisect\n",
    "\n",
    "# not needed for class defs\n",
    "import matplotlib.pyplot as plt"
   ]
  },
  {
   "cell_type": "markdown",
   "metadata": {},
   "source": [
    "## Datafile Class: an simple, single interface to a structured binary datafile"
   ]
  },
  {
   "cell_type": "code",
   "execution_count": null,
   "metadata": {},
   "outputs": [],
   "source": [
    "# this is the file interface class. \n",
    "# - It will grab everything there is to know about the data file itself and it's supporting files (mask, experiment)\n",
    "#   - Channel count\n",
    "#   - Channel labels\n",
    "#   - Filtering information\n",
    "#   - Sampling rate\n",
    "#   - Sample count (recording length)\n",
    "# - It will provide a clean interface for reading data from arbitrary time points\n",
    "#   - the argumentless call will read all data from the file\n",
    "#   - arguments will change read start point and read length\n",
    "#   - arguments will change the channels returned (masked v. full)\n",
    "#   - arguments will toggle data masking (nan-pack recording)\n",
    "class DataFile():\n",
    "\n",
    "    def __init__(self, data_file_path, exp_file_path=None, mask_file_path=None):\n",
    "\n",
    "        # parse file directory and components\n",
    "        data_dir = path.dirname(data_file_path)\n",
    "        data_basename = path.basename(data_file_path)\n",
    "        rec_id, device_id, rec_type, data_ext = data_basename.split('.')\n",
    "\n",
    "        # experiment data file: construct and load\n",
    "        if not exp_file_path:\n",
    "            exp_file_name = rec_id + 'experiment.json'\n",
    "            exp_file_path = path.join(data_dir,exp_file_name)\n",
    "\n",
    "        # mask file: construct and load\n",
    "        if not mask_file_path:\n",
    "            mask_file_name = rec_id + '.' + device_id + '.' + rec_type + '.mask.pkl'\n",
    "            mask_file_path = path.join(data_dir,mask_file_name)\n",
    "         \n",
    "        # set recording parameters\n",
    "        self.set_data_parameters(data_file_path,exp_file_path,mask_file_path)\n",
    "\n",
    "    # this is returned when the print() command is called.\n",
    "    def __repr__(self):\n",
    "        path_repr_str = f'Data file object: {self.data_file_path}'\n",
    "        sample_repr_str = f'\\tsamples: {self.n_sample} ({self.n_sample/self.srate:0.2f}s, {self.data_mask.mean()*100:0.2f}% masked)'\n",
    "        ch_repr_str = f'\\tchannels: {self.n_ch} ({self.ch_idx.mean()*100:0.2f}% masked)'\n",
    "        return path_repr_str + '\\n' + sample_repr_str + '\\n' + ch_repr_str + '\\n'\n",
    "                \n",
    "\n",
    "    # read data segment. Default call (no arguments) returns the entire recording.\n",
    "    def read( self, t_start=0, t_len=-1, ch_idx=None, use_mask=True, mask_value=0., mask_pad_t=5 ):\n",
    "\n",
    "        # get offset sample/byte values\n",
    "        n_offset_samples = int(round(t_start * self.srate))\n",
    "        n_offset_items = n_offset_samples * self.n_ch\n",
    "        n_offset_bytes = n_offset_items * self.data_type().nbytes\n",
    "        if t_len == -1:\n",
    "            n_read_items = t_len\n",
    "            n_read_samples = int(self.n_sample)\n",
    "        else:\n",
    "            n_read_samples = int(t_len * self.srate)\n",
    "            n_read_items = n_read_samples * self.n_ch\n",
    "        \n",
    "        # read data\n",
    "        with open(self.data_file_path,'rb') as f:\n",
    "            data = np.fromfile(f,self.data_type,count=n_read_items,offset=n_offset_bytes).reshape(n_read_samples,self.n_ch).T\n",
    "\n",
    "        # remove channels\n",
    "        if not ch_idx:\n",
    "            ch_idx = ~self.ch_idx\n",
    "        data = data[ch_idx,:] # mask values are True for bad spots\n",
    "\n",
    "        # mask data\n",
    "        sample_idx = np.arange(n_offset_samples,n_offset_samples+n_read_samples)\n",
    "        data[:,self.data_mask[sample_idx]] = mask_value\n",
    "\n",
    "        # consider: time array? May not want to incorporate until global time is added\n",
    "        return data\n",
    "\n",
    "\n",
    "    # compute data parameter values and add as object attributes\n",
    "    def set_data_parameters( self, data_file_path, exp_file_path, mask_file_path ):\n",
    "        # parse file\n",
    "        data_file = os.path.basename(data_file_path)\n",
    "        data_file_kern = os.path.splitext(data_file)[0]\n",
    "        rec_id, microdrive_name, rec_type = data_file_kern.split('.')\n",
    "        data_path = os.path.dirname(data_file_path)\n",
    "        \n",
    "        # read experiment file\n",
    "        exp_file = os.path.join(data_path,rec_id + \".experiment.json\")\n",
    "        with open(exp_file,'r') as f:\n",
    "            exp_dict = json.load(f)\n",
    "        \n",
    "        # get microdrive parameters\n",
    "        microdrive_name_list = [md['name'] for md in exp_dict['hardware']['microdrive']]\n",
    "        microdrive_idx = [md_idx for md_idx, md in enumerate(microdrive_name_list) if microdrive_name == md][0]\n",
    "        microdrive_dict = exp_dict['hardware']['microdrive'][microdrive_idx]\n",
    "        electrode_label_list = [e['label'] for e in exp_dict['hardware']['microdrive'][0]['electrodes']]\n",
    "        n_ch = len(electrode_label_list)\n",
    "        \n",
    "        # get srate\n",
    "        if rec_type == 'raw':\n",
    "            srate = exp_dict['hardware']['acquisition']['samplingrate']\n",
    "            data_type = np.ushort\n",
    "        elif rec_type == 'lfp':\n",
    "            srate = 1000\n",
    "            data_type = np.float32\n",
    "        elif rec_type == 'clfp':\n",
    "            srate = 1000\n",
    "            data_type = np.float32\n",
    "        \n",
    "        # read mask\n",
    "        ecog_mask_file = os.path.join(data_path,data_file_kern + \".mask.pkl\")\n",
    "        with open(ecog_mask_file,\"rb\") as mask_f:\n",
    "            mask = pkl.load(mask_f)\n",
    "        # data_mask = grow_bool_array(mask[\"hf\"] | mask[\"sat\"], growth_size=int(srate*0.5))\n",
    "        data_mask = mask[\"hf\"] | mask[\"sat\"]\n",
    "        if 'ch' in mask.keys():\n",
    "            ch_idx = mask['ch']\n",
    "        else:\n",
    "            ch_idx = np.arange(n_ch)\n",
    "\n",
    "        # clean channel labels - formatting can change from recording to recording. Get Channel ID from full string.\n",
    "        ch_label_pattern = r'E\\d+'\n",
    "        ch_label_cleaned = [re.findall(ch_label_pattern,ch_l)[0] for ch_l in electrode_label_list]\n",
    "        \n",
    "        # set parameters\n",
    "        self.data_file_path = data_file_path\n",
    "        self.exp_file_path = exp_file_path\n",
    "        self.mask_file_path = mask_file_path\n",
    "        self.rec_id = rec_id\n",
    "        self.microdrive_name = microdrive_name\n",
    "        self.rec_type = rec_type\n",
    "        self.srate = srate\n",
    "        self.data_type = data_type\n",
    "        self.data_mask = data_mask\n",
    "        self.n_ch = n_ch\n",
    "        self.ch_idx = ch_idx\n",
    "        self.ch_labels = ch_label_cleaned\n",
    "\n",
    "        # set sample length information\n",
    "        self.n_sample = len(self.data_mask)\n",
    "        self.t_total = self.n_sample/self.srate # (s)\n",
    "\n",
    "# morphological transform: expand boolean array values a set distance from all current True values.\n",
    "# this is used to spread out mask estimates to more conservatively filter data files.\n",
    "# def grow_bool_array( in_bool_array, growth_size=50):\n",
    "#     mask_true_idx = np.arange(len(in_bool_array))[in_bool_array]\n",
    "#     out_bool_array = in_bool_array.copy()\n",
    "#     for seed_idx in mask_true_idx:\n",
    "#         start_idx = np.max((0,seed_idx-growth_size))\n",
    "#         stop_idx = np.min((len(mask_true_idx)-1,seed_idx+growth_size))\n",
    "#         on_range_idx = np.arange(start_idx,stop_idx)\n",
    "#         out_bool_array[on_range_idx] = True\n",
    "    \n",
    "#     return out_bool_array\n"
   ]
  },
  {
   "cell_type": "markdown",
   "metadata": {},
   "source": [
    "That should do the trick! Let's build a tester to see how it works:"
   ]
  },
  {
   "cell_type": "code",
   "execution_count": null,
   "metadata": {
    "tags": []
   },
   "outputs": [],
   "source": [
    "# test class instance for the first recording in the dataset:\n",
    "data_file_path = \"E:\\\\aoLab\\\\Data\\\\WirelessData\\\\Goose_Multiscale_M1\\\\180325\\\\001\\\\rec001.LM1_ECOG_3.clfp.dat\"\n",
    "datafile = DataFile(data_file_path)\n",
    "print(datafile)\n",
    "t_start = 7000\n",
    "t_len = 1\n",
    "data_sample = datafile.read(t_start=t_start,t_len=t_len)\n",
    "plt.plot(data_sample[11,:]);\n",
    "plt.xlabel('time (s)')\n",
    "plt.ylabel('amplitude ($\\mu$V)')\n",
    "plt.title('Sample data segment')\n",
    "plt.savefig('ecog_sample.png')"
   ]
  },
  {
   "cell_type": "markdown",
   "metadata": {},
   "source": [
    "! It works great. I even added a nice `self.__repr__()` method to format its output when passed to python's `print` function. \n",
    "\n",
    "Now let's get a sense of the read speeds. I'll repeat the `datafile.read()` call with random time points 1000 times and get some statistics on average loading time."
   ]
  },
  {
   "cell_type": "code",
   "execution_count": null,
   "metadata": {
    "tags": []
   },
   "outputs": [],
   "source": [
    "import time\n",
    "n_iter = 1000\n",
    "t_len = 1\n",
    "t_iter = np.zeros(n_iter)\n",
    "for k in range(n_iter):\n",
    "    t_start = np.random.rand()*(datafile.t_total-t_len)\n",
    "    t = time.time()\n",
    "    data = datafile.read(t_start=t_start,t_len=t_len)\n",
    "    t_iter[k] = time.time()-t\n",
    "print(f'{n_iter} data pulls complete.')"
   ]
  },
  {
   "cell_type": "code",
   "execution_count": null,
   "metadata": {
    "tags": []
   },
   "outputs": [],
   "source": [
    "plt.hist(t_iter,100,label='read times');\n",
    "plt.axvline(t_iter.mean(),color='r',label='mean')\n",
    "plt.xscale('linear')\n",
    "plt.xlabel('Read time (s)')\n",
    "plt.ylabel('sample frequency')\n",
    "plt.title('1s sample read time distribution - DataFile class')\n",
    "plt.legend(loc=0)\n",
    "print(f'Mean read time: {t_iter.mean():0.3E}')\n",
    "print(f'Total read time ({n_iter} reads): {t_iter.sum():0.3E}')\n",
    "plt.savefig('read_time_hist.png')"
   ]
  },
  {
   "cell_type": "markdown",
   "metadata": {},
   "source": [
    "Neat! I'm unsure of what's causing the split distribution in read times here, but we're getting a very, very fast read speed for >80% of draws. \n",
    "\n",
    "The total batch read time is 0.16s. If we're to use this as the data access API for a pytorch dataloader, we might want something faster. This file is currently on an SSD connected to my computer through a USBC/3.0 port. Moving all of this data to my system's internal memory may provide me with an immediate speed-up, [provided that I use my PCIe SSD.](https://www.unbxtech.com/2019/03/pcie-sata-usb-interfaces-explained.html). Using different data reading methods to optimize the code [may not lead to much significant improvement, so I'll leave them be for now.](http://rabexc.org/posts/io-performance-in-python).\n",
    "\n",
    "Either way, it all works great! This will make the next step a bit easier: creating a dataset interface to a list of these DataFile objects.\n",
    "\n",
    "This design will take advantage of the `ConcatDataset` construction [provided by pytorch](https://pytorch.org/docs/stable/_modules/torch/utils/data/dataset.html#ConcatDataset), which allows for the clean concatenation of individual dataset objects. A single dataloader can be constructed from this `ConcatDataset` instance to divide train/test partitions. The `__getitem__()` method will return source and target samples for our sequence prediction model. To allow the `__len__()` method to accurately represent the number of src/trg pairs that a file can produce without overlapping on a masked value, we will have to create an dataset for each file with a fixed src/trg sequence length. I plan to test many different pairs of these lengths, so I'll wrap this up by writing a generator function that can go all the way from a list of structured binary data files to a single `ConcatDataset`. That will make hyperparameter sweeps a lot simpler.\n",
    "\n",
    "Let's start by making a list of these datafile objects:"
   ]
  },
  {
   "cell_type": "code",
   "execution_count": null,
   "metadata": {
    "tags": []
   },
   "outputs": [],
   "source": [
    "data_file_list = glob.glob(\"E:\\\\aoLab\\\\Data\\\\WirelessData\\\\Goose_Multiscale_M1\\\\180325\\\\*\\\\*.clfp.dat\")\n",
    "print(f'{len(data_file_list)} files found!')\n",
    "\n",
    "datafile_list = [DataFile(fp) for fp in data_file_list]\n",
    "print(datafile_list)"
   ]
  },
  {
   "cell_type": "markdown",
   "metadata": {},
   "source": [
    "A hop, skip and a glob away and we have a list of files! The Datafile class is then easily created for each of these files using a tight list comprehension. We'll have to make a dataset object for each of the elements in this list, but this provides a nice look into the channel mismatches we'll have to deal with when concatenating the individual datasets. Each datafile is masked at a different percentage of masked channels. Also, each datafile may be masking different channels than every other file. Getting the intersection of all labels will be key."
   ]
  },
  {
   "cell_type": "markdown",
   "metadata": {},
   "source": [
    "## DatafileDataset class: a pytorch interface to the Datafile class API"
   ]
  },
  {
   "cell_type": "code",
   "execution_count": null,
   "metadata": {
    "tags": []
   },
   "outputs": [],
   "source": [
    "# Time Series Dataset class!\n",
    "\n",
    "# This class with inherit the pytorch Dataset class methods. It will overwrite the `__init__()`, `__len__()` and `__getitem__()` methods to create and embed information about what can be sampled from these files while avoiding masked regions and while only drawing from a unified list of electrodes.\n",
    "import torch\n",
    "from torch.utils.data import Dataset\n",
    "class DatafileDataset(Dataset):\n",
    "\n",
    "    def __init__( self, datafile, src_t, trg_t, step_t, transform=None ):\n",
    "        assert (isinstance(datafile, DataFile) or path.exists(datafile)), 'first argument must be DataFile object or valid path string'\n",
    "        if isinstance(datafile, str):\n",
    "            datafile = DataFile(datafile)\n",
    "        sample_t = src_t + trg_t\n",
    "        src_len = round(src_t*datafile.srate)\n",
    "        trg_len = round(trg_t*datafile.srate)\n",
    "        step_len = round(step_t*datafile.srate)\n",
    "        sample_len = round(sample_t*datafile.srate)\n",
    "        sample_start_idx = np.arange(0,datafile.n_sample-sample_len,step_len) # all candidate starting indices\n",
    "        sample_start_idx_in_mask = [np.any(datafile.data_mask[s_s_idx:s_s_idx+sample_len]) for s_s_idx in sample_start_idx] # sample window is masked\n",
    "        sample_start_idx = sample_start_idx[np.logical_not(sample_start_idx_in_mask)] # remove masked starting indices\n",
    "        sample_start_t = sample_start_idx/datafile.srate\n",
    "\n",
    "        self.datafile = datafile\n",
    "        self.src_len = src_len\n",
    "        self.trg_len = trg_len\n",
    "        self.step_len = step_len\n",
    "        self.sample_len = sample_len\n",
    "        self.src_t = src_t\n",
    "        self.trg_t = trg_t\n",
    "        self.step_t = step_t\n",
    "        self.sample_t = sample_t\n",
    "        self.sample_start_idx = sample_start_idx\n",
    "        self.sample_start_t = sample_start_t\n",
    "        self.transform = transform\n",
    "\n",
    "    def __len__( self ):\n",
    "        return len(self.sample_start_idx)\n",
    "\n",
    "    def __getitem__( self, idx, ch_idx=None ):\n",
    "        sample = self.datafile.read(t_start=self.sample_start_t[idx],t_len=self.sample_t,ch_idx=ch_idx)\n",
    "        src = sample[:,:self.src_len]\n",
    "        trg = sample[:,self.src_len:]\n",
    "        if self.transform:\n",
    "            src = self.transform(src)\n",
    "            trg = self.transform(trg)\n",
    "        return src, trg\n",
    "        "
   ]
  },
  {
   "cell_type": "code",
   "execution_count": null,
   "metadata": {
    "tags": []
   },
   "outputs": [],
   "source": [
    "# let's test one out!\n",
    "test_dfds = DatafileDataset(datafile,src_t=1,trg_t=1,step_t=0.5)\n",
    "print(test_dfds)\n",
    "print(f'number of samples: {len(test_dfds)}')\n",
    "src, trg = test_dfds.__getitem__(10)\n",
    "t_src = np.arange(test_dfds.src_len)/test_dfds.datafile.srate\n",
    "t_trg = np.arange(test_dfds.src_len,test_dfds.sample_len)/test_dfds.datafile.srate\n",
    "plt.plot(t_src,src[11,:],'b',label='src')\n",
    "plt.plot(t_trg,trg[11,:],'r',label='trg')\n",
    "plt.legend(loc=0)\n",
    "plt.xlabel('time (s)')\n",
    "plt.ylabel('amp. ($\\mu$V)')\n",
    "plt.title('Datafile Dataset __getitem__() output')"
   ]
  },
  {
   "cell_type": "markdown",
   "metadata": {},
   "source": [
    "Nice! It works. Now let's create a list of these DatafileDataset objects:"
   ]
  },
  {
   "cell_type": "code",
   "execution_count": null,
   "metadata": {
    "tags": []
   },
   "outputs": [],
   "source": [
    "src_t = 1.0\n",
    "trg_t = 1.0\n",
    "step_t = 2.0\n",
    "DatafileDatasetList = [DatafileDataset(df,src_t,trg_t,step_t) for df in data_file_list]\n",
    "print(DatafileDatasetList)"
   ]
  },
  {
   "cell_type": "markdown",
   "metadata": {},
   "source": [
    "Again, it all works great. I'm starting to like Python! Now let's try creating a janky, uninformed version of our smarter concatenated dataset (to come):"
   ]
  },
  {
   "cell_type": "code",
   "execution_count": null,
   "metadata": {
    "tags": []
   },
   "outputs": [],
   "source": [
    "from torch.utils.data import ConcatDataset\n",
    "DatafileConcatDataset = ConcatDataset(DatafileDatasetList)\n",
    "dfds_samples = [df.__len__() for df in DatafileDatasetList]\n",
    "print(f'samples in each DatafileDataset: {dfds_samples}.sum() = {sum(dfds_samples)}')\n",
    "print(f'samples in DatafileConcatDataset: {DatafileConcatDataset.__len__()}')\n",
    "\n",
    "src, trg = DatafileConcatDataset.__getitem__(30500)\n",
    "t_src = np.arange(test_dfds.src_len)/test_dfds.datafile.srate\n",
    "t_trg = np.arange(test_dfds.src_len,test_dfds.sample_len)/test_dfds.datafile.srate\n",
    "plt.plot(t_src,src[11,:],'b',label='src')\n",
    "plt.plot(t_trg,trg[11,:],'r',label='trg')\n",
    "plt.legend(loc=0)\n",
    "plt.xlabel('time (s)')\n",
    "plt.ylabel('amp. ($\\mu$V)')\n",
    "plt.title('DatafileConcatDataset __getitem__() output')"
   ]
  },
  {
   "cell_type": "markdown",
   "metadata": {},
   "source": [
    "There we go! It works! It all works - a nice interface to draw samples from a collection of files. You can keep that same list of files and reuse it over and over, or use the same list of Datafile objects, to create however many sample size datasets as you need. Easy-peasy!\n",
    "\n",
    "Let's profile the reading times a little bit. A very real use-case will be running though the entire dataset for a training/testing epoch. I'm not sure how pytorch engineers their batch sampling, but a sequential draw of all these samples will be a useful approximation."
   ]
  },
  {
   "cell_type": "code",
   "execution_count": null,
   "metadata": {},
   "outputs": [],
   "source": [
    "t_iter = np.zeros(len(DatafileConcatDataset))\n",
    "for sample_idx in range(len(DatafileConcatDataset)):\n",
    "    t = time.time()\n",
    "    src, trg = DatafileConcatDataset.__getitem__(sample_idx)\n",
    "    t_iter[sample_idx] = time.time() - t\n"
   ]
  },
  {
   "cell_type": "code",
   "execution_count": null,
   "metadata": {
    "tags": []
   },
   "outputs": [],
   "source": [
    "plt.hist(t_iter,100,label='read times');\n",
    "plt.axvline(t_iter.mean(),color='r',label='mean')\n",
    "plt.xscale('linear')\n",
    "plt.xlabel('Read time (s)')\n",
    "plt.ylabel('sample frequency')\n",
    "plt.title('1s sample read time distribution - DataFile class')\n",
    "plt.legend(loc=0)\n",
    "print(f'Mean read time: {t_iter.mean():0.3E}')\n",
    "print(f'Total read time ({n_iter} reads): {t_iter.sum():0.3E}')\n",
    "plt.savefig('read_time_hist.png')"
   ]
  },
  {
   "cell_type": "markdown",
   "metadata": {},
   "source": [
    "Oh no! It doesn't work quite as well with all of this. I can't imagine that the class infrastructure is causing this diversity of read times. I'll have to retry this a little later with data copied to my local drive.\n",
    "\n",
    "Other than that, everything is working pretty well. I don't know how this is impacted by GPU use, but it will most likely slow things down.\n",
    "\n",
    "Anywho: using the classes above, we can go from 0-dataset with the following:"
   ]
  },
  {
   "cell_type": "code",
   "execution_count": null,
   "metadata": {},
   "outputs": [],
   "source": [
    "data_file_list = glob.glob(\"E:\\\\aoLab\\\\Data\\\\WirelessData\\\\Goose_Multiscale_M1\\\\18032*\\\\*\\\\*ECOG*.clfp.dat\")\n",
    "src_t = 1.0\n",
    "trg_t = 1.0\n",
    "step_t = 2.0\n",
    "datafile_concatdataset = ConcatDataset([DatafileDataset(df,src_t,trg_t,step_t) for df in data_file_list])"
   ]
  },
  {
   "cell_type": "markdown",
   "metadata": {},
   "source": [
    "Isn't that slick? 6 lines!\n",
    "\n",
    "...but we aren't done. We need to extend the ConcatDataset to align channel indices between datafile objects. Let's do that with an almost-carbon copy of the original ConcatDataset, but with some added machinery and alignment in the __init__() and __getitem__() methods. The channel alignment will work like this:\n",
    "- Get the intersection of all channels (based on label) present in all DatafileDatasets in the DatafileConcatDataset\n",
    "- For each DatafileDataset $d$:\n",
    "    - samples drawn from these datasets will be masked by the default `datafile.read()` behavior. This is a superset of the intersection and needs to be subsampled.\n",
    "    - the masked channel label list for $d$ is then aligned to the elements in the intersection to get a secondary mask of integer values\n",
    "    - secondary mask is assigned as the $i_d$ element in the DatafileConcatDataset.ch_idx attribute\n",
    "\n",
    "The `__getitem__()` method is then augmented to use this indexing."
   ]
  },
  {
   "cell_type": "code",
   "execution_count": null,
   "metadata": {},
   "outputs": [],
   "source": [
    "class DatafileConcatDataset(Dataset):\n",
    "    r\"\"\"Dataset as a concatenation of multiple datafile datasets.\n",
    "\n",
    "    This class is useful to assemble different existing datafile datasets and draw from the channel indices that they share.\n",
    "\n",
    "    Arguments:\n",
    "        datasets (sequence): List of datafile datasets to be concatenated\n",
    "    \"\"\"\n",
    "\n",
    "    @staticmethod\n",
    "    def cumsum(sequence):\n",
    "        r, s = [], 0\n",
    "        for e in sequence:\n",
    "            l = len(e)\n",
    "            r.append(l + s)\n",
    "            s += l\n",
    "        return r\n",
    "\n",
    "    def __init__(self, datasets):\n",
    "        super(DatafileConcatDataset, self).__init__()\n",
    "        assert len(datasets) > 0, 'datasets should not be an empty iterable'\n",
    "        self.datasets = list(datasets)\n",
    "        for d in self.datasets:\n",
    "            assert not isinstance(d, IterableDataset), \"ConcatDataset does not support IterableDataset\"\n",
    "        self.cumulative_sizes = self.cumsum(self.datasets)\n",
    "        # get intersection of channel labels present in each dataset in self.datasets\n",
    "        file_labels = []\n",
    "        for d in self.datasets:\n",
    "            file_mask_idx = np.arange(d.datafile.n_ch)[~d.datafile.ch_idx] # idx of unmasked channels in this file\n",
    "            file_labels.append(np.array(d.datafile.ch_labels)[file_mask_idx])\n",
    "        self.ch_label = list(set(file_labels[0]).intersection(*file_labels))\n",
    "        # get index list of intersection channel locations in each datafile\n",
    "        ch_sample_idx_list = []\n",
    "        for d in self.datasets:\n",
    "            dataset_ch_sample_idx_list = []\n",
    "            for ch_i_l in self.ch_label:\n",
    "                dataset_ch_sample_idx_list.append(list(np.array(d.datafile.ch_labels)[~np.array(d.datafile.ch_idx)]).index(ch_i_l))\n",
    "            ch_sample_idx_list.append(dataset_ch_sample_idx_list)\n",
    "        self.ch_idx = ch_sample_idx_list\n",
    "        self.n_ch = len(ch_label)\n",
    "\n",
    "    def __len__(self):\n",
    "        return self.cumulative_sizes[-1]\n",
    "\n",
    "    def __getitem__(self, idx):\n",
    "        if idx < 0:\n",
    "            if -idx > len(self):\n",
    "                raise ValueError(\"absolute value of index should not exceed dataset length\")\n",
    "            idx = len(self) + idx\n",
    "        dataset_idx = bisect.bisect_right(self.cumulative_sizes, idx)\n",
    "        if dataset_idx == 0:\n",
    "            sample_idx = idx\n",
    "        else:\n",
    "            sample_idx = idx - self.cumulative_sizes[dataset_idx - 1]\n",
    "        src, trg = self.datasets[dataset_idx].__getitem__(sample_idx)\n",
    "        src = src[self.ch_idx[dataset_idx],:]\n",
    "        trg = trg[self.ch_idx[dataset_idx],:]\n",
    "        return (src, trg)\n",
    "\n",
    "    @property\n",
    "    def cummulative_sizes(self):\n",
    "        warnings.warn(\"cummulative_sizes attribute is renamed to \"\n",
    "                      \"cumulative_sizes\", DeprecationWarning, stacklevel=2)\n",
    "        return self.cumulative_sizes"
   ]
  },
  {
   "cell_type": "markdown",
   "metadata": {},
   "source": [
    "Here we can see two major augmentations to the ConcatDataset class: the definition of `self.ch_label`, `self.ch_idx` and the augmentation of `self.__getitem__(...)`. The first two find the intersection between all available channels across all files and then aligns each datafile dataset's outputs to that set intersection. This makes each sample drawn from this dataset represent the same channels, which allows a single model to be trained on the entire dataset with a coherent channel map."
   ]
  },
  {
   "cell_type": "code",
   "execution_count": null,
   "metadata": {
    "tags": []
   },
   "outputs": [],
   "source": [
    "data_file_list = glob.glob(\"E:\\\\aoLab\\\\Data\\\\WirelessData\\\\Goose_Multiscale_M1\\\\180325\\\\*\\\\*.clfp.dat\")\n",
    "src_t = 1.0\n",
    "trg_t = 1.0\n",
    "step_t = 0.5\n",
    "datafile_concatdataset = DatafileConcatDataset([DatafileDataset(df,src_t,trg_t,step_t) for df in data_file_list])"
   ]
  },
  {
   "cell_type": "code",
   "execution_count": 43,
   "metadata": {
    "tags": []
   },
   "outputs": [
    {
     "output_type": "stream",
     "name": "stdout",
     "text": "Mean read time: 2.455E-04\nTotal read time (128302 reads): 3.150E+01\n"
    },
    {
     "output_type": "display_data",
     "data": {
      "text/plain": "<Figure size 432x288 with 1 Axes>",
      "image/svg+xml": "<?xml version=\"1.0\" encoding=\"utf-8\" standalone=\"no\"?>\r\n<!DOCTYPE svg PUBLIC \"-//W3C//DTD SVG 1.1//EN\"\r\n  \"http://www.w3.org/Graphics/SVG/1.1/DTD/svg11.dtd\">\r\n<!-- Created with matplotlib (https://matplotlib.org/) -->\r\n<svg height=\"277.314375pt\" version=\"1.1\" viewBox=\"0 0 429.025 277.314375\" width=\"429.025pt\" xmlns=\"http://www.w3.org/2000/svg\" xmlns:xlink=\"http://www.w3.org/1999/xlink\">\r\n <metadata>\r\n  <rdf:RDF xmlns:cc=\"http://creativecommons.org/ns#\" xmlns:dc=\"http://purl.org/dc/elements/1.1/\" xmlns:rdf=\"http://www.w3.org/1999/02/22-rdf-syntax-ns#\">\r\n   <cc:Work>\r\n    <dc:type rdf:resource=\"http://purl.org/dc/dcmitype/StillImage\"/>\r\n    <dc:date>2020-09-10T21:46:14.462356</dc:date>\r\n    <dc:format>image/svg+xml</dc:format>\r\n    <dc:creator>\r\n     <cc:Agent>\r\n      <dc:title>Matplotlib v3.3.1, https://matplotlib.org/</dc:title>\r\n     </cc:Agent>\r\n    </dc:creator>\r\n   </cc:Work>\r\n  </rdf:RDF>\r\n </metadata>\r\n <defs>\r\n  <style type=\"text/css\">*{stroke-linecap:butt;stroke-linejoin:round;}</style>\r\n </defs>\r\n <g id=\"figure_1\">\r\n  <g id=\"patch_1\">\r\n   <path d=\"M 0 277.314375 \r\nL 429.025 277.314375 \r\nL 429.025 0 \r\nL 0 0 \r\nz\r\n\" style=\"fill:none;\"/>\r\n  </g>\r\n  <g id=\"axes_1\">\r\n   <g id=\"patch_2\">\r\n    <path d=\"M 66.053125 239.758125 \r\nL 400.853125 239.758125 \r\nL 400.853125 22.318125 \r\nL 66.053125 22.318125 \r\nz\r\n\" style=\"fill:#ffffff;\"/>\r\n   </g>\r\n   <g id=\"patch_3\">\r\n    <path clip-path=\"url(#pc4adf13a34)\" d=\"M 81.271307 239.758125 \r\nL 84.314943 239.758125 \r\nL 84.314943 32.672411 \r\nL 81.271307 32.672411 \r\nz\r\n\" style=\"fill:#1f77b4;\"/>\r\n   </g>\r\n   <g id=\"patch_4\">\r\n    <path clip-path=\"url(#pc4adf13a34)\" d=\"M 84.314943 239.758125 \r\nL 87.35858 239.758125 \r\nL 87.35858 239.743148 \r\nL 84.314943 239.743148 \r\nz\r\n\" style=\"fill:#1f77b4;\"/>\r\n   </g>\r\n   <g id=\"patch_5\">\r\n    <path clip-path=\"url(#pc4adf13a34)\" d=\"M 87.35858 239.758125 \r\nL 90.402216 239.758125 \r\nL 90.402216 239.753846 \r\nL 87.35858 239.753846 \r\nz\r\n\" style=\"fill:#1f77b4;\"/>\r\n   </g>\r\n   <g id=\"patch_6\">\r\n    <path clip-path=\"url(#pc4adf13a34)\" d=\"M 90.402216 239.758125 \r\nL 93.445852 239.758125 \r\nL 93.445852 239.758125 \r\nL 90.402216 239.758125 \r\nz\r\n\" style=\"fill:#1f77b4;\"/>\r\n   </g>\r\n   <g id=\"patch_7\">\r\n    <path clip-path=\"url(#pc4adf13a34)\" d=\"M 93.445852 239.758125 \r\nL 96.489489 239.758125 \r\nL 96.489489 239.751706 \r\nL 93.445852 239.751706 \r\nz\r\n\" style=\"fill:#1f77b4;\"/>\r\n   </g>\r\n   <g id=\"patch_8\">\r\n    <path clip-path=\"url(#pc4adf13a34)\" d=\"M 96.489489 239.758125 \r\nL 99.533125 239.758125 \r\nL 99.533125 239.758125 \r\nL 96.489489 239.758125 \r\nz\r\n\" style=\"fill:#1f77b4;\"/>\r\n   </g>\r\n   <g id=\"patch_9\">\r\n    <path clip-path=\"url(#pc4adf13a34)\" d=\"M 99.533125 239.758125 \r\nL 102.576761 239.758125 \r\nL 102.576761 239.755985 \r\nL 99.533125 239.755985 \r\nz\r\n\" style=\"fill:#1f77b4;\"/>\r\n   </g>\r\n   <g id=\"patch_10\">\r\n    <path clip-path=\"url(#pc4adf13a34)\" d=\"M 102.576761 239.758125 \r\nL 105.620398 239.758125 \r\nL 105.620398 239.758125 \r\nL 102.576761 239.758125 \r\nz\r\n\" style=\"fill:#1f77b4;\"/>\r\n   </g>\r\n   <g id=\"patch_11\">\r\n    <path clip-path=\"url(#pc4adf13a34)\" d=\"M 105.620398 239.758125 \r\nL 108.664034 239.758125 \r\nL 108.664034 239.758125 \r\nL 105.620398 239.758125 \r\nz\r\n\" style=\"fill:#1f77b4;\"/>\r\n   </g>\r\n   <g id=\"patch_12\">\r\n    <path clip-path=\"url(#pc4adf13a34)\" d=\"M 108.664034 239.758125 \r\nL 111.70767 239.758125 \r\nL 111.70767 239.753846 \r\nL 108.664034 239.753846 \r\nz\r\n\" style=\"fill:#1f77b4;\"/>\r\n   </g>\r\n   <g id=\"patch_13\">\r\n    <path clip-path=\"url(#pc4adf13a34)\" d=\"M 111.70767 239.758125 \r\nL 114.751307 239.758125 \r\nL 114.751307 239.755985 \r\nL 111.70767 239.755985 \r\nz\r\n\" style=\"fill:#1f77b4;\"/>\r\n   </g>\r\n   <g id=\"patch_14\">\r\n    <path clip-path=\"url(#pc4adf13a34)\" d=\"M 114.751307 239.758125 \r\nL 117.794943 239.758125 \r\nL 117.794943 239.758125 \r\nL 114.751307 239.758125 \r\nz\r\n\" style=\"fill:#1f77b4;\"/>\r\n   </g>\r\n   <g id=\"patch_15\">\r\n    <path clip-path=\"url(#pc4adf13a34)\" d=\"M 117.794943 239.758125 \r\nL 120.83858 239.758125 \r\nL 120.83858 239.758125 \r\nL 117.794943 239.758125 \r\nz\r\n\" style=\"fill:#1f77b4;\"/>\r\n   </g>\r\n   <g id=\"patch_16\">\r\n    <path clip-path=\"url(#pc4adf13a34)\" d=\"M 120.83858 239.758125 \r\nL 123.882216 239.758125 \r\nL 123.882216 239.758125 \r\nL 120.83858 239.758125 \r\nz\r\n\" style=\"fill:#1f77b4;\"/>\r\n   </g>\r\n   <g id=\"patch_17\">\r\n    <path clip-path=\"url(#pc4adf13a34)\" d=\"M 123.882216 239.758125 \r\nL 126.925852 239.758125 \r\nL 126.925852 239.755985 \r\nL 123.882216 239.755985 \r\nz\r\n\" style=\"fill:#1f77b4;\"/>\r\n   </g>\r\n   <g id=\"patch_18\">\r\n    <path clip-path=\"url(#pc4adf13a34)\" d=\"M 126.925852 239.758125 \r\nL 129.969489 239.758125 \r\nL 129.969489 239.755985 \r\nL 126.925852 239.755985 \r\nz\r\n\" style=\"fill:#1f77b4;\"/>\r\n   </g>\r\n   <g id=\"patch_19\">\r\n    <path clip-path=\"url(#pc4adf13a34)\" d=\"M 129.969489 239.758125 \r\nL 133.013125 239.758125 \r\nL 133.013125 239.758125 \r\nL 129.969489 239.758125 \r\nz\r\n\" style=\"fill:#1f77b4;\"/>\r\n   </g>\r\n   <g id=\"patch_20\">\r\n    <path clip-path=\"url(#pc4adf13a34)\" d=\"M 133.013125 239.758125 \r\nL 136.056761 239.758125 \r\nL 136.056761 239.758125 \r\nL 133.013125 239.758125 \r\nz\r\n\" style=\"fill:#1f77b4;\"/>\r\n   </g>\r\n   <g id=\"patch_21\">\r\n    <path clip-path=\"url(#pc4adf13a34)\" d=\"M 136.056761 239.758125 \r\nL 139.100398 239.758125 \r\nL 139.100398 239.758125 \r\nL 136.056761 239.758125 \r\nz\r\n\" style=\"fill:#1f77b4;\"/>\r\n   </g>\r\n   <g id=\"patch_22\">\r\n    <path clip-path=\"url(#pc4adf13a34)\" d=\"M 139.100398 239.758125 \r\nL 142.144034 239.758125 \r\nL 142.144034 239.758125 \r\nL 139.100398 239.758125 \r\nz\r\n\" style=\"fill:#1f77b4;\"/>\r\n   </g>\r\n   <g id=\"patch_23\">\r\n    <path clip-path=\"url(#pc4adf13a34)\" d=\"M 142.144034 239.758125 \r\nL 145.18767 239.758125 \r\nL 145.18767 239.758125 \r\nL 142.144034 239.758125 \r\nz\r\n\" style=\"fill:#1f77b4;\"/>\r\n   </g>\r\n   <g id=\"patch_24\">\r\n    <path clip-path=\"url(#pc4adf13a34)\" d=\"M 145.18767 239.758125 \r\nL 148.231307 239.758125 \r\nL 148.231307 239.758125 \r\nL 145.18767 239.758125 \r\nz\r\n\" style=\"fill:#1f77b4;\"/>\r\n   </g>\r\n   <g id=\"patch_25\">\r\n    <path clip-path=\"url(#pc4adf13a34)\" d=\"M 148.231307 239.758125 \r\nL 151.274943 239.758125 \r\nL 151.274943 239.758125 \r\nL 148.231307 239.758125 \r\nz\r\n\" style=\"fill:#1f77b4;\"/>\r\n   </g>\r\n   <g id=\"patch_26\">\r\n    <path clip-path=\"url(#pc4adf13a34)\" d=\"M 151.274943 239.758125 \r\nL 154.31858 239.758125 \r\nL 154.31858 239.758125 \r\nL 151.274943 239.758125 \r\nz\r\n\" style=\"fill:#1f77b4;\"/>\r\n   </g>\r\n   <g id=\"patch_27\">\r\n    <path clip-path=\"url(#pc4adf13a34)\" d=\"M 154.31858 239.758125 \r\nL 157.362216 239.758125 \r\nL 157.362216 239.758125 \r\nL 154.31858 239.758125 \r\nz\r\n\" style=\"fill:#1f77b4;\"/>\r\n   </g>\r\n   <g id=\"patch_28\">\r\n    <path clip-path=\"url(#pc4adf13a34)\" d=\"M 157.362216 239.758125 \r\nL 160.405852 239.758125 \r\nL 160.405852 239.758125 \r\nL 157.362216 239.758125 \r\nz\r\n\" style=\"fill:#1f77b4;\"/>\r\n   </g>\r\n   <g id=\"patch_29\">\r\n    <path clip-path=\"url(#pc4adf13a34)\" d=\"M 160.405852 239.758125 \r\nL 163.449489 239.758125 \r\nL 163.449489 239.755985 \r\nL 160.405852 239.755985 \r\nz\r\n\" style=\"fill:#1f77b4;\"/>\r\n   </g>\r\n   <g id=\"patch_30\">\r\n    <path clip-path=\"url(#pc4adf13a34)\" d=\"M 163.449489 239.758125 \r\nL 166.493125 239.758125 \r\nL 166.493125 239.758125 \r\nL 163.449489 239.758125 \r\nz\r\n\" style=\"fill:#1f77b4;\"/>\r\n   </g>\r\n   <g id=\"patch_31\">\r\n    <path clip-path=\"url(#pc4adf13a34)\" d=\"M 166.493125 239.758125 \r\nL 169.536761 239.758125 \r\nL 169.536761 239.758125 \r\nL 166.493125 239.758125 \r\nz\r\n\" style=\"fill:#1f77b4;\"/>\r\n   </g>\r\n   <g id=\"patch_32\">\r\n    <path clip-path=\"url(#pc4adf13a34)\" d=\"M 169.536761 239.758125 \r\nL 172.580398 239.758125 \r\nL 172.580398 239.758125 \r\nL 169.536761 239.758125 \r\nz\r\n\" style=\"fill:#1f77b4;\"/>\r\n   </g>\r\n   <g id=\"patch_33\">\r\n    <path clip-path=\"url(#pc4adf13a34)\" d=\"M 172.580398 239.758125 \r\nL 175.624034 239.758125 \r\nL 175.624034 239.758125 \r\nL 172.580398 239.758125 \r\nz\r\n\" style=\"fill:#1f77b4;\"/>\r\n   </g>\r\n   <g id=\"patch_34\">\r\n    <path clip-path=\"url(#pc4adf13a34)\" d=\"M 175.624034 239.758125 \r\nL 178.66767 239.758125 \r\nL 178.66767 239.758125 \r\nL 175.624034 239.758125 \r\nz\r\n\" style=\"fill:#1f77b4;\"/>\r\n   </g>\r\n   <g id=\"patch_35\">\r\n    <path clip-path=\"url(#pc4adf13a34)\" d=\"M 178.66767 239.758125 \r\nL 181.711307 239.758125 \r\nL 181.711307 239.755985 \r\nL 178.66767 239.755985 \r\nz\r\n\" style=\"fill:#1f77b4;\"/>\r\n   </g>\r\n   <g id=\"patch_36\">\r\n    <path clip-path=\"url(#pc4adf13a34)\" d=\"M 181.711307 239.758125 \r\nL 184.754943 239.758125 \r\nL 184.754943 239.758125 \r\nL 181.711307 239.758125 \r\nz\r\n\" style=\"fill:#1f77b4;\"/>\r\n   </g>\r\n   <g id=\"patch_37\">\r\n    <path clip-path=\"url(#pc4adf13a34)\" d=\"M 184.754943 239.758125 \r\nL 187.79858 239.758125 \r\nL 187.79858 239.755985 \r\nL 184.754943 239.755985 \r\nz\r\n\" style=\"fill:#1f77b4;\"/>\r\n   </g>\r\n   <g id=\"patch_38\">\r\n    <path clip-path=\"url(#pc4adf13a34)\" d=\"M 187.79858 239.758125 \r\nL 190.842216 239.758125 \r\nL 190.842216 239.758125 \r\nL 187.79858 239.758125 \r\nz\r\n\" style=\"fill:#1f77b4;\"/>\r\n   </g>\r\n   <g id=\"patch_39\">\r\n    <path clip-path=\"url(#pc4adf13a34)\" d=\"M 190.842216 239.758125 \r\nL 193.885852 239.758125 \r\nL 193.885852 239.755985 \r\nL 190.842216 239.755985 \r\nz\r\n\" style=\"fill:#1f77b4;\"/>\r\n   </g>\r\n   <g id=\"patch_40\">\r\n    <path clip-path=\"url(#pc4adf13a34)\" d=\"M 193.885852 239.758125 \r\nL 196.929489 239.758125 \r\nL 196.929489 239.758125 \r\nL 193.885852 239.758125 \r\nz\r\n\" style=\"fill:#1f77b4;\"/>\r\n   </g>\r\n   <g id=\"patch_41\">\r\n    <path clip-path=\"url(#pc4adf13a34)\" d=\"M 196.929489 239.758125 \r\nL 199.973125 239.758125 \r\nL 199.973125 239.758125 \r\nL 196.929489 239.758125 \r\nz\r\n\" style=\"fill:#1f77b4;\"/>\r\n   </g>\r\n   <g id=\"patch_42\">\r\n    <path clip-path=\"url(#pc4adf13a34)\" d=\"M 199.973125 239.758125 \r\nL 203.016761 239.758125 \r\nL 203.016761 239.758125 \r\nL 199.973125 239.758125 \r\nz\r\n\" style=\"fill:#1f77b4;\"/>\r\n   </g>\r\n   <g id=\"patch_43\">\r\n    <path clip-path=\"url(#pc4adf13a34)\" d=\"M 203.016761 239.758125 \r\nL 206.060398 239.758125 \r\nL 206.060398 239.751706 \r\nL 203.016761 239.751706 \r\nz\r\n\" style=\"fill:#1f77b4;\"/>\r\n   </g>\r\n   <g id=\"patch_44\">\r\n    <path clip-path=\"url(#pc4adf13a34)\" d=\"M 206.060398 239.758125 \r\nL 209.104034 239.758125 \r\nL 209.104034 239.743148 \r\nL 206.060398 239.743148 \r\nz\r\n\" style=\"fill:#1f77b4;\"/>\r\n   </g>\r\n   <g id=\"patch_45\">\r\n    <path clip-path=\"url(#pc4adf13a34)\" d=\"M 209.104034 239.758125 \r\nL 212.14767 239.758125 \r\nL 212.14767 239.73673 \r\nL 209.104034 239.73673 \r\nz\r\n\" style=\"fill:#1f77b4;\"/>\r\n   </g>\r\n   <g id=\"patch_46\">\r\n    <path clip-path=\"url(#pc4adf13a34)\" d=\"M 212.14767 239.758125 \r\nL 215.191307 239.758125 \r\nL 215.191307 239.755985 \r\nL 212.14767 239.755985 \r\nz\r\n\" style=\"fill:#1f77b4;\"/>\r\n   </g>\r\n   <g id=\"patch_47\">\r\n    <path clip-path=\"url(#pc4adf13a34)\" d=\"M 215.191307 239.758125 \r\nL 218.234943 239.758125 \r\nL 218.234943 239.751706 \r\nL 215.191307 239.751706 \r\nz\r\n\" style=\"fill:#1f77b4;\"/>\r\n   </g>\r\n   <g id=\"patch_48\">\r\n    <path clip-path=\"url(#pc4adf13a34)\" d=\"M 218.234943 239.758125 \r\nL 221.27858 239.758125 \r\nL 221.27858 239.738869 \r\nL 218.234943 239.738869 \r\nz\r\n\" style=\"fill:#1f77b4;\"/>\r\n   </g>\r\n   <g id=\"patch_49\">\r\n    <path clip-path=\"url(#pc4adf13a34)\" d=\"M 221.27858 239.758125 \r\nL 224.322216 239.758125 \r\nL 224.322216 239.751706 \r\nL 221.27858 239.751706 \r\nz\r\n\" style=\"fill:#1f77b4;\"/>\r\n   </g>\r\n   <g id=\"patch_50\">\r\n    <path clip-path=\"url(#pc4adf13a34)\" d=\"M 224.322216 239.758125 \r\nL 227.365852 239.758125 \r\nL 227.365852 239.728172 \r\nL 224.322216 239.728172 \r\nz\r\n\" style=\"fill:#1f77b4;\"/>\r\n   </g>\r\n   <g id=\"patch_51\">\r\n    <path clip-path=\"url(#pc4adf13a34)\" d=\"M 227.365852 239.758125 \r\nL 230.409489 239.758125 \r\nL 230.409489 239.625475 \r\nL 227.365852 239.625475 \r\nz\r\n\" style=\"fill:#1f77b4;\"/>\r\n   </g>\r\n   <g id=\"patch_52\">\r\n    <path clip-path=\"url(#pc4adf13a34)\" d=\"M 230.409489 239.758125 \r\nL 233.453125 239.758125 \r\nL 233.453125 189.734145 \r\nL 230.409489 189.734145 \r\nz\r\n\" style=\"fill:#1f77b4;\"/>\r\n   </g>\r\n   <g id=\"patch_53\">\r\n    <path clip-path=\"url(#pc4adf13a34)\" d=\"M 233.453125 239.758125 \r\nL 236.496761 239.758125 \r\nL 236.496761 222.875219 \r\nL 233.453125 222.875219 \r\nz\r\n\" style=\"fill:#1f77b4;\"/>\r\n   </g>\r\n   <g id=\"patch_54\">\r\n    <path clip-path=\"url(#pc4adf13a34)\" d=\"M 236.496761 239.758125 \r\nL 239.540398 239.758125 \r\nL 239.540398 239.625475 \r\nL 236.496761 239.625475 \r\nz\r\n\" style=\"fill:#1f77b4;\"/>\r\n   </g>\r\n   <g id=\"patch_55\">\r\n    <path clip-path=\"url(#pc4adf13a34)\" d=\"M 239.540398 239.758125 \r\nL 242.584034 239.758125 \r\nL 242.584034 239.73673 \r\nL 239.540398 239.73673 \r\nz\r\n\" style=\"fill:#1f77b4;\"/>\r\n   </g>\r\n   <g id=\"patch_56\">\r\n    <path clip-path=\"url(#pc4adf13a34)\" d=\"M 242.584034 239.758125 \r\nL 245.62767 239.758125 \r\nL 245.62767 239.751706 \r\nL 242.584034 239.751706 \r\nz\r\n\" style=\"fill:#1f77b4;\"/>\r\n   </g>\r\n   <g id=\"patch_57\">\r\n    <path clip-path=\"url(#pc4adf13a34)\" d=\"M 245.62767 239.758125 \r\nL 248.671307 239.758125 \r\nL 248.671307 239.747427 \r\nL 245.62767 239.747427 \r\nz\r\n\" style=\"fill:#1f77b4;\"/>\r\n   </g>\r\n   <g id=\"patch_58\">\r\n    <path clip-path=\"url(#pc4adf13a34)\" d=\"M 248.671307 239.758125 \r\nL 251.714943 239.758125 \r\nL 251.714943 239.751706 \r\nL 248.671307 239.751706 \r\nz\r\n\" style=\"fill:#1f77b4;\"/>\r\n   </g>\r\n   <g id=\"patch_59\">\r\n    <path clip-path=\"url(#pc4adf13a34)\" d=\"M 251.714943 239.758125 \r\nL 254.75858 239.758125 \r\nL 254.75858 239.758125 \r\nL 251.714943 239.758125 \r\nz\r\n\" style=\"fill:#1f77b4;\"/>\r\n   </g>\r\n   <g id=\"patch_60\">\r\n    <path clip-path=\"url(#pc4adf13a34)\" d=\"M 254.75858 239.758125 \r\nL 257.802216 239.758125 \r\nL 257.802216 239.738869 \r\nL 254.75858 239.738869 \r\nz\r\n\" style=\"fill:#1f77b4;\"/>\r\n   </g>\r\n   <g id=\"patch_61\">\r\n    <path clip-path=\"url(#pc4adf13a34)\" d=\"M 257.802216 239.758125 \r\nL 260.845852 239.758125 \r\nL 260.845852 239.743148 \r\nL 257.802216 239.743148 \r\nz\r\n\" style=\"fill:#1f77b4;\"/>\r\n   </g>\r\n   <g id=\"patch_62\">\r\n    <path clip-path=\"url(#pc4adf13a34)\" d=\"M 260.845852 239.758125 \r\nL 263.889489 239.758125 \r\nL 263.889489 239.753846 \r\nL 260.845852 239.753846 \r\nz\r\n\" style=\"fill:#1f77b4;\"/>\r\n   </g>\r\n   <g id=\"patch_63\">\r\n    <path clip-path=\"url(#pc4adf13a34)\" d=\"M 263.889489 239.758125 \r\nL 266.933125 239.758125 \r\nL 266.933125 239.758125 \r\nL 263.889489 239.758125 \r\nz\r\n\" style=\"fill:#1f77b4;\"/>\r\n   </g>\r\n   <g id=\"patch_64\">\r\n    <path clip-path=\"url(#pc4adf13a34)\" d=\"M 266.933125 239.758125 \r\nL 269.976761 239.758125 \r\nL 269.976761 239.758125 \r\nL 266.933125 239.758125 \r\nz\r\n\" style=\"fill:#1f77b4;\"/>\r\n   </g>\r\n   <g id=\"patch_65\">\r\n    <path clip-path=\"url(#pc4adf13a34)\" d=\"M 269.976761 239.758125 \r\nL 273.020398 239.758125 \r\nL 273.020398 239.758125 \r\nL 269.976761 239.758125 \r\nz\r\n\" style=\"fill:#1f77b4;\"/>\r\n   </g>\r\n   <g id=\"patch_66\">\r\n    <path clip-path=\"url(#pc4adf13a34)\" d=\"M 273.020398 239.758125 \r\nL 276.064034 239.758125 \r\nL 276.064034 239.758125 \r\nL 273.020398 239.758125 \r\nz\r\n\" style=\"fill:#1f77b4;\"/>\r\n   </g>\r\n   <g id=\"patch_67\">\r\n    <path clip-path=\"url(#pc4adf13a34)\" d=\"M 276.064034 239.758125 \r\nL 279.10767 239.758125 \r\nL 279.10767 239.758125 \r\nL 276.064034 239.758125 \r\nz\r\n\" style=\"fill:#1f77b4;\"/>\r\n   </g>\r\n   <g id=\"patch_68\">\r\n    <path clip-path=\"url(#pc4adf13a34)\" d=\"M 279.10767 239.758125 \r\nL 282.151307 239.758125 \r\nL 282.151307 239.758125 \r\nL 279.10767 239.758125 \r\nz\r\n\" style=\"fill:#1f77b4;\"/>\r\n   </g>\r\n   <g id=\"patch_69\">\r\n    <path clip-path=\"url(#pc4adf13a34)\" d=\"M 282.151307 239.758125 \r\nL 285.194943 239.758125 \r\nL 285.194943 239.758125 \r\nL 282.151307 239.758125 \r\nz\r\n\" style=\"fill:#1f77b4;\"/>\r\n   </g>\r\n   <g id=\"patch_70\">\r\n    <path clip-path=\"url(#pc4adf13a34)\" d=\"M 285.194943 239.758125 \r\nL 288.23858 239.758125 \r\nL 288.23858 239.758125 \r\nL 285.194943 239.758125 \r\nz\r\n\" style=\"fill:#1f77b4;\"/>\r\n   </g>\r\n   <g id=\"patch_71\">\r\n    <path clip-path=\"url(#pc4adf13a34)\" d=\"M 288.23858 239.758125 \r\nL 291.282216 239.758125 \r\nL 291.282216 239.758125 \r\nL 288.23858 239.758125 \r\nz\r\n\" style=\"fill:#1f77b4;\"/>\r\n   </g>\r\n   <g id=\"patch_72\">\r\n    <path clip-path=\"url(#pc4adf13a34)\" d=\"M 291.282216 239.758125 \r\nL 294.325852 239.758125 \r\nL 294.325852 239.758125 \r\nL 291.282216 239.758125 \r\nz\r\n\" style=\"fill:#1f77b4;\"/>\r\n   </g>\r\n   <g id=\"patch_73\">\r\n    <path clip-path=\"url(#pc4adf13a34)\" d=\"M 294.325852 239.758125 \r\nL 297.369489 239.758125 \r\nL 297.369489 239.758125 \r\nL 294.325852 239.758125 \r\nz\r\n\" style=\"fill:#1f77b4;\"/>\r\n   </g>\r\n   <g id=\"patch_74\">\r\n    <path clip-path=\"url(#pc4adf13a34)\" d=\"M 297.369489 239.758125 \r\nL 300.413125 239.758125 \r\nL 300.413125 239.758125 \r\nL 297.369489 239.758125 \r\nz\r\n\" style=\"fill:#1f77b4;\"/>\r\n   </g>\r\n   <g id=\"patch_75\">\r\n    <path clip-path=\"url(#pc4adf13a34)\" d=\"M 300.413125 239.758125 \r\nL 303.456761 239.758125 \r\nL 303.456761 239.758125 \r\nL 300.413125 239.758125 \r\nz\r\n\" style=\"fill:#1f77b4;\"/>\r\n   </g>\r\n   <g id=\"patch_76\">\r\n    <path clip-path=\"url(#pc4adf13a34)\" d=\"M 303.456761 239.758125 \r\nL 306.500398 239.758125 \r\nL 306.500398 239.758125 \r\nL 303.456761 239.758125 \r\nz\r\n\" style=\"fill:#1f77b4;\"/>\r\n   </g>\r\n   <g id=\"patch_77\">\r\n    <path clip-path=\"url(#pc4adf13a34)\" d=\"M 306.500398 239.758125 \r\nL 309.544034 239.758125 \r\nL 309.544034 239.755985 \r\nL 306.500398 239.755985 \r\nz\r\n\" style=\"fill:#1f77b4;\"/>\r\n   </g>\r\n   <g id=\"patch_78\">\r\n    <path clip-path=\"url(#pc4adf13a34)\" d=\"M 309.544034 239.758125 \r\nL 312.58767 239.758125 \r\nL 312.58767 239.755985 \r\nL 309.544034 239.755985 \r\nz\r\n\" style=\"fill:#1f77b4;\"/>\r\n   </g>\r\n   <g id=\"patch_79\">\r\n    <path clip-path=\"url(#pc4adf13a34)\" d=\"M 312.58767 239.758125 \r\nL 315.631307 239.758125 \r\nL 315.631307 239.758125 \r\nL 312.58767 239.758125 \r\nz\r\n\" style=\"fill:#1f77b4;\"/>\r\n   </g>\r\n   <g id=\"patch_80\">\r\n    <path clip-path=\"url(#pc4adf13a34)\" d=\"M 315.631307 239.758125 \r\nL 318.674943 239.758125 \r\nL 318.674943 239.758125 \r\nL 315.631307 239.758125 \r\nz\r\n\" style=\"fill:#1f77b4;\"/>\r\n   </g>\r\n   <g id=\"patch_81\">\r\n    <path clip-path=\"url(#pc4adf13a34)\" d=\"M 318.674943 239.758125 \r\nL 321.71858 239.758125 \r\nL 321.71858 239.758125 \r\nL 318.674943 239.758125 \r\nz\r\n\" style=\"fill:#1f77b4;\"/>\r\n   </g>\r\n   <g id=\"patch_82\">\r\n    <path clip-path=\"url(#pc4adf13a34)\" d=\"M 321.71858 239.758125 \r\nL 324.762216 239.758125 \r\nL 324.762216 239.758125 \r\nL 321.71858 239.758125 \r\nz\r\n\" style=\"fill:#1f77b4;\"/>\r\n   </g>\r\n   <g id=\"patch_83\">\r\n    <path clip-path=\"url(#pc4adf13a34)\" d=\"M 324.762216 239.758125 \r\nL 327.805852 239.758125 \r\nL 327.805852 239.758125 \r\nL 324.762216 239.758125 \r\nz\r\n\" style=\"fill:#1f77b4;\"/>\r\n   </g>\r\n   <g id=\"patch_84\">\r\n    <path clip-path=\"url(#pc4adf13a34)\" d=\"M 327.805852 239.758125 \r\nL 330.849489 239.758125 \r\nL 330.849489 239.758125 \r\nL 327.805852 239.758125 \r\nz\r\n\" style=\"fill:#1f77b4;\"/>\r\n   </g>\r\n   <g id=\"patch_85\">\r\n    <path clip-path=\"url(#pc4adf13a34)\" d=\"M 330.849489 239.758125 \r\nL 333.893125 239.758125 \r\nL 333.893125 239.758125 \r\nL 330.849489 239.758125 \r\nz\r\n\" style=\"fill:#1f77b4;\"/>\r\n   </g>\r\n   <g id=\"patch_86\">\r\n    <path clip-path=\"url(#pc4adf13a34)\" d=\"M 333.893125 239.758125 \r\nL 336.936761 239.758125 \r\nL 336.936761 239.758125 \r\nL 333.893125 239.758125 \r\nz\r\n\" style=\"fill:#1f77b4;\"/>\r\n   </g>\r\n   <g id=\"patch_87\">\r\n    <path clip-path=\"url(#pc4adf13a34)\" d=\"M 336.936761 239.758125 \r\nL 339.980398 239.758125 \r\nL 339.980398 239.758125 \r\nL 336.936761 239.758125 \r\nz\r\n\" style=\"fill:#1f77b4;\"/>\r\n   </g>\r\n   <g id=\"patch_88\">\r\n    <path clip-path=\"url(#pc4adf13a34)\" d=\"M 339.980398 239.758125 \r\nL 343.024034 239.758125 \r\nL 343.024034 239.758125 \r\nL 339.980398 239.758125 \r\nz\r\n\" style=\"fill:#1f77b4;\"/>\r\n   </g>\r\n   <g id=\"patch_89\">\r\n    <path clip-path=\"url(#pc4adf13a34)\" d=\"M 343.024034 239.758125 \r\nL 346.06767 239.758125 \r\nL 346.06767 239.758125 \r\nL 343.024034 239.758125 \r\nz\r\n\" style=\"fill:#1f77b4;\"/>\r\n   </g>\r\n   <g id=\"patch_90\">\r\n    <path clip-path=\"url(#pc4adf13a34)\" d=\"M 346.06767 239.758125 \r\nL 349.111307 239.758125 \r\nL 349.111307 239.758125 \r\nL 346.06767 239.758125 \r\nz\r\n\" style=\"fill:#1f77b4;\"/>\r\n   </g>\r\n   <g id=\"patch_91\">\r\n    <path clip-path=\"url(#pc4adf13a34)\" d=\"M 349.111307 239.758125 \r\nL 352.154943 239.758125 \r\nL 352.154943 239.758125 \r\nL 349.111307 239.758125 \r\nz\r\n\" style=\"fill:#1f77b4;\"/>\r\n   </g>\r\n   <g id=\"patch_92\">\r\n    <path clip-path=\"url(#pc4adf13a34)\" d=\"M 352.154943 239.758125 \r\nL 355.19858 239.758125 \r\nL 355.19858 239.758125 \r\nL 352.154943 239.758125 \r\nz\r\n\" style=\"fill:#1f77b4;\"/>\r\n   </g>\r\n   <g id=\"patch_93\">\r\n    <path clip-path=\"url(#pc4adf13a34)\" d=\"M 355.19858 239.758125 \r\nL 358.242216 239.758125 \r\nL 358.242216 239.758125 \r\nL 355.19858 239.758125 \r\nz\r\n\" style=\"fill:#1f77b4;\"/>\r\n   </g>\r\n   <g id=\"patch_94\">\r\n    <path clip-path=\"url(#pc4adf13a34)\" d=\"M 358.242216 239.758125 \r\nL 361.285852 239.758125 \r\nL 361.285852 239.758125 \r\nL 358.242216 239.758125 \r\nz\r\n\" style=\"fill:#1f77b4;\"/>\r\n   </g>\r\n   <g id=\"patch_95\">\r\n    <path clip-path=\"url(#pc4adf13a34)\" d=\"M 361.285852 239.758125 \r\nL 364.329489 239.758125 \r\nL 364.329489 239.758125 \r\nL 361.285852 239.758125 \r\nz\r\n\" style=\"fill:#1f77b4;\"/>\r\n   </g>\r\n   <g id=\"patch_96\">\r\n    <path clip-path=\"url(#pc4adf13a34)\" d=\"M 364.329489 239.758125 \r\nL 367.373125 239.758125 \r\nL 367.373125 239.758125 \r\nL 364.329489 239.758125 \r\nz\r\n\" style=\"fill:#1f77b4;\"/>\r\n   </g>\r\n   <g id=\"patch_97\">\r\n    <path clip-path=\"url(#pc4adf13a34)\" d=\"M 367.373125 239.758125 \r\nL 370.416761 239.758125 \r\nL 370.416761 239.758125 \r\nL 367.373125 239.758125 \r\nz\r\n\" style=\"fill:#1f77b4;\"/>\r\n   </g>\r\n   <g id=\"patch_98\">\r\n    <path clip-path=\"url(#pc4adf13a34)\" d=\"M 370.416761 239.758125 \r\nL 373.460398 239.758125 \r\nL 373.460398 239.758125 \r\nL 370.416761 239.758125 \r\nz\r\n\" style=\"fill:#1f77b4;\"/>\r\n   </g>\r\n   <g id=\"patch_99\">\r\n    <path clip-path=\"url(#pc4adf13a34)\" d=\"M 373.460398 239.758125 \r\nL 376.504034 239.758125 \r\nL 376.504034 239.758125 \r\nL 373.460398 239.758125 \r\nz\r\n\" style=\"fill:#1f77b4;\"/>\r\n   </g>\r\n   <g id=\"patch_100\">\r\n    <path clip-path=\"url(#pc4adf13a34)\" d=\"M 376.504034 239.758125 \r\nL 379.54767 239.758125 \r\nL 379.54767 239.758125 \r\nL 376.504034 239.758125 \r\nz\r\n\" style=\"fill:#1f77b4;\"/>\r\n   </g>\r\n   <g id=\"patch_101\">\r\n    <path clip-path=\"url(#pc4adf13a34)\" d=\"M 379.54767 239.758125 \r\nL 382.591307 239.758125 \r\nL 382.591307 239.758125 \r\nL 379.54767 239.758125 \r\nz\r\n\" style=\"fill:#1f77b4;\"/>\r\n   </g>\r\n   <g id=\"patch_102\">\r\n    <path clip-path=\"url(#pc4adf13a34)\" d=\"M 382.591307 239.758125 \r\nL 385.634943 239.758125 \r\nL 385.634943 239.753846 \r\nL 382.591307 239.753846 \r\nz\r\n\" style=\"fill:#1f77b4;\"/>\r\n   </g>\r\n   <g id=\"matplotlib.axis_1\">\r\n    <g id=\"xtick_1\">\r\n     <g id=\"line2d_1\">\r\n      <defs>\r\n       <path d=\"M 0 0 \r\nL 0 3.5 \r\n\" id=\"m36fc4c741d\" style=\"stroke:#000000;stroke-width:0.8;\"/>\r\n      </defs>\r\n      <g>\r\n       <use style=\"stroke:#000000;stroke-width:0.8;\" x=\"81.271307\" xlink:href=\"#m36fc4c741d\" y=\"239.758125\"/>\r\n      </g>\r\n     </g>\r\n     <g id=\"text_1\">\r\n      <!-- 0.00000 -->\r\n      <g transform=\"translate(60.594744 254.356562)scale(0.1 -0.1)\">\r\n       <defs>\r\n        <path d=\"M 31.78125 66.40625 \r\nQ 24.171875 66.40625 20.328125 58.90625 \r\nQ 16.5 51.421875 16.5 36.375 \r\nQ 16.5 21.390625 20.328125 13.890625 \r\nQ 24.171875 6.390625 31.78125 6.390625 \r\nQ 39.453125 6.390625 43.28125 13.890625 \r\nQ 47.125 21.390625 47.125 36.375 \r\nQ 47.125 51.421875 43.28125 58.90625 \r\nQ 39.453125 66.40625 31.78125 66.40625 \r\nz\r\nM 31.78125 74.21875 \r\nQ 44.046875 74.21875 50.515625 64.515625 \r\nQ 56.984375 54.828125 56.984375 36.375 \r\nQ 56.984375 17.96875 50.515625 8.265625 \r\nQ 44.046875 -1.421875 31.78125 -1.421875 \r\nQ 19.53125 -1.421875 13.0625 8.265625 \r\nQ 6.59375 17.96875 6.59375 36.375 \r\nQ 6.59375 54.828125 13.0625 64.515625 \r\nQ 19.53125 74.21875 31.78125 74.21875 \r\nz\r\n\" id=\"DejaVuSans-48\"/>\r\n        <path d=\"M 10.6875 12.40625 \r\nL 21 12.40625 \r\nL 21 0 \r\nL 10.6875 0 \r\nz\r\n\" id=\"DejaVuSans-46\"/>\r\n       </defs>\r\n       <use xlink:href=\"#DejaVuSans-48\"/>\r\n       <use x=\"63.623047\" xlink:href=\"#DejaVuSans-46\"/>\r\n       <use x=\"95.410156\" xlink:href=\"#DejaVuSans-48\"/>\r\n       <use x=\"159.033203\" xlink:href=\"#DejaVuSans-48\"/>\r\n       <use x=\"222.65625\" xlink:href=\"#DejaVuSans-48\"/>\r\n       <use x=\"286.279297\" xlink:href=\"#DejaVuSans-48\"/>\r\n       <use x=\"349.902344\" xlink:href=\"#DejaVuSans-48\"/>\r\n      </g>\r\n     </g>\r\n    </g>\r\n    <g id=\"xtick_2\">\r\n     <g id=\"line2d_2\">\r\n      <g>\r\n       <use style=\"stroke:#000000;stroke-width:0.8;\" x=\"119.287793\" xlink:href=\"#m36fc4c741d\" y=\"239.758125\"/>\r\n      </g>\r\n     </g>\r\n     <g id=\"text_2\">\r\n      <!-- 0.00025 -->\r\n      <g transform=\"translate(98.611231 254.356562)scale(0.1 -0.1)\">\r\n       <defs>\r\n        <path d=\"M 19.1875 8.296875 \r\nL 53.609375 8.296875 \r\nL 53.609375 0 \r\nL 7.328125 0 \r\nL 7.328125 8.296875 \r\nQ 12.9375 14.109375 22.625 23.890625 \r\nQ 32.328125 33.6875 34.8125 36.53125 \r\nQ 39.546875 41.84375 41.421875 45.53125 \r\nQ 43.3125 49.21875 43.3125 52.78125 \r\nQ 43.3125 58.59375 39.234375 62.25 \r\nQ 35.15625 65.921875 28.609375 65.921875 \r\nQ 23.96875 65.921875 18.8125 64.3125 \r\nQ 13.671875 62.703125 7.8125 59.421875 \r\nL 7.8125 69.390625 \r\nQ 13.765625 71.78125 18.9375 73 \r\nQ 24.125 74.21875 28.421875 74.21875 \r\nQ 39.75 74.21875 46.484375 68.546875 \r\nQ 53.21875 62.890625 53.21875 53.421875 \r\nQ 53.21875 48.921875 51.53125 44.890625 \r\nQ 49.859375 40.875 45.40625 35.40625 \r\nQ 44.1875 33.984375 37.640625 27.21875 \r\nQ 31.109375 20.453125 19.1875 8.296875 \r\nz\r\n\" id=\"DejaVuSans-50\"/>\r\n        <path d=\"M 10.796875 72.90625 \r\nL 49.515625 72.90625 \r\nL 49.515625 64.59375 \r\nL 19.828125 64.59375 \r\nL 19.828125 46.734375 \r\nQ 21.96875 47.46875 24.109375 47.828125 \r\nQ 26.265625 48.1875 28.421875 48.1875 \r\nQ 40.625 48.1875 47.75 41.5 \r\nQ 54.890625 34.8125 54.890625 23.390625 \r\nQ 54.890625 11.625 47.5625 5.09375 \r\nQ 40.234375 -1.421875 26.90625 -1.421875 \r\nQ 22.3125 -1.421875 17.546875 -0.640625 \r\nQ 12.796875 0.140625 7.71875 1.703125 \r\nL 7.71875 11.625 \r\nQ 12.109375 9.234375 16.796875 8.0625 \r\nQ 21.484375 6.890625 26.703125 6.890625 \r\nQ 35.15625 6.890625 40.078125 11.328125 \r\nQ 45.015625 15.765625 45.015625 23.390625 \r\nQ 45.015625 31 40.078125 35.4375 \r\nQ 35.15625 39.890625 26.703125 39.890625 \r\nQ 22.75 39.890625 18.8125 39.015625 \r\nQ 14.890625 38.140625 10.796875 36.28125 \r\nz\r\n\" id=\"DejaVuSans-53\"/>\r\n       </defs>\r\n       <use xlink:href=\"#DejaVuSans-48\"/>\r\n       <use x=\"63.623047\" xlink:href=\"#DejaVuSans-46\"/>\r\n       <use x=\"95.410156\" xlink:href=\"#DejaVuSans-48\"/>\r\n       <use x=\"159.033203\" xlink:href=\"#DejaVuSans-48\"/>\r\n       <use x=\"222.65625\" xlink:href=\"#DejaVuSans-48\"/>\r\n       <use x=\"286.279297\" xlink:href=\"#DejaVuSans-50\"/>\r\n       <use x=\"349.902344\" xlink:href=\"#DejaVuSans-53\"/>\r\n      </g>\r\n     </g>\r\n    </g>\r\n    <g id=\"xtick_3\">\r\n     <g id=\"line2d_3\">\r\n      <g>\r\n       <use style=\"stroke:#000000;stroke-width:0.8;\" x=\"157.30428\" xlink:href=\"#m36fc4c741d\" y=\"239.758125\"/>\r\n      </g>\r\n     </g>\r\n     <g id=\"text_3\">\r\n      <!-- 0.00050 -->\r\n      <g transform=\"translate(136.627717 254.356562)scale(0.1 -0.1)\">\r\n       <use xlink:href=\"#DejaVuSans-48\"/>\r\n       <use x=\"63.623047\" xlink:href=\"#DejaVuSans-46\"/>\r\n       <use x=\"95.410156\" xlink:href=\"#DejaVuSans-48\"/>\r\n       <use x=\"159.033203\" xlink:href=\"#DejaVuSans-48\"/>\r\n       <use x=\"222.65625\" xlink:href=\"#DejaVuSans-48\"/>\r\n       <use x=\"286.279297\" xlink:href=\"#DejaVuSans-53\"/>\r\n       <use x=\"349.902344\" xlink:href=\"#DejaVuSans-48\"/>\r\n      </g>\r\n     </g>\r\n    </g>\r\n    <g id=\"xtick_4\">\r\n     <g id=\"line2d_4\">\r\n      <g>\r\n       <use style=\"stroke:#000000;stroke-width:0.8;\" x=\"195.320766\" xlink:href=\"#m36fc4c741d\" y=\"239.758125\"/>\r\n      </g>\r\n     </g>\r\n     <g id=\"text_4\">\r\n      <!-- 0.00075 -->\r\n      <g transform=\"translate(174.644204 254.356562)scale(0.1 -0.1)\">\r\n       <defs>\r\n        <path d=\"M 8.203125 72.90625 \r\nL 55.078125 72.90625 \r\nL 55.078125 68.703125 \r\nL 28.609375 0 \r\nL 18.3125 0 \r\nL 43.21875 64.59375 \r\nL 8.203125 64.59375 \r\nz\r\n\" id=\"DejaVuSans-55\"/>\r\n       </defs>\r\n       <use xlink:href=\"#DejaVuSans-48\"/>\r\n       <use x=\"63.623047\" xlink:href=\"#DejaVuSans-46\"/>\r\n       <use x=\"95.410156\" xlink:href=\"#DejaVuSans-48\"/>\r\n       <use x=\"159.033203\" xlink:href=\"#DejaVuSans-48\"/>\r\n       <use x=\"222.65625\" xlink:href=\"#DejaVuSans-48\"/>\r\n       <use x=\"286.279297\" xlink:href=\"#DejaVuSans-55\"/>\r\n       <use x=\"349.902344\" xlink:href=\"#DejaVuSans-53\"/>\r\n      </g>\r\n     </g>\r\n    </g>\r\n    <g id=\"xtick_5\">\r\n     <g id=\"line2d_5\">\r\n      <g>\r\n       <use style=\"stroke:#000000;stroke-width:0.8;\" x=\"233.337253\" xlink:href=\"#m36fc4c741d\" y=\"239.758125\"/>\r\n      </g>\r\n     </g>\r\n     <g id=\"text_5\">\r\n      <!-- 0.00100 -->\r\n      <g transform=\"translate(212.66069 254.356562)scale(0.1 -0.1)\">\r\n       <defs>\r\n        <path d=\"M 12.40625 8.296875 \r\nL 28.515625 8.296875 \r\nL 28.515625 63.921875 \r\nL 10.984375 60.40625 \r\nL 10.984375 69.390625 \r\nL 28.421875 72.90625 \r\nL 38.28125 72.90625 \r\nL 38.28125 8.296875 \r\nL 54.390625 8.296875 \r\nL 54.390625 0 \r\nL 12.40625 0 \r\nz\r\n\" id=\"DejaVuSans-49\"/>\r\n       </defs>\r\n       <use xlink:href=\"#DejaVuSans-48\"/>\r\n       <use x=\"63.623047\" xlink:href=\"#DejaVuSans-46\"/>\r\n       <use x=\"95.410156\" xlink:href=\"#DejaVuSans-48\"/>\r\n       <use x=\"159.033203\" xlink:href=\"#DejaVuSans-48\"/>\r\n       <use x=\"222.65625\" xlink:href=\"#DejaVuSans-49\"/>\r\n       <use x=\"286.279297\" xlink:href=\"#DejaVuSans-48\"/>\r\n       <use x=\"349.902344\" xlink:href=\"#DejaVuSans-48\"/>\r\n      </g>\r\n     </g>\r\n    </g>\r\n    <g id=\"xtick_6\">\r\n     <g id=\"line2d_6\">\r\n      <g>\r\n       <use style=\"stroke:#000000;stroke-width:0.8;\" x=\"271.353739\" xlink:href=\"#m36fc4c741d\" y=\"239.758125\"/>\r\n      </g>\r\n     </g>\r\n     <g id=\"text_6\">\r\n      <!-- 0.00125 -->\r\n      <g transform=\"translate(250.677177 254.356562)scale(0.1 -0.1)\">\r\n       <use xlink:href=\"#DejaVuSans-48\"/>\r\n       <use x=\"63.623047\" xlink:href=\"#DejaVuSans-46\"/>\r\n       <use x=\"95.410156\" xlink:href=\"#DejaVuSans-48\"/>\r\n       <use x=\"159.033203\" xlink:href=\"#DejaVuSans-48\"/>\r\n       <use x=\"222.65625\" xlink:href=\"#DejaVuSans-49\"/>\r\n       <use x=\"286.279297\" xlink:href=\"#DejaVuSans-50\"/>\r\n       <use x=\"349.902344\" xlink:href=\"#DejaVuSans-53\"/>\r\n      </g>\r\n     </g>\r\n    </g>\r\n    <g id=\"xtick_7\">\r\n     <g id=\"line2d_7\">\r\n      <g>\r\n       <use style=\"stroke:#000000;stroke-width:0.8;\" x=\"309.370226\" xlink:href=\"#m36fc4c741d\" y=\"239.758125\"/>\r\n      </g>\r\n     </g>\r\n     <g id=\"text_7\">\r\n      <!-- 0.00150 -->\r\n      <g transform=\"translate(288.693663 254.356562)scale(0.1 -0.1)\">\r\n       <use xlink:href=\"#DejaVuSans-48\"/>\r\n       <use x=\"63.623047\" xlink:href=\"#DejaVuSans-46\"/>\r\n       <use x=\"95.410156\" xlink:href=\"#DejaVuSans-48\"/>\r\n       <use x=\"159.033203\" xlink:href=\"#DejaVuSans-48\"/>\r\n       <use x=\"222.65625\" xlink:href=\"#DejaVuSans-49\"/>\r\n       <use x=\"286.279297\" xlink:href=\"#DejaVuSans-53\"/>\r\n       <use x=\"349.902344\" xlink:href=\"#DejaVuSans-48\"/>\r\n      </g>\r\n     </g>\r\n    </g>\r\n    <g id=\"xtick_8\">\r\n     <g id=\"line2d_8\">\r\n      <g>\r\n       <use style=\"stroke:#000000;stroke-width:0.8;\" x=\"347.386712\" xlink:href=\"#m36fc4c741d\" y=\"239.758125\"/>\r\n      </g>\r\n     </g>\r\n     <g id=\"text_8\">\r\n      <!-- 0.00175 -->\r\n      <g transform=\"translate(326.71015 254.356562)scale(0.1 -0.1)\">\r\n       <use xlink:href=\"#DejaVuSans-48\"/>\r\n       <use x=\"63.623047\" xlink:href=\"#DejaVuSans-46\"/>\r\n       <use x=\"95.410156\" xlink:href=\"#DejaVuSans-48\"/>\r\n       <use x=\"159.033203\" xlink:href=\"#DejaVuSans-48\"/>\r\n       <use x=\"222.65625\" xlink:href=\"#DejaVuSans-49\"/>\r\n       <use x=\"286.279297\" xlink:href=\"#DejaVuSans-55\"/>\r\n       <use x=\"349.902344\" xlink:href=\"#DejaVuSans-53\"/>\r\n      </g>\r\n     </g>\r\n    </g>\r\n    <g id=\"xtick_9\">\r\n     <g id=\"line2d_9\">\r\n      <g>\r\n       <use style=\"stroke:#000000;stroke-width:0.8;\" x=\"385.403199\" xlink:href=\"#m36fc4c741d\" y=\"239.758125\"/>\r\n      </g>\r\n     </g>\r\n     <g id=\"text_9\">\r\n      <!-- 0.00200 -->\r\n      <g transform=\"translate(364.726637 254.356562)scale(0.1 -0.1)\">\r\n       <use xlink:href=\"#DejaVuSans-48\"/>\r\n       <use x=\"63.623047\" xlink:href=\"#DejaVuSans-46\"/>\r\n       <use x=\"95.410156\" xlink:href=\"#DejaVuSans-48\"/>\r\n       <use x=\"159.033203\" xlink:href=\"#DejaVuSans-48\"/>\r\n       <use x=\"222.65625\" xlink:href=\"#DejaVuSans-50\"/>\r\n       <use x=\"286.279297\" xlink:href=\"#DejaVuSans-48\"/>\r\n       <use x=\"349.902344\" xlink:href=\"#DejaVuSans-48\"/>\r\n      </g>\r\n     </g>\r\n    </g>\r\n    <g id=\"text_10\">\r\n     <!-- Read time (s) -->\r\n     <g transform=\"translate(199.908594 268.034687)scale(0.1 -0.1)\">\r\n      <defs>\r\n       <path d=\"M 44.390625 34.1875 \r\nQ 47.5625 33.109375 50.5625 29.59375 \r\nQ 53.5625 26.078125 56.59375 19.921875 \r\nL 66.609375 0 \r\nL 56 0 \r\nL 46.6875 18.703125 \r\nQ 43.0625 26.03125 39.671875 28.421875 \r\nQ 36.28125 30.8125 30.421875 30.8125 \r\nL 19.671875 30.8125 \r\nL 19.671875 0 \r\nL 9.8125 0 \r\nL 9.8125 72.90625 \r\nL 32.078125 72.90625 \r\nQ 44.578125 72.90625 50.734375 67.671875 \r\nQ 56.890625 62.453125 56.890625 51.90625 \r\nQ 56.890625 45.015625 53.6875 40.46875 \r\nQ 50.484375 35.9375 44.390625 34.1875 \r\nz\r\nM 19.671875 64.796875 \r\nL 19.671875 38.921875 \r\nL 32.078125 38.921875 \r\nQ 39.203125 38.921875 42.84375 42.21875 \r\nQ 46.484375 45.515625 46.484375 51.90625 \r\nQ 46.484375 58.296875 42.84375 61.546875 \r\nQ 39.203125 64.796875 32.078125 64.796875 \r\nz\r\n\" id=\"DejaVuSans-82\"/>\r\n       <path d=\"M 56.203125 29.59375 \r\nL 56.203125 25.203125 \r\nL 14.890625 25.203125 \r\nQ 15.484375 15.921875 20.484375 11.0625 \r\nQ 25.484375 6.203125 34.421875 6.203125 \r\nQ 39.59375 6.203125 44.453125 7.46875 \r\nQ 49.3125 8.734375 54.109375 11.28125 \r\nL 54.109375 2.78125 \r\nQ 49.265625 0.734375 44.1875 -0.34375 \r\nQ 39.109375 -1.421875 33.890625 -1.421875 \r\nQ 20.796875 -1.421875 13.15625 6.1875 \r\nQ 5.515625 13.8125 5.515625 26.8125 \r\nQ 5.515625 40.234375 12.765625 48.109375 \r\nQ 20.015625 56 32.328125 56 \r\nQ 43.359375 56 49.78125 48.890625 \r\nQ 56.203125 41.796875 56.203125 29.59375 \r\nz\r\nM 47.21875 32.234375 \r\nQ 47.125 39.59375 43.09375 43.984375 \r\nQ 39.0625 48.390625 32.421875 48.390625 \r\nQ 24.90625 48.390625 20.390625 44.140625 \r\nQ 15.875 39.890625 15.1875 32.171875 \r\nz\r\n\" id=\"DejaVuSans-101\"/>\r\n       <path d=\"M 34.28125 27.484375 \r\nQ 23.390625 27.484375 19.1875 25 \r\nQ 14.984375 22.515625 14.984375 16.5 \r\nQ 14.984375 11.71875 18.140625 8.90625 \r\nQ 21.296875 6.109375 26.703125 6.109375 \r\nQ 34.1875 6.109375 38.703125 11.40625 \r\nQ 43.21875 16.703125 43.21875 25.484375 \r\nL 43.21875 27.484375 \r\nz\r\nM 52.203125 31.203125 \r\nL 52.203125 0 \r\nL 43.21875 0 \r\nL 43.21875 8.296875 \r\nQ 40.140625 3.328125 35.546875 0.953125 \r\nQ 30.953125 -1.421875 24.3125 -1.421875 \r\nQ 15.921875 -1.421875 10.953125 3.296875 \r\nQ 6 8.015625 6 15.921875 \r\nQ 6 25.140625 12.171875 29.828125 \r\nQ 18.359375 34.515625 30.609375 34.515625 \r\nL 43.21875 34.515625 \r\nL 43.21875 35.40625 \r\nQ 43.21875 41.609375 39.140625 45 \r\nQ 35.0625 48.390625 27.6875 48.390625 \r\nQ 23 48.390625 18.546875 47.265625 \r\nQ 14.109375 46.140625 10.015625 43.890625 \r\nL 10.015625 52.203125 \r\nQ 14.9375 54.109375 19.578125 55.046875 \r\nQ 24.21875 56 28.609375 56 \r\nQ 40.484375 56 46.34375 49.84375 \r\nQ 52.203125 43.703125 52.203125 31.203125 \r\nz\r\n\" id=\"DejaVuSans-97\"/>\r\n       <path d=\"M 45.40625 46.390625 \r\nL 45.40625 75.984375 \r\nL 54.390625 75.984375 \r\nL 54.390625 0 \r\nL 45.40625 0 \r\nL 45.40625 8.203125 \r\nQ 42.578125 3.328125 38.25 0.953125 \r\nQ 33.9375 -1.421875 27.875 -1.421875 \r\nQ 17.96875 -1.421875 11.734375 6.484375 \r\nQ 5.515625 14.40625 5.515625 27.296875 \r\nQ 5.515625 40.1875 11.734375 48.09375 \r\nQ 17.96875 56 27.875 56 \r\nQ 33.9375 56 38.25 53.625 \r\nQ 42.578125 51.265625 45.40625 46.390625 \r\nz\r\nM 14.796875 27.296875 \r\nQ 14.796875 17.390625 18.875 11.75 \r\nQ 22.953125 6.109375 30.078125 6.109375 \r\nQ 37.203125 6.109375 41.296875 11.75 \r\nQ 45.40625 17.390625 45.40625 27.296875 \r\nQ 45.40625 37.203125 41.296875 42.84375 \r\nQ 37.203125 48.484375 30.078125 48.484375 \r\nQ 22.953125 48.484375 18.875 42.84375 \r\nQ 14.796875 37.203125 14.796875 27.296875 \r\nz\r\n\" id=\"DejaVuSans-100\"/>\r\n       <path id=\"DejaVuSans-32\"/>\r\n       <path d=\"M 18.3125 70.21875 \r\nL 18.3125 54.6875 \r\nL 36.8125 54.6875 \r\nL 36.8125 47.703125 \r\nL 18.3125 47.703125 \r\nL 18.3125 18.015625 \r\nQ 18.3125 11.328125 20.140625 9.421875 \r\nQ 21.96875 7.515625 27.59375 7.515625 \r\nL 36.8125 7.515625 \r\nL 36.8125 0 \r\nL 27.59375 0 \r\nQ 17.1875 0 13.234375 3.875 \r\nQ 9.28125 7.765625 9.28125 18.015625 \r\nL 9.28125 47.703125 \r\nL 2.6875 47.703125 \r\nL 2.6875 54.6875 \r\nL 9.28125 54.6875 \r\nL 9.28125 70.21875 \r\nz\r\n\" id=\"DejaVuSans-116\"/>\r\n       <path d=\"M 9.421875 54.6875 \r\nL 18.40625 54.6875 \r\nL 18.40625 0 \r\nL 9.421875 0 \r\nz\r\nM 9.421875 75.984375 \r\nL 18.40625 75.984375 \r\nL 18.40625 64.59375 \r\nL 9.421875 64.59375 \r\nz\r\n\" id=\"DejaVuSans-105\"/>\r\n       <path d=\"M 52 44.1875 \r\nQ 55.375 50.25 60.0625 53.125 \r\nQ 64.75 56 71.09375 56 \r\nQ 79.640625 56 84.28125 50.015625 \r\nQ 88.921875 44.046875 88.921875 33.015625 \r\nL 88.921875 0 \r\nL 79.890625 0 \r\nL 79.890625 32.71875 \r\nQ 79.890625 40.578125 77.09375 44.375 \r\nQ 74.3125 48.1875 68.609375 48.1875 \r\nQ 61.625 48.1875 57.5625 43.546875 \r\nQ 53.515625 38.921875 53.515625 30.90625 \r\nL 53.515625 0 \r\nL 44.484375 0 \r\nL 44.484375 32.71875 \r\nQ 44.484375 40.625 41.703125 44.40625 \r\nQ 38.921875 48.1875 33.109375 48.1875 \r\nQ 26.21875 48.1875 22.15625 43.53125 \r\nQ 18.109375 38.875 18.109375 30.90625 \r\nL 18.109375 0 \r\nL 9.078125 0 \r\nL 9.078125 54.6875 \r\nL 18.109375 54.6875 \r\nL 18.109375 46.1875 \r\nQ 21.1875 51.21875 25.484375 53.609375 \r\nQ 29.78125 56 35.6875 56 \r\nQ 41.65625 56 45.828125 52.96875 \r\nQ 50 49.953125 52 44.1875 \r\nz\r\n\" id=\"DejaVuSans-109\"/>\r\n       <path d=\"M 31 75.875 \r\nQ 24.46875 64.65625 21.28125 53.65625 \r\nQ 18.109375 42.671875 18.109375 31.390625 \r\nQ 18.109375 20.125 21.3125 9.0625 \r\nQ 24.515625 -2 31 -13.1875 \r\nL 23.1875 -13.1875 \r\nQ 15.875 -1.703125 12.234375 9.375 \r\nQ 8.59375 20.453125 8.59375 31.390625 \r\nQ 8.59375 42.28125 12.203125 53.3125 \r\nQ 15.828125 64.359375 23.1875 75.875 \r\nz\r\n\" id=\"DejaVuSans-40\"/>\r\n       <path d=\"M 44.28125 53.078125 \r\nL 44.28125 44.578125 \r\nQ 40.484375 46.53125 36.375 47.5 \r\nQ 32.28125 48.484375 27.875 48.484375 \r\nQ 21.1875 48.484375 17.84375 46.4375 \r\nQ 14.5 44.390625 14.5 40.28125 \r\nQ 14.5 37.15625 16.890625 35.375 \r\nQ 19.28125 33.59375 26.515625 31.984375 \r\nL 29.59375 31.296875 \r\nQ 39.15625 29.25 43.1875 25.515625 \r\nQ 47.21875 21.78125 47.21875 15.09375 \r\nQ 47.21875 7.46875 41.1875 3.015625 \r\nQ 35.15625 -1.421875 24.609375 -1.421875 \r\nQ 20.21875 -1.421875 15.453125 -0.5625 \r\nQ 10.6875 0.296875 5.421875 2 \r\nL 5.421875 11.28125 \r\nQ 10.40625 8.6875 15.234375 7.390625 \r\nQ 20.0625 6.109375 24.8125 6.109375 \r\nQ 31.15625 6.109375 34.5625 8.28125 \r\nQ 37.984375 10.453125 37.984375 14.40625 \r\nQ 37.984375 18.0625 35.515625 20.015625 \r\nQ 33.0625 21.96875 24.703125 23.78125 \r\nL 21.578125 24.515625 \r\nQ 13.234375 26.265625 9.515625 29.90625 \r\nQ 5.8125 33.546875 5.8125 39.890625 \r\nQ 5.8125 47.609375 11.28125 51.796875 \r\nQ 16.75 56 26.8125 56 \r\nQ 31.78125 56 36.171875 55.265625 \r\nQ 40.578125 54.546875 44.28125 53.078125 \r\nz\r\n\" id=\"DejaVuSans-115\"/>\r\n       <path d=\"M 8.015625 75.875 \r\nL 15.828125 75.875 \r\nQ 23.140625 64.359375 26.78125 53.3125 \r\nQ 30.421875 42.28125 30.421875 31.390625 \r\nQ 30.421875 20.453125 26.78125 9.375 \r\nQ 23.140625 -1.703125 15.828125 -13.1875 \r\nL 8.015625 -13.1875 \r\nQ 14.5 -2 17.703125 9.0625 \r\nQ 20.90625 20.125 20.90625 31.390625 \r\nQ 20.90625 42.671875 17.703125 53.65625 \r\nQ 14.5 64.65625 8.015625 75.875 \r\nz\r\n\" id=\"DejaVuSans-41\"/>\r\n      </defs>\r\n      <use xlink:href=\"#DejaVuSans-82\"/>\r\n      <use x=\"64.982422\" xlink:href=\"#DejaVuSans-101\"/>\r\n      <use x=\"126.505859\" xlink:href=\"#DejaVuSans-97\"/>\r\n      <use x=\"187.785156\" xlink:href=\"#DejaVuSans-100\"/>\r\n      <use x=\"251.261719\" xlink:href=\"#DejaVuSans-32\"/>\r\n      <use x=\"283.048828\" xlink:href=\"#DejaVuSans-116\"/>\r\n      <use x=\"322.257812\" xlink:href=\"#DejaVuSans-105\"/>\r\n      <use x=\"350.041016\" xlink:href=\"#DejaVuSans-109\"/>\r\n      <use x=\"447.453125\" xlink:href=\"#DejaVuSans-101\"/>\r\n      <use x=\"508.976562\" xlink:href=\"#DejaVuSans-32\"/>\r\n      <use x=\"540.763672\" xlink:href=\"#DejaVuSans-40\"/>\r\n      <use x=\"579.777344\" xlink:href=\"#DejaVuSans-115\"/>\r\n      <use x=\"631.876953\" xlink:href=\"#DejaVuSans-41\"/>\r\n     </g>\r\n    </g>\r\n   </g>\r\n   <g id=\"matplotlib.axis_2\">\r\n    <g id=\"ytick_1\">\r\n     <g id=\"line2d_10\">\r\n      <defs>\r\n       <path d=\"M 0 0 \r\nL -3.5 0 \r\n\" id=\"mc26d53d6da\" style=\"stroke:#000000;stroke-width:0.8;\"/>\r\n      </defs>\r\n      <g>\r\n       <use style=\"stroke:#000000;stroke-width:0.8;\" x=\"66.053125\" xlink:href=\"#mc26d53d6da\" y=\"239.758125\"/>\r\n      </g>\r\n     </g>\r\n     <g id=\"text_11\">\r\n      <!-- 0 -->\r\n      <g transform=\"translate(52.690625 243.557344)scale(0.1 -0.1)\">\r\n       <use xlink:href=\"#DejaVuSans-48\"/>\r\n      </g>\r\n     </g>\r\n    </g>\r\n    <g id=\"ytick_2\">\r\n     <g id=\"line2d_11\">\r\n      <g>\r\n       <use style=\"stroke:#000000;stroke-width:0.8;\" x=\"66.053125\" xlink:href=\"#mc26d53d6da\" y=\"196.967842\"/>\r\n      </g>\r\n     </g>\r\n     <g id=\"text_12\">\r\n      <!-- 20000 -->\r\n      <g transform=\"translate(27.240625 200.767061)scale(0.1 -0.1)\">\r\n       <use xlink:href=\"#DejaVuSans-50\"/>\r\n       <use x=\"63.623047\" xlink:href=\"#DejaVuSans-48\"/>\r\n       <use x=\"127.246094\" xlink:href=\"#DejaVuSans-48\"/>\r\n       <use x=\"190.869141\" xlink:href=\"#DejaVuSans-48\"/>\r\n       <use x=\"254.492188\" xlink:href=\"#DejaVuSans-48\"/>\r\n      </g>\r\n     </g>\r\n    </g>\r\n    <g id=\"ytick_3\">\r\n     <g id=\"line2d_12\">\r\n      <g>\r\n       <use style=\"stroke:#000000;stroke-width:0.8;\" x=\"66.053125\" xlink:href=\"#mc26d53d6da\" y=\"154.177559\"/>\r\n      </g>\r\n     </g>\r\n     <g id=\"text_13\">\r\n      <!-- 40000 -->\r\n      <g transform=\"translate(27.240625 157.976778)scale(0.1 -0.1)\">\r\n       <defs>\r\n        <path d=\"M 37.796875 64.3125 \r\nL 12.890625 25.390625 \r\nL 37.796875 25.390625 \r\nz\r\nM 35.203125 72.90625 \r\nL 47.609375 72.90625 \r\nL 47.609375 25.390625 \r\nL 58.015625 25.390625 \r\nL 58.015625 17.1875 \r\nL 47.609375 17.1875 \r\nL 47.609375 0 \r\nL 37.796875 0 \r\nL 37.796875 17.1875 \r\nL 4.890625 17.1875 \r\nL 4.890625 26.703125 \r\nz\r\n\" id=\"DejaVuSans-52\"/>\r\n       </defs>\r\n       <use xlink:href=\"#DejaVuSans-52\"/>\r\n       <use x=\"63.623047\" xlink:href=\"#DejaVuSans-48\"/>\r\n       <use x=\"127.246094\" xlink:href=\"#DejaVuSans-48\"/>\r\n       <use x=\"190.869141\" xlink:href=\"#DejaVuSans-48\"/>\r\n       <use x=\"254.492188\" xlink:href=\"#DejaVuSans-48\"/>\r\n      </g>\r\n     </g>\r\n    </g>\r\n    <g id=\"ytick_4\">\r\n     <g id=\"line2d_13\">\r\n      <g>\r\n       <use style=\"stroke:#000000;stroke-width:0.8;\" x=\"66.053125\" xlink:href=\"#mc26d53d6da\" y=\"111.387276\"/>\r\n      </g>\r\n     </g>\r\n     <g id=\"text_14\">\r\n      <!-- 60000 -->\r\n      <g transform=\"translate(27.240625 115.186495)scale(0.1 -0.1)\">\r\n       <defs>\r\n        <path d=\"M 33.015625 40.375 \r\nQ 26.375 40.375 22.484375 35.828125 \r\nQ 18.609375 31.296875 18.609375 23.390625 \r\nQ 18.609375 15.53125 22.484375 10.953125 \r\nQ 26.375 6.390625 33.015625 6.390625 \r\nQ 39.65625 6.390625 43.53125 10.953125 \r\nQ 47.40625 15.53125 47.40625 23.390625 \r\nQ 47.40625 31.296875 43.53125 35.828125 \r\nQ 39.65625 40.375 33.015625 40.375 \r\nz\r\nM 52.59375 71.296875 \r\nL 52.59375 62.3125 \r\nQ 48.875 64.0625 45.09375 64.984375 \r\nQ 41.3125 65.921875 37.59375 65.921875 \r\nQ 27.828125 65.921875 22.671875 59.328125 \r\nQ 17.53125 52.734375 16.796875 39.40625 \r\nQ 19.671875 43.65625 24.015625 45.921875 \r\nQ 28.375 48.1875 33.59375 48.1875 \r\nQ 44.578125 48.1875 50.953125 41.515625 \r\nQ 57.328125 34.859375 57.328125 23.390625 \r\nQ 57.328125 12.15625 50.6875 5.359375 \r\nQ 44.046875 -1.421875 33.015625 -1.421875 \r\nQ 20.359375 -1.421875 13.671875 8.265625 \r\nQ 6.984375 17.96875 6.984375 36.375 \r\nQ 6.984375 53.65625 15.1875 63.9375 \r\nQ 23.390625 74.21875 37.203125 74.21875 \r\nQ 40.921875 74.21875 44.703125 73.484375 \r\nQ 48.484375 72.75 52.59375 71.296875 \r\nz\r\n\" id=\"DejaVuSans-54\"/>\r\n       </defs>\r\n       <use xlink:href=\"#DejaVuSans-54\"/>\r\n       <use x=\"63.623047\" xlink:href=\"#DejaVuSans-48\"/>\r\n       <use x=\"127.246094\" xlink:href=\"#DejaVuSans-48\"/>\r\n       <use x=\"190.869141\" xlink:href=\"#DejaVuSans-48\"/>\r\n       <use x=\"254.492188\" xlink:href=\"#DejaVuSans-48\"/>\r\n      </g>\r\n     </g>\r\n    </g>\r\n    <g id=\"ytick_5\">\r\n     <g id=\"line2d_14\">\r\n      <g>\r\n       <use style=\"stroke:#000000;stroke-width:0.8;\" x=\"66.053125\" xlink:href=\"#mc26d53d6da\" y=\"68.596993\"/>\r\n      </g>\r\n     </g>\r\n     <g id=\"text_15\">\r\n      <!-- 80000 -->\r\n      <g transform=\"translate(27.240625 72.396212)scale(0.1 -0.1)\">\r\n       <defs>\r\n        <path d=\"M 31.78125 34.625 \r\nQ 24.75 34.625 20.71875 30.859375 \r\nQ 16.703125 27.09375 16.703125 20.515625 \r\nQ 16.703125 13.921875 20.71875 10.15625 \r\nQ 24.75 6.390625 31.78125 6.390625 \r\nQ 38.8125 6.390625 42.859375 10.171875 \r\nQ 46.921875 13.96875 46.921875 20.515625 \r\nQ 46.921875 27.09375 42.890625 30.859375 \r\nQ 38.875 34.625 31.78125 34.625 \r\nz\r\nM 21.921875 38.8125 \r\nQ 15.578125 40.375 12.03125 44.71875 \r\nQ 8.5 49.078125 8.5 55.328125 \r\nQ 8.5 64.0625 14.71875 69.140625 \r\nQ 20.953125 74.21875 31.78125 74.21875 \r\nQ 42.671875 74.21875 48.875 69.140625 \r\nQ 55.078125 64.0625 55.078125 55.328125 \r\nQ 55.078125 49.078125 51.53125 44.71875 \r\nQ 48 40.375 41.703125 38.8125 \r\nQ 48.828125 37.15625 52.796875 32.3125 \r\nQ 56.78125 27.484375 56.78125 20.515625 \r\nQ 56.78125 9.90625 50.3125 4.234375 \r\nQ 43.84375 -1.421875 31.78125 -1.421875 \r\nQ 19.734375 -1.421875 13.25 4.234375 \r\nQ 6.78125 9.90625 6.78125 20.515625 \r\nQ 6.78125 27.484375 10.78125 32.3125 \r\nQ 14.796875 37.15625 21.921875 38.8125 \r\nz\r\nM 18.3125 54.390625 \r\nQ 18.3125 48.734375 21.84375 45.5625 \r\nQ 25.390625 42.390625 31.78125 42.390625 \r\nQ 38.140625 42.390625 41.71875 45.5625 \r\nQ 45.3125 48.734375 45.3125 54.390625 \r\nQ 45.3125 60.0625 41.71875 63.234375 \r\nQ 38.140625 66.40625 31.78125 66.40625 \r\nQ 25.390625 66.40625 21.84375 63.234375 \r\nQ 18.3125 60.0625 18.3125 54.390625 \r\nz\r\n\" id=\"DejaVuSans-56\"/>\r\n       </defs>\r\n       <use xlink:href=\"#DejaVuSans-56\"/>\r\n       <use x=\"63.623047\" xlink:href=\"#DejaVuSans-48\"/>\r\n       <use x=\"127.246094\" xlink:href=\"#DejaVuSans-48\"/>\r\n       <use x=\"190.869141\" xlink:href=\"#DejaVuSans-48\"/>\r\n       <use x=\"254.492188\" xlink:href=\"#DejaVuSans-48\"/>\r\n      </g>\r\n     </g>\r\n    </g>\r\n    <g id=\"ytick_6\">\r\n     <g id=\"line2d_15\">\r\n      <g>\r\n       <use style=\"stroke:#000000;stroke-width:0.8;\" x=\"66.053125\" xlink:href=\"#mc26d53d6da\" y=\"25.80671\"/>\r\n      </g>\r\n     </g>\r\n     <g id=\"text_16\">\r\n      <!-- 100000 -->\r\n      <g transform=\"translate(20.878125 29.605929)scale(0.1 -0.1)\">\r\n       <use xlink:href=\"#DejaVuSans-49\"/>\r\n       <use x=\"63.623047\" xlink:href=\"#DejaVuSans-48\"/>\r\n       <use x=\"127.246094\" xlink:href=\"#DejaVuSans-48\"/>\r\n       <use x=\"190.869141\" xlink:href=\"#DejaVuSans-48\"/>\r\n       <use x=\"254.492188\" xlink:href=\"#DejaVuSans-48\"/>\r\n       <use x=\"318.115234\" xlink:href=\"#DejaVuSans-48\"/>\r\n      </g>\r\n     </g>\r\n    </g>\r\n    <g id=\"text_17\">\r\n     <!-- sample frequency -->\r\n     <g transform=\"translate(14.798438 175.882656)rotate(-90)scale(0.1 -0.1)\">\r\n      <defs>\r\n       <path d=\"M 18.109375 8.203125 \r\nL 18.109375 -20.796875 \r\nL 9.078125 -20.796875 \r\nL 9.078125 54.6875 \r\nL 18.109375 54.6875 \r\nL 18.109375 46.390625 \r\nQ 20.953125 51.265625 25.265625 53.625 \r\nQ 29.59375 56 35.59375 56 \r\nQ 45.5625 56 51.78125 48.09375 \r\nQ 58.015625 40.1875 58.015625 27.296875 \r\nQ 58.015625 14.40625 51.78125 6.484375 \r\nQ 45.5625 -1.421875 35.59375 -1.421875 \r\nQ 29.59375 -1.421875 25.265625 0.953125 \r\nQ 20.953125 3.328125 18.109375 8.203125 \r\nz\r\nM 48.6875 27.296875 \r\nQ 48.6875 37.203125 44.609375 42.84375 \r\nQ 40.53125 48.484375 33.40625 48.484375 \r\nQ 26.265625 48.484375 22.1875 42.84375 \r\nQ 18.109375 37.203125 18.109375 27.296875 \r\nQ 18.109375 17.390625 22.1875 11.75 \r\nQ 26.265625 6.109375 33.40625 6.109375 \r\nQ 40.53125 6.109375 44.609375 11.75 \r\nQ 48.6875 17.390625 48.6875 27.296875 \r\nz\r\n\" id=\"DejaVuSans-112\"/>\r\n       <path d=\"M 9.421875 75.984375 \r\nL 18.40625 75.984375 \r\nL 18.40625 0 \r\nL 9.421875 0 \r\nz\r\n\" id=\"DejaVuSans-108\"/>\r\n       <path d=\"M 37.109375 75.984375 \r\nL 37.109375 68.5 \r\nL 28.515625 68.5 \r\nQ 23.6875 68.5 21.796875 66.546875 \r\nQ 19.921875 64.59375 19.921875 59.515625 \r\nL 19.921875 54.6875 \r\nL 34.71875 54.6875 \r\nL 34.71875 47.703125 \r\nL 19.921875 47.703125 \r\nL 19.921875 0 \r\nL 10.890625 0 \r\nL 10.890625 47.703125 \r\nL 2.296875 47.703125 \r\nL 2.296875 54.6875 \r\nL 10.890625 54.6875 \r\nL 10.890625 58.5 \r\nQ 10.890625 67.625 15.140625 71.796875 \r\nQ 19.390625 75.984375 28.609375 75.984375 \r\nz\r\n\" id=\"DejaVuSans-102\"/>\r\n       <path d=\"M 41.109375 46.296875 \r\nQ 39.59375 47.171875 37.8125 47.578125 \r\nQ 36.03125 48 33.890625 48 \r\nQ 26.265625 48 22.1875 43.046875 \r\nQ 18.109375 38.09375 18.109375 28.8125 \r\nL 18.109375 0 \r\nL 9.078125 0 \r\nL 9.078125 54.6875 \r\nL 18.109375 54.6875 \r\nL 18.109375 46.1875 \r\nQ 20.953125 51.171875 25.484375 53.578125 \r\nQ 30.03125 56 36.53125 56 \r\nQ 37.453125 56 38.578125 55.875 \r\nQ 39.703125 55.765625 41.0625 55.515625 \r\nz\r\n\" id=\"DejaVuSans-114\"/>\r\n       <path d=\"M 14.796875 27.296875 \r\nQ 14.796875 17.390625 18.875 11.75 \r\nQ 22.953125 6.109375 30.078125 6.109375 \r\nQ 37.203125 6.109375 41.296875 11.75 \r\nQ 45.40625 17.390625 45.40625 27.296875 \r\nQ 45.40625 37.203125 41.296875 42.84375 \r\nQ 37.203125 48.484375 30.078125 48.484375 \r\nQ 22.953125 48.484375 18.875 42.84375 \r\nQ 14.796875 37.203125 14.796875 27.296875 \r\nz\r\nM 45.40625 8.203125 \r\nQ 42.578125 3.328125 38.25 0.953125 \r\nQ 33.9375 -1.421875 27.875 -1.421875 \r\nQ 17.96875 -1.421875 11.734375 6.484375 \r\nQ 5.515625 14.40625 5.515625 27.296875 \r\nQ 5.515625 40.1875 11.734375 48.09375 \r\nQ 17.96875 56 27.875 56 \r\nQ 33.9375 56 38.25 53.625 \r\nQ 42.578125 51.265625 45.40625 46.390625 \r\nL 45.40625 54.6875 \r\nL 54.390625 54.6875 \r\nL 54.390625 -20.796875 \r\nL 45.40625 -20.796875 \r\nz\r\n\" id=\"DejaVuSans-113\"/>\r\n       <path d=\"M 8.5 21.578125 \r\nL 8.5 54.6875 \r\nL 17.484375 54.6875 \r\nL 17.484375 21.921875 \r\nQ 17.484375 14.15625 20.5 10.265625 \r\nQ 23.53125 6.390625 29.59375 6.390625 \r\nQ 36.859375 6.390625 41.078125 11.03125 \r\nQ 45.3125 15.671875 45.3125 23.6875 \r\nL 45.3125 54.6875 \r\nL 54.296875 54.6875 \r\nL 54.296875 0 \r\nL 45.3125 0 \r\nL 45.3125 8.40625 \r\nQ 42.046875 3.421875 37.71875 1 \r\nQ 33.40625 -1.421875 27.6875 -1.421875 \r\nQ 18.265625 -1.421875 13.375 4.4375 \r\nQ 8.5 10.296875 8.5 21.578125 \r\nz\r\nM 31.109375 56 \r\nz\r\n\" id=\"DejaVuSans-117\"/>\r\n       <path d=\"M 54.890625 33.015625 \r\nL 54.890625 0 \r\nL 45.90625 0 \r\nL 45.90625 32.71875 \r\nQ 45.90625 40.484375 42.875 44.328125 \r\nQ 39.84375 48.1875 33.796875 48.1875 \r\nQ 26.515625 48.1875 22.3125 43.546875 \r\nQ 18.109375 38.921875 18.109375 30.90625 \r\nL 18.109375 0 \r\nL 9.078125 0 \r\nL 9.078125 54.6875 \r\nL 18.109375 54.6875 \r\nL 18.109375 46.1875 \r\nQ 21.34375 51.125 25.703125 53.5625 \r\nQ 30.078125 56 35.796875 56 \r\nQ 45.21875 56 50.046875 50.171875 \r\nQ 54.890625 44.34375 54.890625 33.015625 \r\nz\r\n\" id=\"DejaVuSans-110\"/>\r\n       <path d=\"M 48.78125 52.59375 \r\nL 48.78125 44.1875 \r\nQ 44.96875 46.296875 41.140625 47.34375 \r\nQ 37.3125 48.390625 33.40625 48.390625 \r\nQ 24.65625 48.390625 19.8125 42.84375 \r\nQ 14.984375 37.3125 14.984375 27.296875 \r\nQ 14.984375 17.28125 19.8125 11.734375 \r\nQ 24.65625 6.203125 33.40625 6.203125 \r\nQ 37.3125 6.203125 41.140625 7.25 \r\nQ 44.96875 8.296875 48.78125 10.40625 \r\nL 48.78125 2.09375 \r\nQ 45.015625 0.34375 40.984375 -0.53125 \r\nQ 36.96875 -1.421875 32.421875 -1.421875 \r\nQ 20.0625 -1.421875 12.78125 6.34375 \r\nQ 5.515625 14.109375 5.515625 27.296875 \r\nQ 5.515625 40.671875 12.859375 48.328125 \r\nQ 20.21875 56 33.015625 56 \r\nQ 37.15625 56 41.109375 55.140625 \r\nQ 45.0625 54.296875 48.78125 52.59375 \r\nz\r\n\" id=\"DejaVuSans-99\"/>\r\n       <path d=\"M 32.171875 -5.078125 \r\nQ 28.375 -14.84375 24.75 -17.8125 \r\nQ 21.140625 -20.796875 15.09375 -20.796875 \r\nL 7.90625 -20.796875 \r\nL 7.90625 -13.28125 \r\nL 13.1875 -13.28125 \r\nQ 16.890625 -13.28125 18.9375 -11.515625 \r\nQ 21 -9.765625 23.484375 -3.21875 \r\nL 25.09375 0.875 \r\nL 2.984375 54.6875 \r\nL 12.5 54.6875 \r\nL 29.59375 11.921875 \r\nL 46.6875 54.6875 \r\nL 56.203125 54.6875 \r\nz\r\n\" id=\"DejaVuSans-121\"/>\r\n      </defs>\r\n      <use xlink:href=\"#DejaVuSans-115\"/>\r\n      <use x=\"52.099609\" xlink:href=\"#DejaVuSans-97\"/>\r\n      <use x=\"113.378906\" xlink:href=\"#DejaVuSans-109\"/>\r\n      <use x=\"210.791016\" xlink:href=\"#DejaVuSans-112\"/>\r\n      <use x=\"274.267578\" xlink:href=\"#DejaVuSans-108\"/>\r\n      <use x=\"302.050781\" xlink:href=\"#DejaVuSans-101\"/>\r\n      <use x=\"363.574219\" xlink:href=\"#DejaVuSans-32\"/>\r\n      <use x=\"395.361328\" xlink:href=\"#DejaVuSans-102\"/>\r\n      <use x=\"430.566406\" xlink:href=\"#DejaVuSans-114\"/>\r\n      <use x=\"469.429688\" xlink:href=\"#DejaVuSans-101\"/>\r\n      <use x=\"530.953125\" xlink:href=\"#DejaVuSans-113\"/>\r\n      <use x=\"594.429688\" xlink:href=\"#DejaVuSans-117\"/>\r\n      <use x=\"657.808594\" xlink:href=\"#DejaVuSans-101\"/>\r\n      <use x=\"719.332031\" xlink:href=\"#DejaVuSans-110\"/>\r\n      <use x=\"782.710938\" xlink:href=\"#DejaVuSans-99\"/>\r\n      <use x=\"837.691406\" xlink:href=\"#DejaVuSans-121\"/>\r\n     </g>\r\n    </g>\r\n   </g>\r\n   <g id=\"line2d_16\">\r\n    <path clip-path=\"url(#pc4adf13a34)\" d=\"M 118.59982 239.758125 \r\nL 118.59982 22.318125 \r\n\" style=\"fill:none;stroke:#ff0000;stroke-linecap:square;stroke-width:1.5;\"/>\r\n   </g>\r\n   <g id=\"patch_103\">\r\n    <path d=\"M 66.053125 239.758125 \r\nL 66.053125 22.318125 \r\n\" style=\"fill:none;stroke:#000000;stroke-linecap:square;stroke-linejoin:miter;stroke-width:0.8;\"/>\r\n   </g>\r\n   <g id=\"patch_104\">\r\n    <path d=\"M 400.853125 239.758125 \r\nL 400.853125 22.318125 \r\n\" style=\"fill:none;stroke:#000000;stroke-linecap:square;stroke-linejoin:miter;stroke-width:0.8;\"/>\r\n   </g>\r\n   <g id=\"patch_105\">\r\n    <path d=\"M 66.053125 239.758125 \r\nL 400.853125 239.758125 \r\n\" style=\"fill:none;stroke:#000000;stroke-linecap:square;stroke-linejoin:miter;stroke-width:0.8;\"/>\r\n   </g>\r\n   <g id=\"patch_106\">\r\n    <path d=\"M 66.053125 22.318125 \r\nL 400.853125 22.318125 \r\n\" style=\"fill:none;stroke:#000000;stroke-linecap:square;stroke-linejoin:miter;stroke-width:0.8;\"/>\r\n   </g>\r\n   <g id=\"text_18\">\r\n    <!-- 1s sample read time distribution - DatafileConcatDataset class -->\r\n    <g transform=\"translate(45.08125 16.318125)scale(0.12 -0.12)\">\r\n     <defs>\r\n      <path d=\"M 48.6875 27.296875 \r\nQ 48.6875 37.203125 44.609375 42.84375 \r\nQ 40.53125 48.484375 33.40625 48.484375 \r\nQ 26.265625 48.484375 22.1875 42.84375 \r\nQ 18.109375 37.203125 18.109375 27.296875 \r\nQ 18.109375 17.390625 22.1875 11.75 \r\nQ 26.265625 6.109375 33.40625 6.109375 \r\nQ 40.53125 6.109375 44.609375 11.75 \r\nQ 48.6875 17.390625 48.6875 27.296875 \r\nz\r\nM 18.109375 46.390625 \r\nQ 20.953125 51.265625 25.265625 53.625 \r\nQ 29.59375 56 35.59375 56 \r\nQ 45.5625 56 51.78125 48.09375 \r\nQ 58.015625 40.1875 58.015625 27.296875 \r\nQ 58.015625 14.40625 51.78125 6.484375 \r\nQ 45.5625 -1.421875 35.59375 -1.421875 \r\nQ 29.59375 -1.421875 25.265625 0.953125 \r\nQ 20.953125 3.328125 18.109375 8.203125 \r\nL 18.109375 0 \r\nL 9.078125 0 \r\nL 9.078125 75.984375 \r\nL 18.109375 75.984375 \r\nz\r\n\" id=\"DejaVuSans-98\"/>\r\n      <path d=\"M 30.609375 48.390625 \r\nQ 23.390625 48.390625 19.1875 42.75 \r\nQ 14.984375 37.109375 14.984375 27.296875 \r\nQ 14.984375 17.484375 19.15625 11.84375 \r\nQ 23.34375 6.203125 30.609375 6.203125 \r\nQ 37.796875 6.203125 41.984375 11.859375 \r\nQ 46.1875 17.53125 46.1875 27.296875 \r\nQ 46.1875 37.015625 41.984375 42.703125 \r\nQ 37.796875 48.390625 30.609375 48.390625 \r\nz\r\nM 30.609375 56 \r\nQ 42.328125 56 49.015625 48.375 \r\nQ 55.71875 40.765625 55.71875 27.296875 \r\nQ 55.71875 13.875 49.015625 6.21875 \r\nQ 42.328125 -1.421875 30.609375 -1.421875 \r\nQ 18.84375 -1.421875 12.171875 6.21875 \r\nQ 5.515625 13.875 5.515625 27.296875 \r\nQ 5.515625 40.765625 12.171875 48.375 \r\nQ 18.84375 56 30.609375 56 \r\nz\r\n\" id=\"DejaVuSans-111\"/>\r\n      <path d=\"M 4.890625 31.390625 \r\nL 31.203125 31.390625 \r\nL 31.203125 23.390625 \r\nL 4.890625 23.390625 \r\nz\r\n\" id=\"DejaVuSans-45\"/>\r\n      <path d=\"M 19.671875 64.796875 \r\nL 19.671875 8.109375 \r\nL 31.59375 8.109375 \r\nQ 46.6875 8.109375 53.6875 14.9375 \r\nQ 60.6875 21.78125 60.6875 36.53125 \r\nQ 60.6875 51.171875 53.6875 57.984375 \r\nQ 46.6875 64.796875 31.59375 64.796875 \r\nz\r\nM 9.8125 72.90625 \r\nL 30.078125 72.90625 \r\nQ 51.265625 72.90625 61.171875 64.09375 \r\nQ 71.09375 55.28125 71.09375 36.53125 \r\nQ 71.09375 17.671875 61.125 8.828125 \r\nQ 51.171875 0 30.078125 0 \r\nL 9.8125 0 \r\nz\r\n\" id=\"DejaVuSans-68\"/>\r\n      <path d=\"M 64.40625 67.28125 \r\nL 64.40625 56.890625 \r\nQ 59.421875 61.53125 53.78125 63.8125 \r\nQ 48.140625 66.109375 41.796875 66.109375 \r\nQ 29.296875 66.109375 22.65625 58.46875 \r\nQ 16.015625 50.828125 16.015625 36.375 \r\nQ 16.015625 21.96875 22.65625 14.328125 \r\nQ 29.296875 6.6875 41.796875 6.6875 \r\nQ 48.140625 6.6875 53.78125 8.984375 \r\nQ 59.421875 11.28125 64.40625 15.921875 \r\nL 64.40625 5.609375 \r\nQ 59.234375 2.09375 53.4375 0.328125 \r\nQ 47.65625 -1.421875 41.21875 -1.421875 \r\nQ 24.65625 -1.421875 15.125 8.703125 \r\nQ 5.609375 18.84375 5.609375 36.375 \r\nQ 5.609375 53.953125 15.125 64.078125 \r\nQ 24.65625 74.21875 41.21875 74.21875 \r\nQ 47.75 74.21875 53.53125 72.484375 \r\nQ 59.328125 70.75 64.40625 67.28125 \r\nz\r\n\" id=\"DejaVuSans-67\"/>\r\n     </defs>\r\n     <use xlink:href=\"#DejaVuSans-49\"/>\r\n     <use x=\"63.623047\" xlink:href=\"#DejaVuSans-115\"/>\r\n     <use x=\"115.722656\" xlink:href=\"#DejaVuSans-32\"/>\r\n     <use x=\"147.509766\" xlink:href=\"#DejaVuSans-115\"/>\r\n     <use x=\"199.609375\" xlink:href=\"#DejaVuSans-97\"/>\r\n     <use x=\"260.888672\" xlink:href=\"#DejaVuSans-109\"/>\r\n     <use x=\"358.300781\" xlink:href=\"#DejaVuSans-112\"/>\r\n     <use x=\"421.777344\" xlink:href=\"#DejaVuSans-108\"/>\r\n     <use x=\"449.560547\" xlink:href=\"#DejaVuSans-101\"/>\r\n     <use x=\"511.083984\" xlink:href=\"#DejaVuSans-32\"/>\r\n     <use x=\"542.871094\" xlink:href=\"#DejaVuSans-114\"/>\r\n     <use x=\"581.734375\" xlink:href=\"#DejaVuSans-101\"/>\r\n     <use x=\"643.257812\" xlink:href=\"#DejaVuSans-97\"/>\r\n     <use x=\"704.537109\" xlink:href=\"#DejaVuSans-100\"/>\r\n     <use x=\"768.013672\" xlink:href=\"#DejaVuSans-32\"/>\r\n     <use x=\"799.800781\" xlink:href=\"#DejaVuSans-116\"/>\r\n     <use x=\"839.009766\" xlink:href=\"#DejaVuSans-105\"/>\r\n     <use x=\"866.792969\" xlink:href=\"#DejaVuSans-109\"/>\r\n     <use x=\"964.205078\" xlink:href=\"#DejaVuSans-101\"/>\r\n     <use x=\"1025.728516\" xlink:href=\"#DejaVuSans-32\"/>\r\n     <use x=\"1057.515625\" xlink:href=\"#DejaVuSans-100\"/>\r\n     <use x=\"1120.992188\" xlink:href=\"#DejaVuSans-105\"/>\r\n     <use x=\"1148.775391\" xlink:href=\"#DejaVuSans-115\"/>\r\n     <use x=\"1200.875\" xlink:href=\"#DejaVuSans-116\"/>\r\n     <use x=\"1240.083984\" xlink:href=\"#DejaVuSans-114\"/>\r\n     <use x=\"1281.197266\" xlink:href=\"#DejaVuSans-105\"/>\r\n     <use x=\"1308.980469\" xlink:href=\"#DejaVuSans-98\"/>\r\n     <use x=\"1372.457031\" xlink:href=\"#DejaVuSans-117\"/>\r\n     <use x=\"1435.835938\" xlink:href=\"#DejaVuSans-116\"/>\r\n     <use x=\"1475.044922\" xlink:href=\"#DejaVuSans-105\"/>\r\n     <use x=\"1502.828125\" xlink:href=\"#DejaVuSans-111\"/>\r\n     <use x=\"1564.009766\" xlink:href=\"#DejaVuSans-110\"/>\r\n     <use x=\"1627.388672\" xlink:href=\"#DejaVuSans-32\"/>\r\n     <use x=\"1659.175781\" xlink:href=\"#DejaVuSans-45\"/>\r\n     <use x=\"1695.259766\" xlink:href=\"#DejaVuSans-32\"/>\r\n     <use x=\"1727.046875\" xlink:href=\"#DejaVuSans-68\"/>\r\n     <use x=\"1804.048828\" xlink:href=\"#DejaVuSans-97\"/>\r\n     <use x=\"1865.328125\" xlink:href=\"#DejaVuSans-116\"/>\r\n     <use x=\"1904.537109\" xlink:href=\"#DejaVuSans-97\"/>\r\n     <use x=\"1965.816406\" xlink:href=\"#DejaVuSans-102\"/>\r\n     <use x=\"2001.021484\" xlink:href=\"#DejaVuSans-105\"/>\r\n     <use x=\"2028.804688\" xlink:href=\"#DejaVuSans-108\"/>\r\n     <use x=\"2056.587891\" xlink:href=\"#DejaVuSans-101\"/>\r\n     <use x=\"2118.111328\" xlink:href=\"#DejaVuSans-67\"/>\r\n     <use x=\"2187.935547\" xlink:href=\"#DejaVuSans-111\"/>\r\n     <use x=\"2249.117188\" xlink:href=\"#DejaVuSans-110\"/>\r\n     <use x=\"2312.496094\" xlink:href=\"#DejaVuSans-99\"/>\r\n     <use x=\"2367.476562\" xlink:href=\"#DejaVuSans-97\"/>\r\n     <use x=\"2428.755859\" xlink:href=\"#DejaVuSans-116\"/>\r\n     <use x=\"2467.964844\" xlink:href=\"#DejaVuSans-68\"/>\r\n     <use x=\"2544.966797\" xlink:href=\"#DejaVuSans-97\"/>\r\n     <use x=\"2606.246094\" xlink:href=\"#DejaVuSans-116\"/>\r\n     <use x=\"2645.455078\" xlink:href=\"#DejaVuSans-97\"/>\r\n     <use x=\"2706.734375\" xlink:href=\"#DejaVuSans-115\"/>\r\n     <use x=\"2758.833984\" xlink:href=\"#DejaVuSans-101\"/>\r\n     <use x=\"2820.357422\" xlink:href=\"#DejaVuSans-116\"/>\r\n     <use x=\"2859.566406\" xlink:href=\"#DejaVuSans-32\"/>\r\n     <use x=\"2891.353516\" xlink:href=\"#DejaVuSans-99\"/>\r\n     <use x=\"2946.333984\" xlink:href=\"#DejaVuSans-108\"/>\r\n     <use x=\"2974.117188\" xlink:href=\"#DejaVuSans-97\"/>\r\n     <use x=\"3035.396484\" xlink:href=\"#DejaVuSans-115\"/>\r\n     <use x=\"3087.496094\" xlink:href=\"#DejaVuSans-115\"/>\r\n    </g>\r\n   </g>\r\n   <g id=\"legend_1\">\r\n    <g id=\"patch_107\">\r\n     <path d=\"M 308.357813 59.674375 \r\nL 393.853125 59.674375 \r\nQ 395.853125 59.674375 395.853125 57.674375 \r\nL 395.853125 29.318125 \r\nQ 395.853125 27.318125 393.853125 27.318125 \r\nL 308.357813 27.318125 \r\nQ 306.357813 27.318125 306.357813 29.318125 \r\nL 306.357813 57.674375 \r\nQ 306.357813 59.674375 308.357813 59.674375 \r\nz\r\n\" style=\"fill:#ffffff;opacity:0.8;stroke:#cccccc;stroke-linejoin:miter;\"/>\r\n    </g>\r\n    <g id=\"line2d_17\">\r\n     <path d=\"M 310.357813 35.416562 \r\nL 330.357813 35.416562 \r\n\" style=\"fill:none;stroke:#ff0000;stroke-linecap:square;stroke-width:1.5;\"/>\r\n    </g>\r\n    <g id=\"line2d_18\"/>\r\n    <g id=\"text_19\">\r\n     <!-- mean -->\r\n     <g transform=\"translate(338.357813 38.916562)scale(0.1 -0.1)\">\r\n      <use xlink:href=\"#DejaVuSans-109\"/>\r\n      <use x=\"97.412109\" xlink:href=\"#DejaVuSans-101\"/>\r\n      <use x=\"158.935547\" xlink:href=\"#DejaVuSans-97\"/>\r\n      <use x=\"220.214844\" xlink:href=\"#DejaVuSans-110\"/>\r\n     </g>\r\n    </g>\r\n    <g id=\"patch_108\">\r\n     <path d=\"M 310.357813 53.594687 \r\nL 330.357813 53.594687 \r\nL 330.357813 46.594687 \r\nL 310.357813 46.594687 \r\nz\r\n\" style=\"fill:#1f77b4;\"/>\r\n    </g>\r\n    <g id=\"text_20\">\r\n     <!-- read times -->\r\n     <g transform=\"translate(338.357813 53.594687)scale(0.1 -0.1)\">\r\n      <use xlink:href=\"#DejaVuSans-114\"/>\r\n      <use x=\"38.863281\" xlink:href=\"#DejaVuSans-101\"/>\r\n      <use x=\"100.386719\" xlink:href=\"#DejaVuSans-97\"/>\r\n      <use x=\"161.666016\" xlink:href=\"#DejaVuSans-100\"/>\r\n      <use x=\"225.142578\" xlink:href=\"#DejaVuSans-32\"/>\r\n      <use x=\"256.929688\" xlink:href=\"#DejaVuSans-116\"/>\r\n      <use x=\"296.138672\" xlink:href=\"#DejaVuSans-105\"/>\r\n      <use x=\"323.921875\" xlink:href=\"#DejaVuSans-109\"/>\r\n      <use x=\"421.333984\" xlink:href=\"#DejaVuSans-101\"/>\r\n      <use x=\"482.857422\" xlink:href=\"#DejaVuSans-115\"/>\r\n     </g>\r\n    </g>\r\n   </g>\r\n  </g>\r\n </g>\r\n <defs>\r\n  <clipPath id=\"pc4adf13a34\">\r\n   <rect height=\"217.44\" width=\"334.8\" x=\"66.053125\" y=\"22.318125\"/>\r\n  </clipPath>\r\n </defs>\r\n</svg>\r\n",
      "image/png": "[encoded data removed]"
     },
     "metadata": {
      "needs_background": "light"
     }
    }
   ],
   "source": [
    "# one last time, let's look at the sampling rate:\n",
    "n_iter = len(datafile_concatdataset)\n",
    "t_iter = np.zeros(n_iter)\n",
    "for n in range(n_iter):\n",
    "    t = time.time()\n",
    "    src, trg = datafile_concatdataset.__getitem__(n)\n",
    "    t_iter[n] = time.time() - t\n",
    "plt.hist(t_iter,100,label='read times');\n",
    "plt.axvline(t_iter.mean(),color='r',label='mean')\n",
    "plt.xscale('linear')\n",
    "plt.xlabel('Read time (s)')\n",
    "plt.ylabel('sample frequency')\n",
    "plt.title('1s sample read time distribution - DatafileConcatDataset class')\n",
    "plt.legend(loc=0)\n",
    "print(f'Mean read time: {t_iter.mean():0.3E}')\n",
    "print(f'Total read time ({n_iter} reads): {t_iter.sum():0.3E}')\n",
    "# plt.savefig('read_time_hist.png')"
   ]
  },
  {
   "source": [
    "So there you go! A set of classes (only 3) to convert a collection of data files into a single pytorch dataset. They all draw from the same data channels!\n",
    "\n",
    "...but there's more work to be done. Say you have data stored in a .npz file, or a differently formatted binary file? It'd be nice to have that worked into the datafile __init__() interface. "
   ],
   "cell_type": "markdown",
   "metadata": {}
  },
  {
   "cell_type": "code",
   "execution_count": null,
   "metadata": {},
   "outputs": [],
   "source": []
  }
 ]
}