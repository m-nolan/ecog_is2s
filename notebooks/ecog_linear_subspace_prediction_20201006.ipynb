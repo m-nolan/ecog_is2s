{
 "metadata": {
  "language_info": {
   "codemirror_mode": {
    "name": "ipython",
    "version": 3
   },
   "file_extension": ".py",
   "mimetype": "text/x-python",
   "name": "python",
   "nbconvert_exporter": "python",
   "pygments_lexer": "ipython3",
   "version": "3.7.7-final"
  },
  "orig_nbformat": 2,
  "kernelspec": {
   "name": "Python 3.7.7 64-bit ('ecog_is2s': conda)",
   "display_name": "Python 3.7.7 64-bit ('ecog_is2s': conda)",
   "metadata": {
    "interpreter": {
     "hash": "fe8054fe0736511d0a995e424bd42fab5ba13013efdf79ed2907f82c79967e8d"
    }
   }
  }
 },
 "nbformat": 4,
 "nbformat_minor": 2,
 "cells": [
  {
   "cell_type": "code",
   "execution_count": null,
   "metadata": {},
   "outputs": [],
   "source": [
    "import os.path as path\n",
    "from os import makedirs, chmod\n",
    "import glob\n",
    "import functools\n",
    "\n",
    "import time\n",
    "import datetime\n",
    "import tqdm\n",
    "\n",
    "import aopy\n",
    "import ecog_is2s\n",
    "\n",
    "import numpy as np\n",
    "import torch\n",
    "import torch.optim as optim\n",
    "from torchvision.transforms import Compose\n",
    "\n",
    "import matplotlib.pyplot as plt\n",
    "\n",
    "import sys\n",
    "\n",
    "sys.path.append(\"C:\\\\Users\\\\mickey\\\\aoLab\\\\code\\\\py4sid\")\n",
    "import estimation"
   ]
  },
  {
   "cell_type": "code",
   "execution_count": null,
   "metadata": {
    "tags": []
   },
   "outputs": [],
   "source": [
    "# file list to dataset\n",
    "data_path_root = 'C:\\\\Users\\\\mickey\\\\aoLab\\\\Data\\\\WirelessData\\\\Goose_Multiscale_M1'\n",
    "data_path_day = path.join(data_path_root,'18032*')\n",
    "# data_file_list = glob.glob(path.join(data_path_day,'0[0-9]*\\\\*ECOG*clfp_ds250_fl0u10.dat'))\n",
    "data_file_list = glob.glob(path.join(data_path_day,'0[0-9]*\\\\*ECOG*clfp_ds250.dat'))\n",
    "# device = torch.device('cuda' if torch.cuda.is_available() else 'cpu')\n",
    "device = 'cpu'\n",
    "print('mounting to device: {}'.format(device))\n",
    "print(f'files found:\\t{len(data_file_list)}')\n",
    "print(f'files: {data_file_list}')\n",
    "datafile_list = [aopy.data.DataFile(df) for df in data_file_list]"
   ]
  },
  {
   "cell_type": "code",
   "execution_count": null,
   "metadata": {
    "tags": []
   },
   "outputs": [],
   "source": [
    "src_t = 0.5\n",
    "trg_t = 0.25\n",
    "step_t = src_t+trg_t\n",
    "in_mem = True\n",
    "diff_transform = ecog_is2s.Util.add_signal_diff() # no need for the srate parameter, dx est. is z-scored as well\n",
    "zscore_transform = ecog_is2s.Util.local_zscore()\n",
    "# transform = lambda sample : diff_transform(zscore_transform(sample))\n",
    "transform = zscore_transform\n",
    "dfds_list = [aopy.data.DatafileDataset(df,src_t,trg_t,step_t,device=device,in_mem=in_mem) for df in datafile_list]\n",
    "datafile_concatdataset = aopy.data.DatafileConcatDataset(dfds_list,transform=transform)"
   ]
  },
  {
   "cell_type": "code",
   "execution_count": null,
   "metadata": {
    "tags": []
   },
   "outputs": [],
   "source": [
    "red_dim = 10\n",
    "lags = 10\n",
    "for sample_idx, (src, trg) in enumerate(datafile_concatdataset):\n",
    "    Ahat, Chat = estimation.estimate_parameters_moments(src,lags,red_dim)\n",
    "    Chat_pinv = np.linalg.pinv(Chat)\n",
    "    breakpoint()\n",
    "    enc_hat = src.numpy @ Chat_pinv"
   ]
  },
  {
   "cell_type": "code",
   "execution_count": null,
   "metadata": {},
   "outputs": [],
   "source": [
    "(src.numpy() @ Chat_pinv.T).shape"
   ]
  },
  {
   "cell_type": "code",
   "execution_count": null,
   "metadata": {},
   "outputs": [],
   "source": [
    "ex_idx = 1000\n",
    "src, trg = datafile_concatdataset.__getitem__(ex_idx)\n",
    "Ahat = np.linalg.pinv(src[:-1,:]) @ src[1:,:].numpy()\n",
    "trg_hat = np.zeros(trg.shape)\n",
    "trg_hat[0,:] = src[-1,:] @ Ahat\n",
    "for idx in range(1,trg.shape[0]):\n",
    "    trg_hat[idx,:] = trg_hat[idx-1,:] @ Ahat\n",
    "t_src = np.arange(src.shape[0])/datafile_concatdataset.srate\n",
    "t_trg = np.arange(trg.shape[0])/datafile_concatdataset.srate + src_t\n",
    "plot_ch_idx = -1\n",
    "plt.plot(t_src,src[:,plot_ch_idx],label='src')\n",
    "plt.plot(t_trg,trg[:,plot_ch_idx],label='trg')\n",
    "plt.plot(t_trg,trg_hat[:,plot_ch_idx],label='trg_hat')\n",
    "plt.xlabel('time (s)')\n",
    "plt.ylabel('a.u.')\n",
    "plt.title(f'sample {sample_idx}')\n",
    "plt.legend(loc=0)"
   ]
  },
  {
   "cell_type": "code",
   "execution_count": null,
   "metadata": {},
   "outputs": [],
   "source": [
    "data = datafile_list[0].read()"
   ]
  },
  {
   "cell_type": "code",
   "execution_count": null,
   "metadata": {},
   "outputs": [],
   "source": [
    "lags = 10\n",
    "red_dim = 30\n",
    "Ahat, Chat = estimation.estimate_parameters_moments(data,lags,red_dim)"
   ]
  },
  {
   "cell_type": "code",
   "execution_count": null,
   "metadata": {},
   "outputs": [],
   "source": [
    "a = np.random.randn(10,5)\n",
    "b = np.cov(a)\n",
    "b.shape"
   ]
  },
  {
   "cell_type": "code",
   "execution_count": null,
   "metadata": {},
   "outputs": [],
   "source": []
  }
 ]
}