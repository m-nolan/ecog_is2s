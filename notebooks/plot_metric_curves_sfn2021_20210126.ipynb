{
 "metadata": {
  "language_info": {
   "codemirror_mode": {
    "name": "ipython",
    "version": 3
   },
   "file_extension": ".py",
   "mimetype": "text/x-python",
   "name": "python",
   "nbconvert_exporter": "python",
   "pygments_lexer": "ipython3",
   "version": "3.7.6-final"
  },
  "orig_nbformat": 2,
  "kernelspec": {
   "name": "python3",
   "display_name": "Python 3",
   "language": "python"
  }
 },
 "nbformat": 4,
 "nbformat_minor": 2,
 "cells": [
  {
   "cell_type": "code",
   "execution_count": null,
   "metadata": {},
   "outputs": [],
   "source": [
    "import numpy as np\n",
    "import matplotlib.pyplot as plt"
   ]
  },
  {
   "cell_type": "code",
   "execution_count": null,
   "metadata": {},
   "outputs": [],
   "source": [
    "stat_data = np.array([0.348301977,\t0.245544996,\t0.475434501,\t0.945535119,\t0.892286315,\t0.978299762,\n",
    "                    0.313512504,\t0.230142362,\t0.419394349,\t0.959622778,\t0.921718997,\t0.982930537,\n",
    "                    0.332859933,\t0.237718908,\t0.450340571,\t0.951780556,\t0.905209154,\t0.980418685,\n",
    "                    0.324264765,\t0.233360445,\t0.437347781,\t0.955354873,\t0.912622549,\t0.981491115,\n",
    "                    0.554036379,\t0.4938591,\t0.615687679,\t0.840175109,\t0.797754476,\t0.877815797]).reshape(5,-1)\n",
    "rpe_mean = stat_data[:,0]\n",
    "rpe_lb = stat_data[:,1]\n",
    "rpe_ub = stat_data[:,2]\n",
    "corr_mean = stat_data[:,3]\n",
    "corr_lb = stat_data[:,4]\n",
    "corr_ub = stat_data[:,5]\n",
    "ar_rpe_mean = 1.02\n",
    "ar_rpe_lb = 1.01\n",
    "ar_rpe_ub = 2.67\n",
    "ar_corr_mean = 0.25\n",
    "ar_corr_lb = 0.18\n",
    "ar_corr_ub = 0.34\n",
    "factors = np.array([256, 128, 96, 64, 32])"
   ]
  },
  {
   "cell_type": "code",
   "execution_count": null,
   "metadata": {},
   "outputs": [],
   "source": [
    "f,ax = plt.subplots(1,2,dpi=200,figsize=(6,3),constrained_layout=True)\n",
    "# RPE\n",
    "ax[0].axhline(ar_rpe_mean,color='k',label='AR mean')\n",
    "ax[0].axhline(ar_rpe_lb,color='k',linestyle=':',label='AR 95% CI')\n",
    "ax[0].axhline(ar_rpe_ub,color='k',linestyle=':')\n",
    "ax[0].fill_between(factors,rpe_lb,rpe_ub,label='Model 95% CI',alpha=0.2)\n",
    "ax[0].plot(factors,rpe_mean,label='Model mean')\n",
    "ax[0].set_ylim(0,3)\n",
    "ax[0].legend(loc=0)\n",
    "ax[0].set_title('RPE')\n",
    "ax[0].set_xlabel('$n_{factor}$')\n",
    "# Corr\n",
    "ax[1].axhline(ar_corr_mean,color='k',label='AR mean')\n",
    "ax[1].axhline(ar_corr_lb,color='k',linestyle=':',label='AR 95% CI')\n",
    "ax[1].axhline(ar_corr_ub,color='k',linestyle=':')\n",
    "ax[1].fill_between(factors,corr_lb,corr_ub,label='Model 95% CI',alpha=0.2)\n",
    "ax[1].plot(factors,corr_mean,label='Model mean')\n",
    "ax[1].set_ylim(0,1.1)\n",
    "ax[1].legend(loc=0)\n",
    "ax[1].set_title('Corr.')\n",
    "ax[1].set_xlabel('$n_{factor}$')\n",
    "# save figure\n",
    "f.savefig('G:\\\\My Drive\\\\publications\\\\SfN 2021 online\\\\metrics_plot.png')"
   ]
  },
  {
   "cell_type": "code",
   "execution_count": null,
   "metadata": {},
   "outputs": [],
   "source": []
  }
 ]
}