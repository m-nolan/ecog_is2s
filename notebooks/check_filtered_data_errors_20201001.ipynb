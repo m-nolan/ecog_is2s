{
 "metadata": {
  "language_info": {
   "codemirror_mode": {
    "name": "ipython",
    "version": 3
   },
   "file_extension": ".py",
   "mimetype": "text/x-python",
   "name": "python",
   "nbconvert_exporter": "python",
   "pygments_lexer": "ipython3",
   "version": "3.7.7-final"
  },
  "orig_nbformat": 2,
  "kernelspec": {
   "name": "Python 3.7.7 64-bit ('ecog_is2s': conda)",
   "display_name": "Python 3.7.7 64-bit ('ecog_is2s': conda)",
   "metadata": {
    "interpreter": {
     "hash": "fe8054fe0736511d0a995e424bd42fab5ba13013efdf79ed2907f82c79967e8d"
    }
   }
  }
 },
 "nbformat": 4,
 "nbformat_minor": 2,
 "cells": [
  {
   "cell_type": "code",
   "execution_count": 1,
   "metadata": {},
   "outputs": [],
   "source": [
    "import aopy\n",
    "import os.path as path\n",
    "from os import makedirs, chmod\n",
    "import glob\n",
    "import numpy as np"
   ]
  },
  {
   "cell_type": "code",
   "execution_count": 2,
   "metadata": {
    "tags": []
   },
   "outputs": [
    {
     "output_type": "stream",
     "name": "stdout",
     "text": "mounting to device: cpu\nfiles found:\t39\nfiles: [&#39;C:\\\\Users\\\\mickey\\\\aoLab\\\\Data\\\\WirelessData\\\\Goose_Multiscale_M1\\\\180325\\\\001\\\\rec001.LM1_ECOG_3.clfp_ds250_fl0u10.dat&#39;, &#39;C:\\\\Users\\\\mickey\\\\aoLab\\\\Data\\\\WirelessData\\\\Goose_Multiscale_M1\\\\180325\\\\002\\\\rec002.LM1_ECOG_3.clfp_ds250_fl0u10.dat&#39;, &#39;C:\\\\Users\\\\mickey\\\\aoLab\\\\Data\\\\WirelessData\\\\Goose_Multiscale_M1\\\\180325\\\\003\\\\rec003.LM1_ECOG_3.clfp_ds250_fl0u10.dat&#39;, &#39;C:\\\\Users\\\\mickey\\\\aoLab\\\\Data\\\\WirelessData\\\\Goose_Multiscale_M1\\\\180325\\\\004\\\\rec004.LM1_ECOG_3.clfp_ds250_fl0u10.dat&#39;, &#39;C:\\\\Users\\\\mickey\\\\aoLab\\\\Data\\\\WirelessData\\\\Goose_Multiscale_M1\\\\180325\\\\005\\\\rec005.LM1_ECOG_3.clfp_ds250_fl0u10.dat&#39;, &#39;C:\\\\Users\\\\mickey\\\\aoLab\\\\Data\\\\WirelessData\\\\Goose_Multiscale_M1\\\\180325\\\\006\\\\rec006.LM1_ECOG_3.clfp_ds250_fl0u10.dat&#39;, &#39;C:\\\\Users\\\\mickey\\\\aoLab\\\\Data\\\\WirelessData\\\\Goose_Multiscale_M1\\\\180325\\\\007\\\\rec007.LM1_ECOG_3.clfp_ds250_fl0u10.dat&#39;, &#39;C:\\\\Users\\\\mickey\\\\aoLab\\\\Data\\\\WirelessData\\\\Goose_Multiscale_M1\\\\180325\\\\008\\\\rec008.LM1_ECOG_3.clfp_ds250_fl0u10.dat&#39;, &#39;C:\\\\Users\\\\mickey\\\\aoLab\\\\Data\\\\WirelessData\\\\Goose_Multiscale_M1\\\\180325\\\\009\\\\rec009.LM1_ECOG_3.clfp_ds250_fl0u10.dat&#39;, &#39;C:\\\\Users\\\\mickey\\\\aoLab\\\\Data\\\\WirelessData\\\\Goose_Multiscale_M1\\\\180325\\\\010\\\\rec010.LM1_ECOG_3.clfp_ds250_fl0u10.dat&#39;, &#39;C:\\\\Users\\\\mickey\\\\aoLab\\\\Data\\\\WirelessData\\\\Goose_Multiscale_M1\\\\180326\\\\002\\\\rec002.LM1_ECOG_3.clfp_ds250_fl0u10.dat&#39;, &#39;C:\\\\Users\\\\mickey\\\\aoLab\\\\Data\\\\WirelessData\\\\Goose_Multiscale_M1\\\\180326\\\\003\\\\rec003.LM1_ECOG_3.clfp_ds250_fl0u10.dat&#39;, &#39;C:\\\\Users\\\\mickey\\\\aoLab\\\\Data\\\\WirelessData\\\\Goose_Multiscale_M1\\\\180326\\\\004\\\\rec004.LM1_ECOG_3.clfp_ds250_fl0u10.dat&#39;, &#39;C:\\\\Users\\\\mickey\\\\aoLab\\\\Data\\\\WirelessData\\\\Goose_Multiscale_M1\\\\180326\\\\005\\\\rec005.LM1_ECOG_3.clfp_ds250_fl0u10.dat&#39;, &#39;C:\\\\Users\\\\mickey\\\\aoLab\\\\Data\\\\WirelessData\\\\Goose_Multiscale_M1\\\\180326\\\\006\\\\rec006.LM1_ECOG_3.clfp_ds250_fl0u10.dat&#39;, &#39;C:\\\\Users\\\\mickey\\\\aoLab\\\\Data\\\\WirelessData\\\\Goose_Multiscale_M1\\\\180326\\\\007\\\\rec007.LM1_ECOG_3.clfp_ds250_fl0u10.dat&#39;, &#39;C:\\\\Users\\\\mickey\\\\aoLab\\\\Data\\\\WirelessData\\\\Goose_Multiscale_M1\\\\180326\\\\008\\\\rec008.LM1_ECOG_3.clfp_ds250_fl0u10.dat&#39;, &#39;C:\\\\Users\\\\mickey\\\\aoLab\\\\Data\\\\WirelessData\\\\Goose_Multiscale_M1\\\\180326\\\\009\\\\rec009.LM1_ECOG_3.clfp_ds250_fl0u10.dat&#39;, &#39;C:\\\\Users\\\\mickey\\\\aoLab\\\\Data\\\\WirelessData\\\\Goose_Multiscale_M1\\\\180326\\\\010\\\\rec010.LM1_ECOG_3.clfp_ds250_fl0u10.dat&#39;, &#39;C:\\\\Users\\\\mickey\\\\aoLab\\\\Data\\\\WirelessData\\\\Goose_Multiscale_M1\\\\180327\\\\001\\\\rec001.LM1_ECOG_3.clfp_ds250_fl0u10.dat&#39;, &#39;C:\\\\Users\\\\mickey\\\\aoLab\\\\Data\\\\WirelessData\\\\Goose_Multiscale_M1\\\\180327\\\\002\\\\rec002.LM1_ECOG_3.clfp_ds250_fl0u10.dat&#39;, &#39;C:\\\\Users\\\\mickey\\\\aoLab\\\\Data\\\\WirelessData\\\\Goose_Multiscale_M1\\\\180327\\\\003\\\\rec003.LM1_ECOG_3.clfp_ds250_fl0u10.dat&#39;, &#39;C:\\\\Users\\\\mickey\\\\aoLab\\\\Data\\\\WirelessData\\\\Goose_Multiscale_M1\\\\180327\\\\004\\\\rec004.LM1_ECOG_3.clfp_ds250_fl0u10.dat&#39;, &#39;C:\\\\Users\\\\mickey\\\\aoLab\\\\Data\\\\WirelessData\\\\Goose_Multiscale_M1\\\\180327\\\\005\\\\rec005.LM1_ECOG_3.clfp_ds250_fl0u10.dat&#39;, &#39;C:\\\\Users\\\\mickey\\\\aoLab\\\\Data\\\\WirelessData\\\\Goose_Multiscale_M1\\\\180327\\\\006\\\\rec006.LM1_ECOG_3.clfp_ds250_fl0u10.dat&#39;, &#39;C:\\\\Users\\\\mickey\\\\aoLab\\\\Data\\\\WirelessData\\\\Goose_Multiscale_M1\\\\180327\\\\007\\\\rec007.LM1_ECOG_3.clfp_ds250_fl0u10.dat&#39;, &#39;C:\\\\Users\\\\mickey\\\\aoLab\\\\Data\\\\WirelessData\\\\Goose_Multiscale_M1\\\\180327\\\\008\\\\rec008.LM1_ECOG_3.clfp_ds250_fl0u10.dat&#39;, &#39;C:\\\\Users\\\\mickey\\\\aoLab\\\\Data\\\\WirelessData\\\\Goose_Multiscale_M1\\\\180327\\\\009\\\\rec009.LM1_ECOG_3.clfp_ds250_fl0u10.dat&#39;, &#39;C:\\\\Users\\\\mickey\\\\aoLab\\\\Data\\\\WirelessData\\\\Goose_Multiscale_M1\\\\180328\\\\001\\\\rec001.LM1_ECOG_3.clfp_ds250_fl0u10.dat&#39;, &#39;C:\\\\Users\\\\mickey\\\\aoLab\\\\Data\\\\WirelessData\\\\Goose_Multiscale_M1\\\\180328\\\\002\\\\rec002.LM1_ECOG_3.clfp_ds250_fl0u10.dat&#39;, &#39;C:\\\\Users\\\\mickey\\\\aoLab\\\\Data\\\\WirelessData\\\\Goose_Multiscale_M1\\\\180328\\\\003\\\\rec003.LM1_ECOG_3.clfp_ds250_fl0u10.dat&#39;, &#39;C:\\\\Users\\\\mickey\\\\aoLab\\\\Data\\\\WirelessData\\\\Goose_Multiscale_M1\\\\180328\\\\004\\\\rec004.LM1_ECOG_3.clfp_ds250_fl0u10.dat&#39;, &#39;C:\\\\Users\\\\mickey\\\\aoLab\\\\Data\\\\WirelessData\\\\Goose_Multiscale_M1\\\\180328\\\\005\\\\rec005.LM1_ECOG_3.clfp_ds250_fl0u10.dat&#39;, &#39;C:\\\\Users\\\\mickey\\\\aoLab\\\\Data\\\\WirelessData\\\\Goose_Multiscale_M1\\\\180328\\\\006\\\\rec006.LM1_ECOG_3.clfp_ds250_fl0u10.dat&#39;, &#39;C:\\\\Users\\\\mickey\\\\aoLab\\\\Data\\\\WirelessData\\\\Goose_Multiscale_M1\\\\180328\\\\007\\\\rec007.LM1_ECOG_3.clfp_ds250_fl0u10.dat&#39;, &#39;C:\\\\Users\\\\mickey\\\\aoLab\\\\Data\\\\WirelessData\\\\Goose_Multiscale_M1\\\\180328\\\\008\\\\rec008.LM1_ECOG_3.clfp_ds250_fl0u10.dat&#39;, &#39;C:\\\\Users\\\\mickey\\\\aoLab\\\\Data\\\\WirelessData\\\\Goose_Multiscale_M1\\\\180328\\\\009\\\\rec009.LM1_ECOG_3.clfp_ds250_fl0u10.dat&#39;, &#39;C:\\\\Users\\\\mickey\\\\aoLab\\\\Data\\\\WirelessData\\\\Goose_Multiscale_M1\\\\180328\\\\010\\\\rec010.LM1_ECOG_3.clfp_ds250_fl0u10.dat&#39;, &#39;C:\\\\Users\\\\mickey\\\\aoLab\\\\Data\\\\WirelessData\\\\Goose_Multiscale_M1\\\\180328\\\\011\\\\rec011.LM1_ECOG_3.clfp_ds250_fl0u10.dat&#39;]\n"
    }
   ],
   "source": [
    "# file list to dataset\n",
    "data_path_root = 'C:\\\\Users\\\\mickey\\\\aoLab\\\\Data\\\\WirelessData\\\\Goose_Multiscale_M1'\n",
    "data_path_day = path.join(data_path_root,'18032*')\n",
    "data_file_list = glob.glob(path.join(data_path_day,'0[0-9]*\\\\*ECOG*clfp_ds250_fl0u10.dat'))\n",
    "device = 'cpu'\n",
    "print('mounting to device: {}'.format(device))\n",
    "print(f'files found:\\t{len(data_file_list)}')\n",
    "print(f'files: {data_file_list}')\n",
    "datafile_list = [aopy.data.DataFile(df) for df in data_file_list]"
   ]
  },
  {
   "cell_type": "code",
   "execution_count": 4,
   "metadata": {
    "tags": []
   },
   "outputs": [],
   "source": [
    "data = []\n",
    "data_size = np.zeros((len(datafile_list),2))\n",
    "for df_idx, df in enumerate(datafile_list):\n",
    "    data.append(df.read())\n",
    "    data_size[df_idx,:] = [*data[df_idx].shape]\n"
   ]
  },
  {
   "cell_type": "code",
   "execution_count": 8,
   "metadata": {},
   "outputs": [
    {
     "output_type": "execute_result",
     "data": {
      "text/plain": "array([7207.176, 7207.588, 7207.372, 7207.3  , 7207.264, 7207.232,\n       7207.8  , 7207.38 , 7207.648, 4255.932, 7207.368, 7207.4  ,\n       7207.468, 7207.392, 7207.388, 7207.336, 7207.516, 7207.476,\n       3790.868, 7207.884, 7207.772, 7207.656, 7207.612, 7207.628,\n       7207.62 , 7207.664, 7207.692, 2919.336, 7207.036, 7207.98 ,\n       7207.12 , 7207.68 , 7207.916, 7207.848, 7207.632,  735.492,\n       7207.548, 7207.48 , 3852.712])"
     },
     "metadata": {},
     "execution_count": 8
    }
   ],
   "source": [
    "data_size[:,1]/250"
   ]
  },
  {
   "cell_type": "code",
   "execution_count": null,
   "metadata": {},
   "outputs": [],
   "source": []
  }
 ]
}