{
 "cells": [
  {
   "cell_type": "code",
   "execution_count": null,
   "metadata": {},
   "outputs": [],
   "source": [
    "import numpy as np\n",
    "import numpy.linalg as npla\n",
    "import scipy as sp\n",
    "import scipy.signal as sps\n",
    "\n",
    "import sys\n",
    "import os\n",
    "import glob\n",
    "import pickle as pkl\n",
    "\n",
    "import matplotlib.pyplot as plt\n",
    "\n",
    "from aopy import datafilter, datareader\n",
    "\n",
    "# modules that aren't done yet\n",
    "sys.path.append('/Users/mickey/aoLab/code/analyze/')\n",
    "# sys.path.append('/home/mickey/analyze/')\n",
    "from tfspec import tfspec"
   ]
  },
  {
   "cell_type": "code",
   "execution_count": null,
   "metadata": {},
   "outputs": [],
   "source": [
    "# spectrogram creation + saving loop function\n",
    "def create_and_save_spectrogram(ecog_file, window_t, step_t, bw):\n",
    "    ## create filename for sgram, mask files\n",
    "    file_dir = os.path.dirname(ecog_file)\n",
    "    file_base = os.path.basename(ecog_file)\n",
    "    file_kern, file_ext = os.path.splitext(file_base)\n",
    "    sgram_file_base = file_kern + 'sgram'\n",
    "    sgram_mask_file_base = file_kern + 'sgram.mask.pkl'\n",
    "    sgram_mask_file = os.path.join(file_dir,sgram_mask_file_base)\n",
    "    \n",
    "    print('Processing spectrogram for file {}:'.format(ecog_file))\n",
    "    \n",
    "    ## load data\n",
    "    data, exp, mask = datareader.load_ecog_clfp_data(ecog_file)\n",
    "    srate = exp['srate']\n",
    "    n_ch = exp['num_ch']\n",
    "#     data[:,mask['hf'] & mask['sat']] = 0.\n",
    "    \n",
    "    ## create spectrogram with tfspec\n",
    "    # create taper structure\n",
    "    window_n = window_t*srate\n",
    "    step_n = step_t*srate\n",
    "    nw = window_t*bw/2\n",
    "    n_taper = 2*nw - 1\n",
    "    tapers = [window_t, nw, n_taper]\n",
    "    # compute sgram (all channels, all time - might be too much memory)\n",
    "    sgram_all = []\n",
    "    n_freq_bin = int(2**(np.ceil(np.log2(srate*window_t))))\n",
    "    n_window = int(np.floor((data.shape[-1]-srate*window_t)/(srate*step_t)))\n",
    "    sgram = np.zeros((n_ch,n_freq_bin,n_window),dtype=np.float32)\n",
    "    print('computing spectrograms...')\n",
    "    for ch_idx in range(n_ch):\n",
    "        print(f'{ch_idx+1}/{n_ch}')\n",
    "        sgram_, f_sgram, tidx_sgram, _ = tfspec(data[ch_idx,:][None,:],tapers=tapers,sampling=srate,dn=step_t)\n",
    "        breakpoint()\n",
    "        sgram[ch_idx,:,:] = np.float32(sgram_[0,:,:].copy().T)\n",
    "        del sgram_\n",
    "\n",
    "    ## create mask for noisy time regions of spectrogram\n",
    "    print('creating data mask...')\n",
    "    f_idx = f_sgram > 80.\n",
    "    window_power = np.log10(sgram[:,:,f_idx]).mean(axis=-1)\n",
    "    high_power_med = np.median(window_power,axis=-1)\n",
    "    high_power_std = window_power.std(axis=-1)\n",
    "    high_power_thresh = high_power_med + high_power_std/4\n",
    "    high_power_win = high_power_thresh[:,None] < window_power\n",
    "    breakpoint()\n",
    "\n",
    "    ## reshape and save spectrogram with np.tofile()\n",
    "    n_fft = len(f_sgram)\n",
    "    n_win = len(tidx_sgram)\n",
    "    sgram = sgram.reshape((n_ch*n_fft,n_win))\n",
    "    print('Saving spectrogram (ch {}):'.format(ch_idx))\n",
    "    sgram_file = os.path.join(file_dir,sgram_file_base) + file_ext\n",
    "    print('saving spectrogram file...')\n",
    "    sgram.tofile(sgram_file)\n",
    "\n",
    "    ## save mask\n",
    "    print('saving spectrogram mask...')\n",
    "    with open(sgram_mask_file,'wb') as f:\n",
    "        pkl.dump(high_power_win,f)\n",
    "        \n",
    "    return (sgram_file, sgram_mask_file)"
   ]
  },
  {
   "cell_type": "code",
   "execution_count": null,
   "metadata": {},
   "outputs": [],
   "source": [
    "window_t = 4\n",
    "step_t = 0.5\n",
    "bw = 1\n",
    "# get file list\n",
    "file_dir = '/Volumes/Samsung_T5/aoLab/Data/WirelessData/Goose_Multiscale_M1/180325/0*/'\n",
    "file_list = glob.glob(os.path.join(file_dir,'*.clfp_ds250.dat'))\n",
    "# print(file_list)\n",
    "\n",
    "for ecog_file in file_list[1:]:\n",
    "    print(ecog_file)\n",
    "    create_and_save_spectrogram(ecog_file,window_t,step_t,bw)"
   ]
  },
  {
   "cell_type": "code",
   "execution_count": null,
   "metadata": {},
   "outputs": [],
   "source": [
    "# plt.plot(high_power_win)"
   ]
  },
  {
   "cell_type": "code",
   "execution_count": null,
   "metadata": {},
   "outputs": [],
   "source": []
  }
 ],
 "metadata": {
  "kernelspec": {
   "display_name": "ecog_is2s",
   "language": "python",
   "name": "ecog_is2s"
  },
  "language_info": {
   "codemirror_mode": {
    "name": "ipython",
    "version": 3
   },
   "file_extension": ".py",
   "mimetype": "text/x-python",
   "name": "python",
   "nbconvert_exporter": "python",
   "pygments_lexer": "ipython3",
   "version": "3.7.6"
  }
 },
 "nbformat": 4,
 "nbformat_minor": 4
}
