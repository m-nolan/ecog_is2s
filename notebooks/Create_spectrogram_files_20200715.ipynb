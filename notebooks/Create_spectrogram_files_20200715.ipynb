{
 "cells": [
  {
   "cell_type": "code",
   "execution_count": null,
   "metadata": {},
   "outputs": [],
   "source": [
    "import numpy as np\n",
    "import numpy.linalg as npla\n",
    "import scipy as sp\n",
    "import scipy.signal as sps\n",
    "\n",
    "import sys\n",
    "import os\n",
    "from glob import glob\n",
    "import pickle as pkl\n",
    "\n",
    "import matplotlib.pyplot as plt\n",
    "\n",
    "from aopy import datafilter, datareader\n",
    "\n",
    "# modules that aren't done yet\n",
    "# sys.path.append('/Users/mickey/aoLab/code/analyze/')\n",
    "sys.path.append('C:\\\\Users\\\\mickey\\\\aoLab\\\\code\\\\analyze')\n",
    "# sys.path.append('/home/mickey/analyze/')\n",
    "from tfspec import tfspec"
   ]
  },
  {
   "cell_type": "code",
   "execution_count": null,
   "metadata": {},
   "outputs": [],
   "source": [
    "# spectrogram creation + saving loop function\n",
    "def create_and_save_spectrogram(ecog_file, window_t, step_t, bw):\n",
    "    ## create filename for sgram, mask files\n",
    "    file_dir = os.path.dirname(ecog_file)\n",
    "    file_base = os.path.basename(ecog_file)\n",
    "    file_kern, file_ext = os.path.splitext(file_base)\n",
    "    sgram_file_base = file_kern + 'sgram'\n",
    "    sgram_mask_file_base = file_kern + 'sgram.mask.pkl'\n",
    "    sgram_mask_file = os.path.join(file_dir,sgram_mask_file_base)\n",
    "    \n",
    "    print('Processing spectrogram for file {}:'.format(ecog_file))\n",
    "    \n",
    "    ## load data\n",
    "    data, exp, mask = datareader.load_ecog_clfp_data(ecog_file)\n",
    "    srate = exp['srate']\n",
    "    n_ch = exp['num_ch']\n",
    "    \n",
    "    ## create spectrogram with tfspec\n",
    "    # create taper structure\n",
    "    window_n = window_t*srate\n",
    "    step_n = step_t*srate\n",
    "    nw = window_t*bw/2\n",
    "    n_taper = 2*nw - 1\n",
    "    tapers = [window_t, nw, n_taper]\n",
    "    # compute sgram (all channels, all time - might be too much memory)\n",
    "    print('Computing spectrograms:')\n",
    "    for ch_idx in range(n_ch):\n",
    "        print('channel {}'.format(ch_idx))\n",
    "        if ch_idx == 1:\n",
    "            continue\n",
    "        # this freezes up on the second spectrogram. I can't figure out why.\n",
    "        sgram, f_sgram, tidx_sgram, _ = tfspec(data[ch_idx,:][None,:],tapers=tapers,sampling=srate,dn=step_t)\n",
    "    \n",
    "        ## create mask for noisy time regions of spectrogram\n",
    "        f_idx = f_sgram > 200.\n",
    "        window_power = np.log10(sgram[:,:,f_idx]).mean(axis=-1)\n",
    "        high_power_med = np.median(window_power,axis=-1)\n",
    "        high_power_std = window_power.std(axis=-1)\n",
    "        high_power_thresh = high_power_med + high_power_std/4\n",
    "        high_power_win = high_power_thresh[:,None] < window_power\n",
    "    \n",
    "        ## reshape and save spectrogram with np.tofile()\n",
    "        n_fft = len(f_sgram)\n",
    "        n_win = len(tidx_sgram)\n",
    "#         sgram = sgram.reshape((n_ch*n_fft,n_win))\n",
    "        print('Saving spectrogram (ch {}):'.format(ch_idx))\n",
    "        sgram_file = os.path.join(file_dir,sgram_file_base) + '.ch{}'.format(ch_idx) + file_ext\n",
    "        sgram.tofile(sgram_file)\n",
    "\n",
    "        ## save mask\n",
    "        print('Saving spectrogram mask:')\n",
    "        with open(sgram_mask_file,'wb') as f:\n",
    "            pkl.dump(high_power_win,f)\n",
    "            \n",
    "        del sgram\n",
    "        \n",
    "    return (sgram_file, sgram_mask_file)"
   ]
  },
  {
   "cell_type": "code",
   "execution_count": null,
   "metadata": {},
   "outputs": [],
   "source": [
    "window_t = 4\n",
    "step_t = 4\n",
    "bw = 1\n",
    "# get file list\n",
    "file_list = glob('C:\\\\Users\\\\mickey\\\\aoLab\\\\Data\\\\WirelessData\\\\Goose_Multiscale_M1\\\\18032[0-9]*\\\\0[0-9]*\\\\*ECOG_3.clfp.dat')\n",
    "# C:\\Users\\mickey\\aoLab\\Data\\WirelessData\\Goose_Multiscale_M1\\180325\\001\n",
    "# file_list = glob.glob(os.path.join(file_dir,'*.clfp.dat'))\n",
    "\n",
    "print(file_list)\n",
    "\n",
    "for ecog_file in file_list:\n",
    "    create_and_save_spectrogram(ecog_file,window_t,step_t,bw)"
   ]
  },
  {
   "cell_type": "code",
   "execution_count": null,
   "metadata": {},
   "outputs": [],
   "source": []
  }
 ],
 "metadata": {
  "kernelspec": {
   "name": "Python 3.7.7 64-bit ('ecog_is2s': conda)",
   "display_name": "Python 3.7.7 64-bit ('ecog_is2s': conda)",
   "metadata": {
    "interpreter": {
     "hash": "fe8054fe0736511d0a995e424bd42fab5ba13013efdf79ed2907f82c79967e8d"
    }
   }
  },
  "language_info": {
   "codemirror_mode": {
    "name": "ipython",
    "version": 3
   },
   "file_extension": ".py",
   "mimetype": "text/x-python",
   "name": "python",
   "nbconvert_exporter": "python",
   "pygments_lexer": "ipython3",
   "version": "3.7.7-final"
  }
 },
 "nbformat": 4,
 "nbformat_minor": 4
}