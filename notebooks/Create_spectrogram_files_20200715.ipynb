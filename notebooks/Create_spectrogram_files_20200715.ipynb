{
 "cells": [
  {
   "cell_type": "code",
   "execution_count": 1,
   "metadata": {},
   "outputs": [],
   "source": [
    "import numpy as np\n",
    "import numpy.linalg as npla\n",
    "import scipy as sp\n",
    "import scipy.signal as sps\n",
    "\n",
    "import sys\n",
    "import os\n",
    "import glob\n",
    "import pickle as pkl\n",
    "\n",
    "import matplotlib.pyplot as plt\n",
    "\n",
    "from aopy import datafilter, datareader\n",
    "\n",
    "# modules that aren't done yet\n",
    "sys.path.append('/Users/mickey/aoLab/code/analyze/')\n",
    "# sys.path.append('/home/mickey/analyze/')\n",
    "from tfspec import tfspec"
   ]
  },
  {
   "cell_type": "code",
   "execution_count": 2,
   "metadata": {},
   "outputs": [],
   "source": [
    "# spectrogram creation + saving loop function\n",
    "def create_and_save_spectrogram(ecog_file, window_t, step_t, bw):\n",
    "    ## create filename for sgram, mask files\n",
    "    file_dir = os.path.dirname(ecog_file)\n",
    "    file_base = os.path.basename(ecog_file)\n",
    "    file_kern, file_ext = os.path.splitext(file_base)\n",
    "    sgram_file_base = file_kern + 'sgram'\n",
    "    sgram_mask_file_base = file_kern + 'sgram.mask.pkl'\n",
    "    sgram_mask_file = os.path.join(file_dir,sgram_mask_file_base)\n",
    "    \n",
    "    print('Processing spectrogram for file {}:'.format(ecog_file))\n",
    "    \n",
    "    ## load data\n",
    "    data, exp, mask = datareader.load_ecog_clfp_data(ecog_file)\n",
    "    srate = exp['srate']\n",
    "    n_ch = exp['num_ch']\n",
    "    \n",
    "    ## create spectrogram with tfspec\n",
    "    # create taper structure\n",
    "    window_n = window_t*srate\n",
    "    step_n = step_t*srate\n",
    "    nw = window_t*bw/2\n",
    "    n_taper = 2*nw - 1\n",
    "    tapers = [window_t, nw, n_taper]\n",
    "    # compute sgram (all channels, all time - might be too much memory)\n",
    "    print('Computing spectrograms:')\n",
    "    for ch_idx in range(n_ch):\n",
    "        print('channel {}'.format(ch_idx))\n",
    "        if ch_idx == 1:\n",
    "            continue\n",
    "        # this freezes up on the second spectrogram. I can't figure out why.\n",
    "        sgram, f_sgram, tidx_sgram, _ = tfspec(data[ch_idx,:][None,:],tapers=tapers,sampling=srate,dn=step_t)\n",
    "    \n",
    "        ## create mask for noisy time regions of spectrogram\n",
    "        f_idx = f_sgram > 200.\n",
    "        window_power = np.log10(sgram[:,:,f_idx]).mean(axis=-1)\n",
    "        high_power_med = np.median(window_power,axis=-1)\n",
    "        high_power_std = window_power.std(axis=-1)\n",
    "        high_power_thresh = high_power_med + high_power_std/4\n",
    "        high_power_win = high_power_thresh[:,None] < window_power\n",
    "    \n",
    "        ## reshape and save spectrogram with np.tofile()\n",
    "        n_fft = len(f_sgram)\n",
    "        n_win = len(tidx_sgram)\n",
    "#         sgram = sgram.reshape((n_ch*n_fft,n_win))\n",
    "        print('Saving spectrogram (ch {}):'.format(ch_idx))\n",
    "        sgram_file = os.path.join(file_dir,sgram_file_base) + '.ch{}'.format(ch_idx) + file_ext\n",
    "        sgram.tofile(sgram_file)\n",
    "\n",
    "        ## save mask\n",
    "        print('Saving spectrogram mask:')\n",
    "        with open(sgram_mask_file,'wb') as f:\n",
    "            pkl.dump(high_power_win,f)\n",
    "            \n",
    "        del sgram\n",
    "        \n",
    "    return (sgram_file, sgram_mask_file)"
   ]
  },
  {
   "cell_type": "code",
   "execution_count": 3,
   "metadata": {},
   "outputs": [
    {
     "name": "stdout",
     "output_type": "stream",
     "text": [
      "['/Volumes/Samsung_T5/aoLab/Data/WirelessData/Goose_Multiscale_M1/180325/001/rec001.LM1_ECOG_3.clfp.dat', '/Volumes/Samsung_T5/aoLab/Data/WirelessData/Goose_Multiscale_M1/180325/002/rec002.LM1_ECOG_3.clfp.dat', '/Volumes/Samsung_T5/aoLab/Data/WirelessData/Goose_Multiscale_M1/180325/010/rec010.LM1_ECOG_3.clfp.dat', '/Volumes/Samsung_T5/aoLab/Data/WirelessData/Goose_Multiscale_M1/180325/008/rec008.LM1_ECOG_3.clfp.dat', '/Volumes/Samsung_T5/aoLab/Data/WirelessData/Goose_Multiscale_M1/180325/009/rec009.LM1_ECOG_3.clfp.dat', '/Volumes/Samsung_T5/aoLab/Data/WirelessData/Goose_Multiscale_M1/180325/005/rec005.LM1_ECOG_3.clfp.dat', '/Volumes/Samsung_T5/aoLab/Data/WirelessData/Goose_Multiscale_M1/180325/004/rec004.LM1_ECOG_3.clfp.dat', '/Volumes/Samsung_T5/aoLab/Data/WirelessData/Goose_Multiscale_M1/180325/003/rec003.LM1_ECOG_3.clfp.dat', '/Volumes/Samsung_T5/aoLab/Data/WirelessData/Goose_Multiscale_M1/180325/007/rec007.LM1_ECOG_3.clfp.dat', '/Volumes/Samsung_T5/aoLab/Data/WirelessData/Goose_Multiscale_M1/180325/006/rec006.LM1_ECOG_3.clfp.dat']\n",
      "Processing spectrogram for file /Volumes/Samsung_T5/aoLab/Data/WirelessData/Goose_Multiscale_M1/180325/001/rec001.LM1_ECOG_3.clfp.dat:\n",
      "Loading data file:\n",
      "Computing spectrograms:\n",
      "channel 0\n",
      "Saving spectrogram (ch 0):\n",
      "Saving spectrogram mask:\n",
      "channel 1\n",
      "channel 2\n"
     ]
    },
    {
     "ename": "KeyboardInterrupt",
     "evalue": "",
     "output_type": "error",
     "traceback": [
      "\u001b[0;31m---------------------------------------------------------------------------\u001b[0m",
      "\u001b[0;31mKeyboardInterrupt\u001b[0m                         Traceback (most recent call last)",
      "\u001b[0;32m<ipython-input-3-9f9cc2dba80a>\u001b[0m in \u001b[0;36m<module>\u001b[0;34m\u001b[0m\n\u001b[1;32m      8\u001b[0m \u001b[0;34m\u001b[0m\u001b[0m\n\u001b[1;32m      9\u001b[0m \u001b[0;32mfor\u001b[0m \u001b[0mecog_file\u001b[0m \u001b[0;32min\u001b[0m \u001b[0mfile_list\u001b[0m\u001b[0;34m:\u001b[0m\u001b[0;34m\u001b[0m\u001b[0;34m\u001b[0m\u001b[0m\n\u001b[0;32m---> 10\u001b[0;31m     \u001b[0mcreate_and_save_spectrogram\u001b[0m\u001b[0;34m(\u001b[0m\u001b[0mecog_file\u001b[0m\u001b[0;34m,\u001b[0m\u001b[0mwindow_t\u001b[0m\u001b[0;34m,\u001b[0m\u001b[0mstep_t\u001b[0m\u001b[0;34m,\u001b[0m\u001b[0mbw\u001b[0m\u001b[0;34m)\u001b[0m\u001b[0;34m\u001b[0m\u001b[0;34m\u001b[0m\u001b[0m\n\u001b[0m",
      "\u001b[0;32m<ipython-input-2-21e058767a6d>\u001b[0m in \u001b[0;36mcreate_and_save_spectrogram\u001b[0;34m(ecog_file, window_t, step_t, bw)\u001b[0m\n\u001b[1;32m     30\u001b[0m             \u001b[0;32mcontinue\u001b[0m\u001b[0;34m\u001b[0m\u001b[0;34m\u001b[0m\u001b[0m\n\u001b[1;32m     31\u001b[0m         \u001b[0;31m# this freezes up on the second spectrogram. I can't figure out why.\u001b[0m\u001b[0;34m\u001b[0m\u001b[0;34m\u001b[0m\u001b[0;34m\u001b[0m\u001b[0m\n\u001b[0;32m---> 32\u001b[0;31m         \u001b[0msgram\u001b[0m\u001b[0;34m,\u001b[0m \u001b[0mf_sgram\u001b[0m\u001b[0;34m,\u001b[0m \u001b[0mtidx_sgram\u001b[0m\u001b[0;34m,\u001b[0m \u001b[0m_\u001b[0m \u001b[0;34m=\u001b[0m \u001b[0mtfspec\u001b[0m\u001b[0;34m(\u001b[0m\u001b[0mdata\u001b[0m\u001b[0;34m[\u001b[0m\u001b[0mch_idx\u001b[0m\u001b[0;34m,\u001b[0m\u001b[0;34m:\u001b[0m\u001b[0;34m]\u001b[0m\u001b[0;34m[\u001b[0m\u001b[0;32mNone\u001b[0m\u001b[0;34m,\u001b[0m\u001b[0;34m:\u001b[0m\u001b[0;34m]\u001b[0m\u001b[0;34m,\u001b[0m\u001b[0mtapers\u001b[0m\u001b[0;34m=\u001b[0m\u001b[0mtapers\u001b[0m\u001b[0;34m,\u001b[0m\u001b[0msampling\u001b[0m\u001b[0;34m=\u001b[0m\u001b[0msrate\u001b[0m\u001b[0;34m,\u001b[0m\u001b[0mdn\u001b[0m\u001b[0;34m=\u001b[0m\u001b[0mstep_t\u001b[0m\u001b[0;34m)\u001b[0m\u001b[0;34m\u001b[0m\u001b[0;34m\u001b[0m\u001b[0m\n\u001b[0m\u001b[1;32m     33\u001b[0m \u001b[0;34m\u001b[0m\u001b[0m\n\u001b[1;32m     34\u001b[0m         \u001b[0;31m## create mask for noisy time regions of spectrogram\u001b[0m\u001b[0;34m\u001b[0m\u001b[0;34m\u001b[0m\u001b[0;34m\u001b[0m\u001b[0m\n",
      "\u001b[0;32m~/aoLab/code/analyze/tfspec.py\u001b[0m in \u001b[0;36mtfspec\u001b[0;34m(X, tapers, sampling, errorchk, dn, fk, pad, pval, flag, contflag, Errorbar)\u001b[0m\n\u001b[1;32m    145\u001b[0m                 \u001b[0mupperBound\u001b[0m \u001b[0;34m=\u001b[0m \u001b[0mint\u001b[0m\u001b[0;34m(\u001b[0m\u001b[0mnfk\u001b[0m\u001b[0;34m[\u001b[0m\u001b[0;36m1\u001b[0m\u001b[0;34m]\u001b[0m\u001b[0;34m)\u001b[0m\u001b[0;34m\u001b[0m\u001b[0;34m\u001b[0m\u001b[0m\n\u001b[1;32m    146\u001b[0m                 \u001b[0minputArray\u001b[0m \u001b[0;34m=\u001b[0m \u001b[0mnp\u001b[0m\u001b[0;34m.\u001b[0m\u001b[0meinsum\u001b[0m\u001b[0;34m(\u001b[0m\u001b[0;34m'ij,ki->ijk'\u001b[0m\u001b[0;34m,\u001b[0m\u001b[0mtmp\u001b[0m\u001b[0;34m,\u001b[0m\u001b[0mdpss_tapers\u001b[0m\u001b[0;34m)\u001b[0m \u001b[0;31m# N x nch x k\u001b[0m\u001b[0;34m\u001b[0m\u001b[0;34m\u001b[0m\u001b[0m\n\u001b[0;32m--> 147\u001b[0;31m                 \u001b[0mXk\u001b[0m \u001b[0;34m=\u001b[0m \u001b[0mnp\u001b[0m\u001b[0;34m.\u001b[0m\u001b[0mfft\u001b[0m\u001b[0;34m.\u001b[0m\u001b[0mfft\u001b[0m\u001b[0;34m(\u001b[0m\u001b[0minputArray\u001b[0m\u001b[0;34m,\u001b[0m\u001b[0maxis\u001b[0m\u001b[0;34m=\u001b[0m\u001b[0;36m0\u001b[0m\u001b[0;34m,\u001b[0m\u001b[0mn\u001b[0m\u001b[0;34m=\u001b[0m\u001b[0mint\u001b[0m\u001b[0;34m(\u001b[0m\u001b[0mnf\u001b[0m\u001b[0;34m)\u001b[0m\u001b[0;34m)\u001b[0m\u001b[0;34m\u001b[0m\u001b[0;34m\u001b[0m\u001b[0m\n\u001b[0m\u001b[1;32m    148\u001b[0m                 \u001b[0mXk\u001b[0m \u001b[0;34m=\u001b[0m \u001b[0mXk\u001b[0m\u001b[0;34m[\u001b[0m\u001b[0mlowerBound\u001b[0m\u001b[0;34m:\u001b[0m\u001b[0mupperBound\u001b[0m\u001b[0;34m,\u001b[0m\u001b[0;34m]\u001b[0m\u001b[0;34m\u001b[0m\u001b[0;34m\u001b[0m\u001b[0m\n\u001b[1;32m    149\u001b[0m                 \u001b[0mXkSquare\u001b[0m \u001b[0;34m=\u001b[0m \u001b[0;34m(\u001b[0m\u001b[0mXk\u001b[0m \u001b[0;34m*\u001b[0m \u001b[0mnp\u001b[0m\u001b[0;34m.\u001b[0m\u001b[0mconj\u001b[0m\u001b[0;34m(\u001b[0m\u001b[0mXk\u001b[0m\u001b[0;34m)\u001b[0m\u001b[0;34m)\u001b[0m\u001b[0;34m.\u001b[0m\u001b[0mreal\u001b[0m\u001b[0;34m\u001b[0m\u001b[0;34m\u001b[0m\u001b[0m\n",
      "\u001b[0;32m<__array_function__ internals>\u001b[0m in \u001b[0;36mfft\u001b[0;34m(*args, **kwargs)\u001b[0m\n",
      "\u001b[0;32m~/anaconda3/envs/ecog_is2s/lib/python3.7/site-packages/numpy/fft/_pocketfft.py\u001b[0m in \u001b[0;36mfft\u001b[0;34m(a, n, axis, norm)\u001b[0m\n\u001b[1;32m    186\u001b[0m     \u001b[0;32mif\u001b[0m \u001b[0mnorm\u001b[0m \u001b[0;32mis\u001b[0m \u001b[0;32mnot\u001b[0m \u001b[0;32mNone\u001b[0m \u001b[0;32mand\u001b[0m \u001b[0m_unitary\u001b[0m\u001b[0;34m(\u001b[0m\u001b[0mnorm\u001b[0m\u001b[0;34m)\u001b[0m\u001b[0;34m:\u001b[0m\u001b[0;34m\u001b[0m\u001b[0;34m\u001b[0m\u001b[0m\n\u001b[1;32m    187\u001b[0m         \u001b[0minv_norm\u001b[0m \u001b[0;34m=\u001b[0m \u001b[0msqrt\u001b[0m\u001b[0;34m(\u001b[0m\u001b[0mn\u001b[0m\u001b[0;34m)\u001b[0m\u001b[0;34m\u001b[0m\u001b[0;34m\u001b[0m\u001b[0m\n\u001b[0;32m--> 188\u001b[0;31m     \u001b[0moutput\u001b[0m \u001b[0;34m=\u001b[0m \u001b[0m_raw_fft\u001b[0m\u001b[0;34m(\u001b[0m\u001b[0ma\u001b[0m\u001b[0;34m,\u001b[0m \u001b[0mn\u001b[0m\u001b[0;34m,\u001b[0m \u001b[0maxis\u001b[0m\u001b[0;34m,\u001b[0m \u001b[0;32mFalse\u001b[0m\u001b[0;34m,\u001b[0m \u001b[0;32mTrue\u001b[0m\u001b[0;34m,\u001b[0m \u001b[0minv_norm\u001b[0m\u001b[0;34m)\u001b[0m\u001b[0;34m\u001b[0m\u001b[0;34m\u001b[0m\u001b[0m\n\u001b[0m\u001b[1;32m    189\u001b[0m     \u001b[0;32mreturn\u001b[0m \u001b[0moutput\u001b[0m\u001b[0;34m\u001b[0m\u001b[0;34m\u001b[0m\u001b[0m\n\u001b[1;32m    190\u001b[0m \u001b[0;34m\u001b[0m\u001b[0m\n",
      "\u001b[0;32m~/anaconda3/envs/ecog_is2s/lib/python3.7/site-packages/numpy/fft/_pocketfft.py\u001b[0m in \u001b[0;36m_raw_fft\u001b[0;34m(a, n, axis, is_real, is_forward, inv_norm)\u001b[0m\n\u001b[1;32m     78\u001b[0m     \u001b[0;32melse\u001b[0m\u001b[0;34m:\u001b[0m\u001b[0;34m\u001b[0m\u001b[0;34m\u001b[0m\u001b[0m\n\u001b[1;32m     79\u001b[0m         \u001b[0ma\u001b[0m \u001b[0;34m=\u001b[0m \u001b[0mswapaxes\u001b[0m\u001b[0;34m(\u001b[0m\u001b[0ma\u001b[0m\u001b[0;34m,\u001b[0m \u001b[0maxis\u001b[0m\u001b[0;34m,\u001b[0m \u001b[0;34m-\u001b[0m\u001b[0;36m1\u001b[0m\u001b[0;34m)\u001b[0m\u001b[0;34m\u001b[0m\u001b[0;34m\u001b[0m\u001b[0m\n\u001b[0;32m---> 80\u001b[0;31m         \u001b[0mr\u001b[0m \u001b[0;34m=\u001b[0m \u001b[0mpfi\u001b[0m\u001b[0;34m.\u001b[0m\u001b[0mexecute\u001b[0m\u001b[0;34m(\u001b[0m\u001b[0ma\u001b[0m\u001b[0;34m,\u001b[0m \u001b[0mis_real\u001b[0m\u001b[0;34m,\u001b[0m \u001b[0mis_forward\u001b[0m\u001b[0;34m,\u001b[0m \u001b[0mfct\u001b[0m\u001b[0;34m)\u001b[0m\u001b[0;34m\u001b[0m\u001b[0;34m\u001b[0m\u001b[0m\n\u001b[0m\u001b[1;32m     81\u001b[0m         \u001b[0mr\u001b[0m \u001b[0;34m=\u001b[0m \u001b[0mswapaxes\u001b[0m\u001b[0;34m(\u001b[0m\u001b[0mr\u001b[0m\u001b[0;34m,\u001b[0m \u001b[0maxis\u001b[0m\u001b[0;34m,\u001b[0m \u001b[0;34m-\u001b[0m\u001b[0;36m1\u001b[0m\u001b[0;34m)\u001b[0m\u001b[0;34m\u001b[0m\u001b[0;34m\u001b[0m\u001b[0m\n\u001b[1;32m     82\u001b[0m     \u001b[0;32mreturn\u001b[0m \u001b[0mr\u001b[0m\u001b[0;34m\u001b[0m\u001b[0;34m\u001b[0m\u001b[0m\n",
      "\u001b[0;31mKeyboardInterrupt\u001b[0m: "
     ]
    }
   ],
   "source": [
    "window_t = 4\n",
    "step_t = 4\n",
    "bw = 1\n",
    "# get file list\n",
    "file_dir = '/Volumes/Samsung_T5/aoLab/Data/WirelessData/Goose_Multiscale_M1/180325/0*/'\n",
    "file_list = glob.glob(os.path.join(file_dir,'*.clfp.dat'))\n",
    "print(file_list)\n",
    "\n",
    "for ecog_file in file_list:\n",
    "    create_and_save_spectrogram(ecog_file,window_t,step_t,bw)"
   ]
  }
 ],
 "metadata": {
  "kernelspec": {
   "display_name": "ecog_is2s",
   "language": "python",
   "name": "ecog_is2s"
  },
  "language_info": {
   "codemirror_mode": {
    "name": "ipython",
    "version": 3
   },
   "file_extension": ".py",
   "mimetype": "text/x-python",
   "name": "python",
   "nbconvert_exporter": "python",
   "pygments_lexer": "ipython3",
   "version": "3.7.6"
  }
 },
 "nbformat": 4,
 "nbformat_minor": 4
}
