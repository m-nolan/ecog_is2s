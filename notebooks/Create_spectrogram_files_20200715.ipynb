{
 "cells": [
  {
   "cell_type": "code",
   "execution_count": null,
   "metadata": {},
   "outputs": [],
   "source": [
    "import numpy as np\n",
    "import numpy.linalg as npla\n",
    "import scipy as sp\n",
    "import scipy.signal as sps\n",
    "\n",
    "import sys\n",
    "import os\n",
    "from glob import glob\n",
    "import pickle as pkl\n",
    "\n",
    "import matplotlib.pyplot as plt\n",
    "\n",
    "from aopy import datafilter, datareader\n",
    "\n",
    "# modules that aren't done yet\n",
    "# sys.path.append('/Users/mickey/aoLab/code/analyze/')\n",
    "sys.path.append('C:\\\\Users\\\\mickey\\\\aoLab\\\\code\\\\analyze')\n",
    "# sys.path.append('/home/mickey/analyze/')\n",
    "from tfspec import tfspec"
   ]
  },
  {
   "cell_type": "code",
   "execution_count": null,
   "metadata": {},
   "outputs": [],
   "source": [
    "# spectrogram creation + saving loop function\n",
    "def create_and_save_spectrogram(ecog_file, window_t, step_t, bw):\n",
    "    ## create filename for sgram, mask files\n",
    "    file_dir = os.path.dirname(ecog_file)\n",
    "    file_base = os.path.basename(ecog_file)\n",
    "    file_kern, file_ext = os.path.splitext(file_base)\n",
    "    sgram_file_base = file_kern + 'sgram'\n",
    "    sgram_mask_file_base = file_kern + 'sgram.mask.pkl'\n",
    "    sgram_mask_file = os.path.join(file_dir,sgram_mask_file_base)\n",
    "    \n",
    "    print('Processing spectrogram for file {}:'.format(ecog_file))\n",
    "    \n",
    "    ## load data\n",
    "    data, exp, mask = datareader.load_ecog_clfp_data(ecog_file)\n",
    "    srate = exp['srate']\n",
    "    n_ch = exp['num_ch']\n",
    "#     data[:,mask['hf'] & mask['sat']] = 0.\n",
    "    \n",
    "    ## create spectrogram with tfspec\n",
    "    # create taper structure\n",
    "    window_n = window_t*srate\n",
    "    step_n = step_t*srate\n",
    "    nw = window_t*bw/2\n",
    "    n_taper = 2*nw - 1\n",
    "    tapers = [window_t, nw, n_taper]\n",
    "    # compute sgram (all channels, all time - might be too much memory)\n",
    "    sgram_all = []\n",
    "    n_freq_bin = int(2**(np.ceil(np.log2(srate*window_t))))\n",
    "    n_window = int(np.floor((data.shape[-1]-srate*window_t)/(srate*step_t)))\n",
    "    sgram = np.zeros((n_ch,n_freq_bin,n_window),dtype=np.float32)\n",
    "    print('computing spectrograms...')\n",
    "    for ch_idx in range(n_ch):\n",
    "        print(f'{ch_idx+1}/{n_ch}')\n",
    "        sgram_, f_sgram, tidx_sgram, _ = tfspec(data[ch_idx,:][None,:],tapers=tapers,sampling=srate,dn=step_t)\n",
    "        breakpoint()\n",
    "        sgram[ch_idx,:,:] = np.float32(sgram_[0,:,:].copy().T)\n",
    "        del sgram_\n",
    "\n",
    "    ## create mask for noisy time regions of spectrogram\n",
    "    print('creating data mask...')\n",
    "    f_idx = f_sgram > 80.\n",
    "    window_power = np.log10(sgram[:,:,f_idx]).mean(axis=-1)\n",
    "    high_power_med = np.median(window_power,axis=-1)\n",
    "    high_power_std = window_power.std(axis=-1)\n",
    "    high_power_thresh = high_power_med + high_power_std/4\n",
    "    high_power_win = high_power_thresh[:,None] < window_power\n",
    "    breakpoint()\n",
    "\n",
    "    ## reshape and save spectrogram with np.tofile()\n",
    "    n_fft = len(f_sgram)\n",
    "    n_win = len(tidx_sgram)\n",
    "    sgram = sgram.reshape((n_ch*n_fft,n_win))\n",
    "    print('Saving spectrogram (ch {}):'.format(ch_idx))\n",
    "    sgram_file = os.path.join(file_dir,sgram_file_base) + file_ext\n",
    "    print('saving spectrogram file...')\n",
    "    sgram.tofile(sgram_file)\n",
    "\n",
    "    ## save mask\n",
    "    print('saving spectrogram mask...')\n",
    "    with open(sgram_mask_file,'wb') as f:\n",
    "        pkl.dump(high_power_win,f)\n",
    "        \n",
    "    return (sgram_file, sgram_mask_file)"
   ]
  },
  {
   "cell_type": "code",
<<<<<<< HEAD
   "execution_count": null,
   "metadata": {},
   "outputs": [],
=======
   "execution_count": 7,
   "metadata": {},
   "outputs": [
    {
     "output_type": "stream",
     "name": "stdout",
     "text": [
      "['C:\\\\Users\\\\mickey\\\\aoLab\\\\Data\\\\WirelessData\\\\Goose_Multiscale_M1\\\\180325\\\\001\\\\rec001.LM1_ECOG_3.clfp.dat', 'C:\\\\Users\\\\mickey\\\\aoLab\\\\Data\\\\WirelessData\\\\Goose_Multiscale_M1\\\\180325\\\\002\\\\rec002.LM1_ECOG_3.clfp.dat', 'C:\\\\Users\\\\mickey\\\\aoLab\\\\Data\\\\WirelessData\\\\Goose_Multiscale_M1\\\\180325\\\\003\\\\rec003.LM1_ECOG_3.clfp.dat', 'C:\\\\Users\\\\mickey\\\\aoLab\\\\Data\\\\WirelessData\\\\Goose_Multiscale_M1\\\\180325\\\\004\\\\rec004.LM1_ECOG_3.clfp.dat', 'C:\\\\Users\\\\mickey\\\\aoLab\\\\Data\\\\WirelessData\\\\Goose_Multiscale_M1\\\\180325\\\\005\\\\rec005.LM1_ECOG_3.clfp.dat', 'C:\\\\Users\\\\mickey\\\\aoLab\\\\Data\\\\WirelessData\\\\Goose_Multiscale_M1\\\\180325\\\\006\\\\rec006.LM1_ECOG_3.clfp.dat', 'C:\\\\Users\\\\mickey\\\\aoLab\\\\Data\\\\WirelessData\\\\Goose_Multiscale_M1\\\\180325\\\\007\\\\rec007.LM1_ECOG_3.clfp.dat', 'C:\\\\Users\\\\mickey\\\\aoLab\\\\Data\\\\WirelessData\\\\Goose_Multiscale_M1\\\\180325\\\\008\\\\rec008.LM1_ECOG_3.clfp.dat', 'C:\\\\Users\\\\mickey\\\\aoLab\\\\Data\\\\WirelessData\\\\Goose_Multiscale_M1\\\\180325\\\\009\\\\rec009.LM1_ECOG_3.clfp.dat', 'C:\\\\Users\\\\mickey\\\\aoLab\\\\Data\\\\WirelessData\\\\Goose_Multiscale_M1\\\\180325\\\\010\\\\rec010.LM1_ECOG_3.clfp.dat', 'C:\\\\Users\\\\mickey\\\\aoLab\\\\Data\\\\WirelessData\\\\Goose_Multiscale_M1\\\\180326\\\\002\\\\rec002.LM1_ECOG_3.clfp.dat', 'C:\\\\Users\\\\mickey\\\\aoLab\\\\Data\\\\WirelessData\\\\Goose_Multiscale_M1\\\\180326\\\\003\\\\rec003.LM1_ECOG_3.clfp.dat', 'C:\\\\Users\\\\mickey\\\\aoLab\\\\Data\\\\WirelessData\\\\Goose_Multiscale_M1\\\\180326\\\\004\\\\rec004.LM1_ECOG_3.clfp.dat', 'C:\\\\Users\\\\mickey\\\\aoLab\\\\Data\\\\WirelessData\\\\Goose_Multiscale_M1\\\\180326\\\\005\\\\rec005.LM1_ECOG_3.clfp.dat', 'C:\\\\Users\\\\mickey\\\\aoLab\\\\Data\\\\WirelessData\\\\Goose_Multiscale_M1\\\\180326\\\\006\\\\rec006.LM1_ECOG_3.clfp.dat', 'C:\\\\Users\\\\mickey\\\\aoLab\\\\Data\\\\WirelessData\\\\Goose_Multiscale_M1\\\\180326\\\\007\\\\rec007.LM1_ECOG_3.clfp.dat', 'C:\\\\Users\\\\mickey\\\\aoLab\\\\Data\\\\WirelessData\\\\Goose_Multiscale_M1\\\\180326\\\\008\\\\rec008.LM1_ECOG_3.clfp.dat', 'C:\\\\Users\\\\mickey\\\\aoLab\\\\Data\\\\WirelessData\\\\Goose_Multiscale_M1\\\\180326\\\\009\\\\rec009.LM1_ECOG_3.clfp.dat', 'C:\\\\Users\\\\mickey\\\\aoLab\\\\Data\\\\WirelessData\\\\Goose_Multiscale_M1\\\\180326\\\\010\\\\rec010.LM1_ECOG_3.clfp.dat', 'C:\\\\Users\\\\mickey\\\\aoLab\\\\Data\\\\WirelessData\\\\Goose_Multiscale_M1\\\\180327\\\\001\\\\rec001.LM1_ECOG_3.clfp.dat', 'C:\\\\Users\\\\mickey\\\\aoLab\\\\Data\\\\WirelessData\\\\Goose_Multiscale_M1\\\\180327\\\\002\\\\rec002.LM1_ECOG_3.clfp.dat', 'C:\\\\Users\\\\mickey\\\\aoLab\\\\Data\\\\WirelessData\\\\Goose_Multiscale_M1\\\\180327\\\\003\\\\rec003.LM1_ECOG_3.clfp.dat', 'C:\\\\Users\\\\mickey\\\\aoLab\\\\Data\\\\WirelessData\\\\Goose_Multiscale_M1\\\\180327\\\\004\\\\rec004.LM1_ECOG_3.clfp.dat', 'C:\\\\Users\\\\mickey\\\\aoLab\\\\Data\\\\WirelessData\\\\Goose_Multiscale_M1\\\\180327\\\\005\\\\rec005.LM1_ECOG_3.clfp.dat', 'C:\\\\Users\\\\mickey\\\\aoLab\\\\Data\\\\WirelessData\\\\Goose_Multiscale_M1\\\\180327\\\\006\\\\rec006.LM1_ECOG_3.clfp.dat', 'C:\\\\Users\\\\mickey\\\\aoLab\\\\Data\\\\WirelessData\\\\Goose_Multiscale_M1\\\\180327\\\\007\\\\rec007.LM1_ECOG_3.clfp.dat', 'C:\\\\Users\\\\mickey\\\\aoLab\\\\Data\\\\WirelessData\\\\Goose_Multiscale_M1\\\\180327\\\\008\\\\rec008.LM1_ECOG_3.clfp.dat', 'C:\\\\Users\\\\mickey\\\\aoLab\\\\Data\\\\WirelessData\\\\Goose_Multiscale_M1\\\\180327\\\\009\\\\rec009.LM1_ECOG_3.clfp.dat', 'C:\\\\Users\\\\mickey\\\\aoLab\\\\Data\\\\WirelessData\\\\Goose_Multiscale_M1\\\\180328\\\\001\\\\rec001.LM1_ECOG_3.clfp.dat', 'C:\\\\Users\\\\mickey\\\\aoLab\\\\Data\\\\WirelessData\\\\Goose_Multiscale_M1\\\\180328\\\\002\\\\rec002.LM1_ECOG_3.clfp.dat', 'C:\\\\Users\\\\mickey\\\\aoLab\\\\Data\\\\WirelessData\\\\Goose_Multiscale_M1\\\\180328\\\\003\\\\rec003.LM1_ECOG_3.clfp.dat', 'C:\\\\Users\\\\mickey\\\\aoLab\\\\Data\\\\WirelessData\\\\Goose_Multiscale_M1\\\\180328\\\\004\\\\rec004.LM1_ECOG_3.clfp.dat', 'C:\\\\Users\\\\mickey\\\\aoLab\\\\Data\\\\WirelessData\\\\Goose_Multiscale_M1\\\\180328\\\\005\\\\rec005.LM1_ECOG_3.clfp.dat', 'C:\\\\Users\\\\mickey\\\\aoLab\\\\Data\\\\WirelessData\\\\Goose_Multiscale_M1\\\\180328\\\\006\\\\rec006.LM1_ECOG_3.clfp.dat', 'C:\\\\Users\\\\mickey\\\\aoLab\\\\Data\\\\WirelessData\\\\Goose_Multiscale_M1\\\\180328\\\\007\\\\rec007.LM1_ECOG_3.clfp.dat', 'C:\\\\Users\\\\mickey\\\\aoLab\\\\Data\\\\WirelessData\\\\Goose_Multiscale_M1\\\\180328\\\\008\\\\rec008.LM1_ECOG_3.clfp.dat', 'C:\\\\Users\\\\mickey\\\\aoLab\\\\Data\\\\WirelessData\\\\Goose_Multiscale_M1\\\\180328\\\\009\\\\rec009.LM1_ECOG_3.clfp.dat', 'C:\\\\Users\\\\mickey\\\\aoLab\\\\Data\\\\WirelessData\\\\Goose_Multiscale_M1\\\\180328\\\\010\\\\rec010.LM1_ECOG_3.clfp.dat', 'C:\\\\Users\\\\mickey\\\\aoLab\\\\Data\\\\WirelessData\\\\Goose_Multiscale_M1\\\\180328\\\\011\\\\rec011.LM1_ECOG_3.clfp.dat']\n",
      "Processing spectrogram for file C:\\Users\\mickey\\aoLab\\Data\\WirelessData\\Goose_Multiscale_M1\\180325\\001\\rec001.LM1_ECOG_3.clfp.dat:\n",
      "Loading data file:\n",
      "Computing spectrograms:\n",
      "channel 0\n",
      "> \u001b[1;32m<ipython-input-2-cd31450da2db>\u001b[0m(38)\u001b[0;36mcreate_and_save_spectrogram\u001b[1;34m()\u001b[0m\n",
      "\u001b[1;32m     36 \u001b[1;33m\u001b[1;33m\u001b[0m\u001b[0m\n",
      "\u001b[0m\u001b[1;32m     37 \u001b[1;33m        \u001b[1;31m## create mask for noisy time regions of spectrogram\u001b[0m\u001b[1;33m\u001b[0m\u001b[1;33m\u001b[0m\u001b[1;33m\u001b[0m\u001b[0m\n",
      "\u001b[0m\u001b[1;32m---> 38 \u001b[1;33m        \u001b[0mf_idx\u001b[0m \u001b[1;33m=\u001b[0m \u001b[0mf_sgram\u001b[0m \u001b[1;33m>\u001b[0m \u001b[1;36m200.\u001b[0m\u001b[1;33m\u001b[0m\u001b[1;33m\u001b[0m\u001b[0m\n",
      "\u001b[0m\u001b[1;32m     39 \u001b[1;33m        \u001b[0mwindow_power\u001b[0m \u001b[1;33m=\u001b[0m \u001b[0mnp\u001b[0m\u001b[1;33m.\u001b[0m\u001b[0mlog10\u001b[0m\u001b[1;33m(\u001b[0m\u001b[0msgram\u001b[0m\u001b[1;33m[\u001b[0m\u001b[1;33m:\u001b[0m\u001b[1;33m,\u001b[0m\u001b[1;33m:\u001b[0m\u001b[1;33m,\u001b[0m\u001b[0mf_idx\u001b[0m\u001b[1;33m]\u001b[0m\u001b[1;33m)\u001b[0m\u001b[1;33m.\u001b[0m\u001b[0mmean\u001b[0m\u001b[1;33m(\u001b[0m\u001b[0maxis\u001b[0m\u001b[1;33m=\u001b[0m\u001b[1;33m-\u001b[0m\u001b[1;36m1\u001b[0m\u001b[1;33m)\u001b[0m\u001b[1;33m\u001b[0m\u001b[1;33m\u001b[0m\u001b[0m\n",
      "\u001b[0m\u001b[1;32m     40 \u001b[1;33m        \u001b[0mhigh_power_med\u001b[0m \u001b[1;33m=\u001b[0m \u001b[0mnp\u001b[0m\u001b[1;33m.\u001b[0m\u001b[0mmedian\u001b[0m\u001b[1;33m(\u001b[0m\u001b[0mwindow_power\u001b[0m\u001b[1;33m,\u001b[0m\u001b[0maxis\u001b[0m\u001b[1;33m=\u001b[0m\u001b[1;33m-\u001b[0m\u001b[1;36m1\u001b[0m\u001b[1;33m)\u001b[0m\u001b[1;33m\u001b[0m\u001b[1;33m\u001b[0m\u001b[0m\n",
      "\u001b[0m\n",
      "(1, 1800, 4096)\n"
     ]
    },
    {
     "output_type": "error",
     "ename": "BdbQuit",
     "evalue": "",
     "traceback": [
      "\u001b[1;31m---------------------------------------------------------------------------\u001b[0m",
      "\u001b[1;31mBdbQuit\u001b[0m                                   Traceback (most recent call last)",
      "\u001b[1;32m<ipython-input-7-b15a04d8b013>\u001b[0m in \u001b[0;36m<module>\u001b[1;34m\u001b[0m\n\u001b[0;32m     10\u001b[0m \u001b[1;33m\u001b[0m\u001b[0m\n\u001b[0;32m     11\u001b[0m \u001b[1;32mfor\u001b[0m \u001b[0mecog_file\u001b[0m \u001b[1;32min\u001b[0m \u001b[0mfile_list\u001b[0m\u001b[1;33m:\u001b[0m\u001b[1;33m\u001b[0m\u001b[1;33m\u001b[0m\u001b[0m\n\u001b[1;32m---> 12\u001b[1;33m     \u001b[0mcreate_and_save_spectrogram\u001b[0m\u001b[1;33m(\u001b[0m\u001b[0mecog_file\u001b[0m\u001b[1;33m,\u001b[0m\u001b[0mwindow_t\u001b[0m\u001b[1;33m,\u001b[0m\u001b[0mstep_t\u001b[0m\u001b[1;33m,\u001b[0m\u001b[0mbw\u001b[0m\u001b[1;33m)\u001b[0m\u001b[1;33m\u001b[0m\u001b[1;33m\u001b[0m\u001b[0m\n\u001b[0m",
      "\u001b[1;32m<ipython-input-2-cd31450da2db>\u001b[0m in \u001b[0;36mcreate_and_save_spectrogram\u001b[1;34m(ecog_file, window_t, step_t, bw)\u001b[0m\n\u001b[0;32m     36\u001b[0m \u001b[1;33m\u001b[0m\u001b[0m\n\u001b[0;32m     37\u001b[0m         \u001b[1;31m## create mask for noisy time regions of spectrogram\u001b[0m\u001b[1;33m\u001b[0m\u001b[1;33m\u001b[0m\u001b[1;33m\u001b[0m\u001b[0m\n\u001b[1;32m---> 38\u001b[1;33m         \u001b[0mf_idx\u001b[0m \u001b[1;33m=\u001b[0m \u001b[0mf_sgram\u001b[0m \u001b[1;33m>\u001b[0m \u001b[1;36m200.\u001b[0m\u001b[1;33m\u001b[0m\u001b[1;33m\u001b[0m\u001b[0m\n\u001b[0m\u001b[0;32m     39\u001b[0m         \u001b[0mwindow_power\u001b[0m \u001b[1;33m=\u001b[0m \u001b[0mnp\u001b[0m\u001b[1;33m.\u001b[0m\u001b[0mlog10\u001b[0m\u001b[1;33m(\u001b[0m\u001b[0msgram\u001b[0m\u001b[1;33m[\u001b[0m\u001b[1;33m:\u001b[0m\u001b[1;33m,\u001b[0m\u001b[1;33m:\u001b[0m\u001b[1;33m,\u001b[0m\u001b[0mf_idx\u001b[0m\u001b[1;33m]\u001b[0m\u001b[1;33m)\u001b[0m\u001b[1;33m.\u001b[0m\u001b[0mmean\u001b[0m\u001b[1;33m(\u001b[0m\u001b[0maxis\u001b[0m\u001b[1;33m=\u001b[0m\u001b[1;33m-\u001b[0m\u001b[1;36m1\u001b[0m\u001b[1;33m)\u001b[0m\u001b[1;33m\u001b[0m\u001b[1;33m\u001b[0m\u001b[0m\n\u001b[0;32m     40\u001b[0m         \u001b[0mhigh_power_med\u001b[0m \u001b[1;33m=\u001b[0m \u001b[0mnp\u001b[0m\u001b[1;33m.\u001b[0m\u001b[0mmedian\u001b[0m\u001b[1;33m(\u001b[0m\u001b[0mwindow_power\u001b[0m\u001b[1;33m,\u001b[0m\u001b[0maxis\u001b[0m\u001b[1;33m=\u001b[0m\u001b[1;33m-\u001b[0m\u001b[1;36m1\u001b[0m\u001b[1;33m)\u001b[0m\u001b[1;33m\u001b[0m\u001b[1;33m\u001b[0m\u001b[0m\n",
      "\u001b[1;32m<ipython-input-2-cd31450da2db>\u001b[0m in \u001b[0;36mcreate_and_save_spectrogram\u001b[1;34m(ecog_file, window_t, step_t, bw)\u001b[0m\n\u001b[0;32m     36\u001b[0m \u001b[1;33m\u001b[0m\u001b[0m\n\u001b[0;32m     37\u001b[0m         \u001b[1;31m## create mask for noisy time regions of spectrogram\u001b[0m\u001b[1;33m\u001b[0m\u001b[1;33m\u001b[0m\u001b[1;33m\u001b[0m\u001b[0m\n\u001b[1;32m---> 38\u001b[1;33m         \u001b[0mf_idx\u001b[0m \u001b[1;33m=\u001b[0m \u001b[0mf_sgram\u001b[0m \u001b[1;33m>\u001b[0m \u001b[1;36m200.\u001b[0m\u001b[1;33m\u001b[0m\u001b[1;33m\u001b[0m\u001b[0m\n\u001b[0m\u001b[0;32m     39\u001b[0m         \u001b[0mwindow_power\u001b[0m \u001b[1;33m=\u001b[0m \u001b[0mnp\u001b[0m\u001b[1;33m.\u001b[0m\u001b[0mlog10\u001b[0m\u001b[1;33m(\u001b[0m\u001b[0msgram\u001b[0m\u001b[1;33m[\u001b[0m\u001b[1;33m:\u001b[0m\u001b[1;33m,\u001b[0m\u001b[1;33m:\u001b[0m\u001b[1;33m,\u001b[0m\u001b[0mf_idx\u001b[0m\u001b[1;33m]\u001b[0m\u001b[1;33m)\u001b[0m\u001b[1;33m.\u001b[0m\u001b[0mmean\u001b[0m\u001b[1;33m(\u001b[0m\u001b[0maxis\u001b[0m\u001b[1;33m=\u001b[0m\u001b[1;33m-\u001b[0m\u001b[1;36m1\u001b[0m\u001b[1;33m)\u001b[0m\u001b[1;33m\u001b[0m\u001b[1;33m\u001b[0m\u001b[0m\n\u001b[0;32m     40\u001b[0m         \u001b[0mhigh_power_med\u001b[0m \u001b[1;33m=\u001b[0m \u001b[0mnp\u001b[0m\u001b[1;33m.\u001b[0m\u001b[0mmedian\u001b[0m\u001b[1;33m(\u001b[0m\u001b[0mwindow_power\u001b[0m\u001b[1;33m,\u001b[0m\u001b[0maxis\u001b[0m\u001b[1;33m=\u001b[0m\u001b[1;33m-\u001b[0m\u001b[1;36m1\u001b[0m\u001b[1;33m)\u001b[0m\u001b[1;33m\u001b[0m\u001b[1;33m\u001b[0m\u001b[0m\n",
      "\u001b[1;32m~\\miniconda3\\envs\\ecog_is2s\\lib\\bdb.py\u001b[0m in \u001b[0;36mtrace_dispatch\u001b[1;34m(self, frame, event, arg)\u001b[0m\n\u001b[0;32m     86\u001b[0m             \u001b[1;32mreturn\u001b[0m \u001b[1;31m# None\u001b[0m\u001b[1;33m\u001b[0m\u001b[1;33m\u001b[0m\u001b[0m\n\u001b[0;32m     87\u001b[0m         \u001b[1;32mif\u001b[0m \u001b[0mevent\u001b[0m \u001b[1;33m==\u001b[0m \u001b[1;34m'line'\u001b[0m\u001b[1;33m:\u001b[0m\u001b[1;33m\u001b[0m\u001b[1;33m\u001b[0m\u001b[0m\n\u001b[1;32m---> 88\u001b[1;33m             \u001b[1;32mreturn\u001b[0m \u001b[0mself\u001b[0m\u001b[1;33m.\u001b[0m\u001b[0mdispatch_line\u001b[0m\u001b[1;33m(\u001b[0m\u001b[0mframe\u001b[0m\u001b[1;33m)\u001b[0m\u001b[1;33m\u001b[0m\u001b[1;33m\u001b[0m\u001b[0m\n\u001b[0m\u001b[0;32m     89\u001b[0m         \u001b[1;32mif\u001b[0m \u001b[0mevent\u001b[0m \u001b[1;33m==\u001b[0m \u001b[1;34m'call'\u001b[0m\u001b[1;33m:\u001b[0m\u001b[1;33m\u001b[0m\u001b[1;33m\u001b[0m\u001b[0m\n\u001b[0;32m     90\u001b[0m             \u001b[1;32mreturn\u001b[0m \u001b[0mself\u001b[0m\u001b[1;33m.\u001b[0m\u001b[0mdispatch_call\u001b[0m\u001b[1;33m(\u001b[0m\u001b[0mframe\u001b[0m\u001b[1;33m,\u001b[0m \u001b[0marg\u001b[0m\u001b[1;33m)\u001b[0m\u001b[1;33m\u001b[0m\u001b[1;33m\u001b[0m\u001b[0m\n",
      "\u001b[1;32m~\\miniconda3\\envs\\ecog_is2s\\lib\\bdb.py\u001b[0m in \u001b[0;36mdispatch_line\u001b[1;34m(self, frame)\u001b[0m\n\u001b[0;32m    111\u001b[0m         \u001b[1;32mif\u001b[0m \u001b[0mself\u001b[0m\u001b[1;33m.\u001b[0m\u001b[0mstop_here\u001b[0m\u001b[1;33m(\u001b[0m\u001b[0mframe\u001b[0m\u001b[1;33m)\u001b[0m \u001b[1;32mor\u001b[0m \u001b[0mself\u001b[0m\u001b[1;33m.\u001b[0m\u001b[0mbreak_here\u001b[0m\u001b[1;33m(\u001b[0m\u001b[0mframe\u001b[0m\u001b[1;33m)\u001b[0m\u001b[1;33m:\u001b[0m\u001b[1;33m\u001b[0m\u001b[1;33m\u001b[0m\u001b[0m\n\u001b[0;32m    112\u001b[0m             \u001b[0mself\u001b[0m\u001b[1;33m.\u001b[0m\u001b[0muser_line\u001b[0m\u001b[1;33m(\u001b[0m\u001b[0mframe\u001b[0m\u001b[1;33m)\u001b[0m\u001b[1;33m\u001b[0m\u001b[1;33m\u001b[0m\u001b[0m\n\u001b[1;32m--> 113\u001b[1;33m             \u001b[1;32mif\u001b[0m \u001b[0mself\u001b[0m\u001b[1;33m.\u001b[0m\u001b[0mquitting\u001b[0m\u001b[1;33m:\u001b[0m \u001b[1;32mraise\u001b[0m \u001b[0mBdbQuit\u001b[0m\u001b[1;33m\u001b[0m\u001b[1;33m\u001b[0m\u001b[0m\n\u001b[0m\u001b[0;32m    114\u001b[0m         \u001b[1;32mreturn\u001b[0m \u001b[0mself\u001b[0m\u001b[1;33m.\u001b[0m\u001b[0mtrace_dispatch\u001b[0m\u001b[1;33m\u001b[0m\u001b[1;33m\u001b[0m\u001b[0m\n\u001b[0;32m    115\u001b[0m \u001b[1;33m\u001b[0m\u001b[0m\n",
      "\u001b[1;31mBdbQuit\u001b[0m: "
     ]
    }
   ],
>>>>>>> 80b65d5b07086aa685b4623aade37f03bdbfbe08
   "source": [
    "window_t = 4\n",
    "step_t = 0.5\n",
    "bw = 1\n",
    "# get file list\n",
<<<<<<< HEAD
    "file_dir = '/Volumes/Samsung_T5/aoLab/Data/WirelessData/Goose_Multiscale_M1/180325/0*/'\n",
    "file_list = glob.glob(os.path.join(file_dir,'*.clfp_ds250.dat'))\n",
    "# print(file_list)\n",
=======
    "file_list = glob('C:\\\\Users\\\\mickey\\\\aoLab\\\\Data\\\\WirelessData\\\\Goose_Multiscale_M1\\\\18032[0-9]*\\\\0[0-9]*\\\\*ECOG_3.clfp.dat')\n",
    "# C:\\Users\\mickey\\aoLab\\Data\\WirelessData\\Goose_Multiscale_M1\\180325\\001\n",
    "# file_list = glob.glob(os.path.join(file_dir,'*.clfp.dat'))\n",
    "\n",
    "print(file_list)\n",
>>>>>>> 80b65d5b07086aa685b4623aade37f03bdbfbe08
    "\n",
    "for ecog_file in file_list[1:]:\n",
    "    print(ecog_file)\n",
    "    create_and_save_spectrogram(ecog_file,window_t,step_t,bw)"
   ]
  },
  {
   "cell_type": "code",
   "execution_count": null,
   "metadata": {},
   "outputs": [],
<<<<<<< HEAD
   "source": [
    "# plt.plot(high_power_win)"
   ]
  },
  {
   "cell_type": "code",
   "execution_count": null,
   "metadata": {},
   "outputs": [],
=======
>>>>>>> 80b65d5b07086aa685b4623aade37f03bdbfbe08
   "source": []
  }
 ],
 "metadata": {
  "kernelspec": {
   "name": "Python 3.7.7 64-bit ('ecog_is2s': conda)",
   "display_name": "Python 3.7.7 64-bit ('ecog_is2s': conda)",
   "metadata": {
    "interpreter": {
     "hash": "fe8054fe0736511d0a995e424bd42fab5ba13013efdf79ed2907f82c79967e8d"
    }
   }
  },
  "language_info": {
   "codemirror_mode": {
    "name": "ipython",
    "version": 3
   },
   "file_extension": ".py",
   "mimetype": "text/x-python",
   "name": "python",
   "nbconvert_exporter": "python",
   "pygments_lexer": "ipython3",
   "version": "3.7.7-final"
  }
 },
 "nbformat": 4,
 "nbformat_minor": 4
}