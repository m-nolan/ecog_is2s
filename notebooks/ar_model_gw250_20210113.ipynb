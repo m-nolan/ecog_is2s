{
 "metadata": {
  "language_info": {
   "codemirror_mode": {
    "name": "ipython",
    "version": 3
   },
   "file_extension": ".py",
   "mimetype": "text/x-python",
   "name": "python",
   "nbconvert_exporter": "python",
   "pygments_lexer": "ipython3",
   "version": "3.7.6-final"
  },
  "orig_nbformat": 2,
  "kernelspec": {
   "name": "python3",
   "display_name": "Python 3",
   "language": "python"
  }
 },
 "nbformat": 4,
 "nbformat_minor": 2,
 "cells": [
  {
   "cell_type": "code",
   "execution_count": null,
   "metadata": {},
   "outputs": [],
   "source": [
    "import numpy as np\n",
    "import h5py\n",
    "import pickle as pkl\n",
    "import matplotlib.pyplot as plt\n",
    "import os\n",
    "from statsmodels.tsa.api import VAR"
   ]
  },
  {
   "cell_type": "code",
   "execution_count": null,
   "metadata": {},
   "outputs": [],
   "source": [
    "dataset_path = \"D:\\\\Users\\\\mickey\\\\Data\\\\datasets\\\\ecog\\\\goose_wireless\\\\gw_250\"\n",
    "keys = ['valid_ecog','test_ecog','dt']\n",
    "with h5py.File(dataset_path, 'r') as hf:\n",
    "    data_dict = {k: np.array(v) for k, v in hf.items() if k in keys}"
   ]
  },
  {
   "cell_type": "code",
   "execution_count": null,
   "metadata": {},
   "outputs": [],
   "source": [
    "train_data_reshape = data_dict['valid_ecog'].reshape(-1,42)"
   ]
  },
  {
   "cell_type": "code",
   "execution_count": null,
   "metadata": {},
   "outputs": [],
   "source": [
    "ar_order = 10\n",
    "model = VAR(train_data_reshape)\n",
    "model_fit = model.fit(ar_order)"
   ]
  },
  {
   "cell_type": "code",
   "execution_count": null,
   "metadata": {},
   "outputs": [],
   "source": [
    "n_test, n_time, n_ch = data_dict['test_ecog'].shape\n",
    "pred = np.zeros((n_test,n_time-ar_order,n_ch))\n",
    "for idx in range(n_test):\n",
    "    pred[idx,:,:] = model_fit.forecast(data_dict['test_ecog'][idx,:10,:],n_time-ar_order)"
   ]
  },
  {
   "cell_type": "code",
   "execution_count": null,
   "metadata": {},
   "outputs": [],
   "source": [
    "# save the model\n",
    "model_dict = {\n",
    "    'coef': model_fit.coefs,\n",
    "    'ord': ar_order,\n",
    "    'test_pred': pred,\n",
    "}\n",
    "ar_model_valid_set_path = \"D:\\\\Users\\\\mickey\\\\Data\\\\analysis\\\\ar_valid_set\"\n",
    "with open(os.path.join(ar_model_valid_set_path,'ar_model_dict.pkl'),'wb') as f:\n",
    "    pkl.dump(model_dict,f)"
   ]
  },
  {
   "cell_type": "code",
   "execution_count": null,
   "metadata": {},
   "outputs": [],
   "source": [
    "pred.shape"
   ]
  },
  {
   "cell_type": "code",
   "execution_count": null,
   "metadata": {},
   "outputs": [],
   "source": []
  }
 ]
}