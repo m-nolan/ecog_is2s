{
 "metadata": {
  "language_info": {
   "codemirror_mode": {
    "name": "ipython",
    "version": 3
   },
   "file_extension": ".py",
   "mimetype": "text/x-python",
   "name": "python",
   "nbconvert_exporter": "python",
   "pygments_lexer": "ipython3",
   "version": "3.7.7-final"
  },
  "orig_nbformat": 2,
  "kernelspec": {
   "name": "Python 3.7.7 64-bit ('ecog_is2s': conda)",
   "display_name": "Python 3.7.7 64-bit ('ecog_is2s': conda)",
   "metadata": {
    "interpreter": {
     "hash": "fe8054fe0736511d0a995e424bd42fab5ba13013efdf79ed2907f82c79967e8d"
    }
   }
  }
 },
 "nbformat": 4,
 "nbformat_minor": 2,
 "cells": [
  {
   "cell_type": "code",
   "execution_count": null,
   "metadata": {},
   "outputs": [],
   "source": [
    "import numpy as np\n",
    "import scipy as sp\n",
    "import pickle as pkl\n",
    "import os.path as path\n",
    "from glob import glob\n",
    "import matplotlib.pyplot as plt\n",
    "%matplotlib ipympl"
   ]
  },
  {
   "cell_type": "code",
   "execution_count": null,
   "metadata": {},
   "outputs": [],
   "source": [
    "# get list of spectrogram files\n",
    "data_file_dir = \"C:\\\\Users\\\\mickey\\\\aoLab\\\\Data\\\\WirelessData\\\\Goose_Multiscale_M1\"\n",
    "data_file_path_list = glob(path.join(data_file_dir,'18032[0-9]*\\\\[0-9]*\\\\*ECOG_3.clfp.dat.sgram.npz'))\n",
    "print(f'spectrogram files found: {len(data_file_path_list)}')"
   ]
  },
  {
   "cell_type": "code",
   "execution_count": null,
   "metadata": {},
   "outputs": [],
   "source": [
    "asdf = np.load(data_file_path_list[0])\n",
    "sgram = asdf['arr_0']\n",
    "f_sg = asdf['arr_1']\n",
    "t_sg = asdf['arr_2']"
   ]
  },
  {
   "cell_type": "code",
   "execution_count": null,
   "metadata": {},
   "outputs": [],
   "source": [
    "# rec001.LM1_ECOG_3.clfp.sgram.mask.pkl\n",
    "mask_file = data_file_path_list[0][:-14] + '.sgram.mask.pkl'\n",
    "print(mask_file)\n",
    "path.exists(mask_file)"
   ]
  },
  {
   "cell_type": "code",
   "execution_count": null,
   "metadata": {},
   "outputs": [],
   "source": [
    "with open(mask_file,'rb') as mask_f:\n",
    "    sgram_mask = pkl.load(mask_f)"
   ]
  },
  {
   "cell_type": "code",
   "execution_count": null,
   "metadata": {},
   "outputs": [],
   "source": [
    "plt.figure()\n",
    "plt.imshow(np.log10(sgram[0,:,:]))\n",
    "plt.ylim(0,400)\n",
    "_sgram = sgram[0,:,:].copy()\n",
    "_sgram[:,sgram_mask] = np.nan\n",
    "plt.figure()\n",
    "plt.imshow(np.log10(_sgram))\n",
    "plt.ylim(0,400)"
   ]
  },
  {
   "cell_type": "code",
   "execution_count": null,
   "metadata": {},
   "outputs": [],
   "source": [
    "plt.close()"
   ]
  },
  {
   "cell_type": "code",
   "execution_count": null,
   "metadata": {},
   "outputs": [],
   "source": [
    "plt.figure()\n",
    "plt.plot(f_sg,_sgram);\n",
    "plt.yscale('log')\n",
    "plt.xlim(0,150)"
   ]
  },
  {
   "cell_type": "code",
   "execution_count": null,
   "metadata": {},
   "outputs": [],
   "source": [
    "# the current method is bad!"
   ]
  }
 ]
}