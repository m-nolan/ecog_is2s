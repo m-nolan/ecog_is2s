{
 "cells": [
  {
   "cell_type": "markdown",
   "metadata": {},
   "source": [
    "# ECoG Forecasting with Sequence-to-Sequence (seq2seq) RNN models.\n",
    "\n",
    "## Starting small: 1 channel."
   ]
  },
  {
   "cell_type": "code",
   "execution_count": 1,
   "metadata": {},
   "outputs": [],
   "source": [
    "#!/usr/bin/env python\n",
    "# coding: utf-8\n",
    "\n",
    "from aopy import datareader, datafilter\n",
    "from ecog_is2s import EcogDataloader, Training, Encoder, Decoder, Seq2Seq, Util\n",
    "\n",
    "import torch\n",
    "import torch.nn as nn\n",
    "import torch.optim as optim\n",
    "from torch.utils.data.sampler import SequentialSampler, BatchSampler, SubsetRandomSampler\n",
    "from torch.utils.data import TensorDataset, random_split\n",
    "\n",
    "import spacy\n",
    "import numpy as np\n",
    "import pandas as pd\n",
    "# import sklearn\n",
    "import scipy as sp\n",
    "\n",
    "import random\n",
    "import math\n",
    "import time\n",
    "\n",
    "# import progressbar as pb\n",
    "import datetime\n",
    "import os\n",
    "import sys\n",
    "import csv\n",
    "from itertools import product\n",
    "\n",
    "import pickle as pkl\n",
    "\n",
    "import argparse\n",
    "import matplotlib.pyplot as plt"
   ]
  },
  {
   "cell_type": "markdown",
   "metadata": {},
   "source": [
    "The code in the next cell is used to parse command line arguments. These arguments assign values to the network and training parameters. This functionality has been replaced with more hard-coded constants in the current notebook. From an organizational standpoint, that's not the worst thing - it's given me a good opportunity to collect all of the constants together into one single code block @ the top of the notebook. They were pretty scattershot before that."
   ]
  },
  {
   "cell_type": "code",
   "execution_count": 2,
   "metadata": {},
   "outputs": [],
   "source": [
    "# # grab input arguments\n",
    "# parser = argparse.ArgumentParser('Trains a seq2seq network on a section of example NHP PMC ECoG data.',add_help=True)\n",
    "# parser.add_argument('--encoder-depth', metavar='el', type=int, default=10, help='Sequence depth of the encoder network')\n",
    "# parser.add_argument('--decoder-depth', metavar='dl', type=int, default=1, help='Sequence depth of the decoder network')\n",
    "# parser.add_argument('--batch-size', metavar='b', type=int, default=1, help='Data batch size')\n",
    "# parser.add_argument('--num-epochs', metavar='n', type=int, default=1, help='Number of optimization epochs')\n",
    "# parser.add_argument('--num-layers', metavar='nl', type=int, default=1, help='Number of layers in each RNN block')\n",
    "\n",
    "# args = parser.parse_args() # this bad boy has all the values packed into it. Nice!\n",
    "# print(args.encoder_depth,args.decoder_depth)\n",
    "\n",
    "# print(args.encoder_depth,args.decoder_depth)"
   ]
  },
  {
   "cell_type": "markdown",
   "metadata": {},
   "source": [
    "### TO-DO:\n",
    "Clean this mess up! There are lots of copied values and variable rereferences. They're unncessary and confusing."
   ]
  },
  {
   "cell_type": "code",
   "execution_count": 3,
   "metadata": {},
   "outputs": [],
   "source": [
    "# define constants\n",
    "T_MINUTES = 2\n",
    "ENCODER_DEPTH = 250\n",
    "DECODER_DEPTH = 100\n",
    "n_units =[2**11]\n",
    "BATCH_SIZE = 100\n",
    "NUM_EPOCHS = 1500\n",
    "N_EPOCHS = NUM_EPOCHS\n",
    "n_layers = [1]\n",
    "RNG_SEED = 5050\n",
    "INPUT_SEQ_LEN = ENCODER_DEPTH\n",
    "OUTPUT_SEQ_LEN = DECODER_DEPTH\n",
    "N_CH_USE = 1\n",
    "dropout = [0.1]\n",
    "l_rate = [1e-3]\n",
    "l_rate_factor = 0.8\n",
    "l_rate_min = 1e-8\n",
    "LOSS_OBJ = 'MSE' #L1, L2, see training.py:ECOGLoss()\n",
    "WEIGHT_RANGE = (-0.2,0.2) # ignore for now; not sure how to worm this through\n",
    "train_frac = 0.8\n",
    "test_frac = 1 - train_frac\n",
    "valid_frac = 0.0\n",
    "# BATCH_SIZE = args.batch_size\n",
    "# N_EPOCHS = args.num_epochs\n",
    "CLIP = 1. # this the maximum norm of the whole parameter gradient.\n",
    "TFR = 0. # no teacher forcing! Anything it's learning is all on its own\n",
    "RAND_SAMP = False\n",
    "weight_reg = np.float32(0.)#1e-5\n",
    "enc_len = ENCODER_DEPTH\n",
    "dec_len = DECODER_DEPTH\n",
    "seq_len = ENCODER_DEPTH+DECODER_DEPTH # use ten time points to predict the next time point"
   ]
  },
  {
   "cell_type": "code",
   "execution_count": 4,
   "metadata": {},
   "outputs": [],
   "source": [
    "# seed RNG for pytorch/np\n",
    "random.seed(RNG_SEED)\n",
    "np.random.seed(RNG_SEED)\n",
    "torch.manual_seed(RNG_SEED)\n",
    "torch.cuda.manual_seed(RNG_SEED)\n",
    "torch.backends.cudnn.deterministic = True # enforces deterministic algorithm use -> reproducibility. Remove for production code. You don't do production code. Don't remove."
   ]
  },
  {
   "cell_type": "code",
   "execution_count": 5,
   "metadata": {},
   "outputs": [
    {
     "name": "stdout",
     "output_type": "stream",
     "text": [
      "mounting to device: cpu\n"
     ]
    }
   ],
   "source": [
    "# set device - CUDA if you've got it\n",
    "device = torch.device('cuda' if torch.cuda.is_available() else 'cpu')\n",
    "# device = 'cpu'\n",
    "print('mounting to device: {}'.format(device))"
   ]
  },
  {
   "cell_type": "code",
   "execution_count": 6,
   "metadata": {},
   "outputs": [
    {
     "name": "stdout",
     "output_type": "stream",
     "text": [
      "Loading data file:\n"
     ]
    }
   ],
   "source": [
    "# load data\n",
    "platform_name = sys.platform\n",
    "if platform_name == 'darwin':\n",
    "    # local machine\n",
    "    data_file_full_path = '/Volumes/Samsung_T5/aoLab/Data/WirelessData/Goose_Multiscale_M1/180325/001/rec001.LM1_ECOG_3.clfp.dat'\n",
    "    mask_file_path = \"/Volumes/Samsung_T5/aoLab/Data/WirelessData/Goose_Multiscale_M1/180325/001/rec001.LM1_ECOG_3.clfp.mask.pkl\"\n",
    "    model_save_dir_path = '/Volumes/Samsung_T5/aoLab/Data/models/pyt/seq2seq/'\n",
    "elif platform_name == 'linux2':\n",
    "    # HYAK, baby!\n",
    "    data_file_full_path = '/gscratch/stf/manolan/Data/WirelessData/Goose_Multiscale_M1/180325/001/rec001.LM1_ECOG_3.clfp.dat'\n",
    "    mask_file_path = \"/gscratch/stf/manolan/Data/WirelessData/Goose_Multiscale_M1/180325/001/rec001.LM1_ECOG_3.clfp.mask.pkl\"\n",
    "elif platform_name == 'linux':\n",
    "    # google cloud, don't fail me now\n",
    "    data_file_full_path = '/home/mickey/rec001.LM1_ECOG_3.clfp.dat'\n",
    "    mask_file_path = '/home/mickey/rec001.LM1_ECOG_3.clfp.mask.pkl'\n",
    "    model_save_dir_path = '/home/mickey/models/pyt/seq2seq/'\n",
    "\n",
    "# make sure the output directory actually exists\n",
    "if not os.path.exists(model_save_dir_path):\n",
    "    os.makedirs(model_save_dir_path)\n",
    "\n",
    "data_in, data_param, data_mask = datareader.load_ecog_clfp_data(data_file_name=data_file_full_path)\n",
    "srate_in= data_param['srate']\n",
    "num_ch = data_param['num_ch']"
   ]
  },
  {
   "cell_type": "code",
   "execution_count": 7,
   "metadata": {},
   "outputs": [
    {
     "name": "stdout",
     "output_type": "stream",
     "text": [
      "Downsampling data from 1000 to 150\n",
      "Data Size:\t(62, 300000)\n",
      "\n",
      "Filtering data to \n"
     ]
    }
   ],
   "source": [
    "# plot data spectrum as check\n",
    "plt.plot(10*np.log10(np.abs(np.fft.rfft(data_in[10,:10*srate_in]))))"
   ]
  },
  {
   "cell_type": "code",
   "execution_count": null,
   "metadata": {},
   "outputs": [],
   "source": [
    "# mask data array, remove obvious outliers\n",
    "data_in[:,np.logical_or(data_mask[\"hf\"],data_mask[\"sat\"])] = 0.\n",
    "\n",
    "# downsample data\n",
    "srate_down = 250\n",
    "srate = srate_in\n",
    "\n",
    "# grab local time segment\n",
    "total_len_T = T_MINUTES*60\n",
    "total_len_n = total_len_T*srate_in\n",
    "data_idx = data_in.shape[1]//2 + np.arange(total_len_n)\n",
    "print('Downsampling data from {0} to {1}'.format(srate_in,srate_down))\n",
    "### note: this breaks mask indexing, if you plan to do that later.\n",
    "data_in = np.float32(sp.signal.decimate(data_in[:,data_idx],srate_in//srate_down,axis=-1))\n",
    "print('Data Size:\\t{}\\n'.format(data_in.shape))\n",
    "\n",
    "# filter data\n",
    "cf = 10 # Hz\n",
    "n_tap = srate_down\n",
    "a_fir = 1\n",
    "b_fir = sp.signal.firwin(n_tap,cf,fs=srate_down)\n",
    "print(f'Filtering data to {cf}Hz')\n",
    "data_in = np.float32(sp.signal.lfilter(b_fir,a_fir,data_in))"
   ]
  },
  {
   "cell_type": "code",
   "execution_count": 8,
   "metadata": {},
   "outputs": [
    {
     "data": {
      "text/plain": [
       "[<matplotlib.lines.Line2D at 0x1a26b03590>]"
      ]
     },
     "execution_count": 8,
     "metadata": {},
     "output_type": "execute_result"
    },
    {
     "data": {
      "image/png": "[encoded data removed]",
      "text/plain": [
       "<Figure size 432x288 with 2 Axes>"
      ]
     },
     "metadata": {
      "needs_background": "light"
     },
     "output_type": "display_data"
    }
   ],
   "source": [
    "_,ax = plt.subplots(1,2,figsize=(10,3))\n",
    "ax[0].plot(np.fft.fftfreq(1*srate_down)*srate_down,20*np.log10(np.abs(np.fft.fft(data_in[3,:1*srate_down]))))\n",
    "ax[1].plot(np.arange(3*srate_down),data_in[3,-3*srate_down:])"
   ]
  },
  {
   "cell_type": "code",
   "execution_count": 9,
   "metadata": {},
   "outputs": [
    {
     "name": "stdout",
     "output_type": "stream",
     "text": [
      "Filtering Channels:\n",
      "Num. ch. used:\t57\n",
      "Ch. kept:\t[ 0  1  2  3  4  5  6  7  8  9 10 11 12 13 14 15 16 17 18 19 20 21 22 23\n",
      " 24 25 26 27 29 30 31 32 33 34 35 36 37 38 39 40 41 42 43 44 45 46 47 48\n",
      " 49 50 51 52 53 54 55 56 57]\n",
      "\n"
     ]
    }
   ],
   "source": [
    "# filter dead channels\n",
    "ch_rms = np.std(data_in,axis=-1)\n",
    "ch_m = np.mean(ch_rms)\n",
    "ch_low_lim = ch_m - 2*np.std(ch_rms)\n",
    "ch_up_lim = ch_m + 2*np.std(ch_rms)\n",
    "ch_idx = np.logical_and(ch_rms > ch_low_lim, ch_rms < ch_up_lim)\n",
    "ch_list = np.arange(num_ch)[ch_idx]\n",
    "num_ch_down = len(ch_list)\n",
    "print('Filtering Channels:')\n",
    "print('Num. ch. used:\\t{}'.format(num_ch_down))\n",
    "print('Ch. kept:\\t{}\\n'.format(ch_list))"
   ]
  },
  {
   "cell_type": "code",
   "execution_count": 10,
   "metadata": {},
   "outputs": [
    {
     "name": "stdout",
     "output_type": "stream",
     "text": [
      "Normalizing data, converting to tensor:\n",
      "Data tensor shape: torch.Size([300000, 57])\n",
      "\n",
      "Creating EcogDataloader dataset object:\n",
      "\n",
      "\n"
     ]
    }
   ],
   "source": [
    "#create data tensor\n",
    "print('Normalizing data, converting to tensor:')\n",
    "# data_rail = np.max(np.abs(data_in.reshape(-1)))\n",
    "# normalization = 'zscore'\n",
    "normalization = 'tanh'\n",
    "if normalization is 'max':\n",
    "    data_tensor = torch.from_numpy(data_in[ch_idx,:].view().transpose()/data_rail)\n",
    "elif normalization is 'zscore':\n",
    "    # for nominally gaussian data distributions, this will get ~99% of data points in (-1, 1)\n",
    "    data_tensor = torch.from_numpy(sp.stats.zscore(data_in[ch_idx,:].view().transpose())/5)\n",
    "elif normalization is 'tanh':\n",
    "    data_tensor = torch.from_numpy(np.tanh(sp.stats.zscore(data_in[ch_idx,:].view().transpose())/3))\n",
    "print('Data tensor shape: {}\\n'.format(data_tensor.shape))\n",
    "\n",
    "# create dataset object\n",
    "print('Creating EcogDataloader dataset object:')\n",
    "if device == 'cuda:0':\n",
    "    data_tensor.cuda()\n",
    "dataset = EcogDataloader.EcogDataset(data_tensor[:,:N_CH_USE],device,ENCODER_DEPTH,DECODER_DEPTH,\n",
    "                                     transform=EcogDataloader.add_signal_diff(device=device)) ## make my own Dataset class\n",
    "num_ch_down = dataset.n_ch\n",
    "print('\\n')"
   ]
  },
  {
   "cell_type": "code",
   "execution_count": 11,
   "metadata": {},
   "outputs": [],
   "source": [
    "plt.plot(dataset.data)"
   ]
  },
  {
   "cell_type": "code",
   "execution_count": null,
   "metadata": {},
   "outputs": [],
   "source": [
    "# generate sampling index sets\n",
    "idx_all = np.arange(dataset.data.shape[0])\n",
    "idx_step = int(np.round(0.1*srate_down))\n",
    "idx_step = DECODER_DEPTH # no overlapping output sequences\n",
    "sample_idx = idx_all[:-seq_len:idx_step]\n",
    "BATCH_SIZE = np.int(np.min((BATCH_SIZE,len(sample_idx))))\n",
    "# plot samples\n",
    "n_plot_seed = 1\n",
    "n_plot_step = 4*seq_len\n",
    "plot_seed_idx = np.arange(0,n_plot_seed*n_plot_step,n_plot_step)"
   ]
  },
  {
   "cell_type": "code",
   "execution_count": 12,
   "metadata": {},
   "outputs": [],
   "source": [
    "np.mean(np.logical_or(data_mask[\"hf\"],data_mask[\"sat\"])[sample_idx])"
   ]
  },
  {
   "cell_type": "code",
   "execution_count": null,
   "metadata": {},
   "outputs": [],
   "source": [
    "# simple progressbar, not tied to the iterator\n",
    "def print_progress_bar(count, total, status=''):\n",
    "    bar_len = 60\n",
    "    filled_len = int(round(bar_len * count / float(total)))\n",
    "\n",
    "    percents = round(100.0 * count / float(total), 1)\n",
    "    bar = '=' * filled_len + '-' * (bar_len - filled_len)\n",
    "\n",
    "    sys.stdout.write('[%s] %s%s ...%s\\r' % (bar, percents, '%', status))\n",
    "    sys.stdout.flush()"
   ]
  },
  {
   "cell_type": "code",
   "execution_count": 13,
   "metadata": {},
   "outputs": [],
   "source": [
    "# model training + evaluation function, run this in each parameter choice loop\n",
    "def train_eval_seq2seq(dataset,n_layers,n_units,l_rate,dropout,save_dir,dry_run=False):\n",
    "    \n",
    "#     ENCODER_DEPTH = 250\n",
    "#     DECODER_DEPTH = 50\n",
    "#     BATCH_SIZE = 100\n",
    "#     NUM_EPOCHS = 1500\n",
    "#     N_EPOCHS = NUM_EPOCHS\n",
    "    INPUT_SEQ_LEN = ENCODER_DEPTH\n",
    "    OUTPUT_SEQ_LEN = DECODER_DEPTH\n",
    "    INPUT_DIM = dataset.data.shape[-1]\n",
    "    OUTPUT_DIM = dataset.data.shape[-1]\n",
    "    LOSS_OBJ = 'MSE' #L1, L2, see training.py:ECOGLoss()\n",
    "    WEIGHT_RANGE = (-0.2,0.2) # ignore for now; not sure how to worm this through\n",
    "    train_frac = 0.8\n",
    "    test_frac = 1 - train_frac\n",
    "    valid_frac = 0.0\n",
    "    CLIP = 0.05\n",
    "    TFR = 0.0\n",
    "    RAND_SAMP = False\n",
    "    weight_reg = 0\n",
    "    enc_len = ENCODER_DEPTH\n",
    "    dec_len = DECODER_DEPTH\n",
    "    seq_len = ENCODER_DEPTH+DECODER_DEPTH # use ten time points to predict the next time point\n",
    "    \n",
    "    # create model from given spec\n",
    "    model = Seq2Seq.Seq2Seq_GRU(dataset.n_ch, n_units, n_layers, ENCODER_DEPTH, DECODER_DEPTH, device, use_diff=True).to(device)\n",
    "#     model.apply(Util.init_weights) # initialize the model each time.\n",
    "\n",
    "    print(f'The model has {Util.count_parameters(model):,} trainable parameters')\n",
    "\n",
    "    criterion = nn.MSELoss(reduction='mean')\n",
    "    optimizer = optim.Adam(model.parameters(),lr=l_rate,weight_decay=weight_reg)\n",
    "    scheduler = optim.lr_scheduler.ReduceLROnPlateau(optimizer, mode='min', factor=l_rate_factor, min_lr=l_rate_min)\n",
    "    \n",
    "    best_test_loss = float('inf')\n",
    "\n",
    "    train_loss = np.zeros(N_EPOCHS)\n",
    "    train_batch_loss = []\n",
    "    test_loss = np.zeros(N_EPOCHS)\n",
    "    test_batch_loss = []\n",
    "\n",
    "    # create training session directory\n",
    "    time_str = Util.time_str()\n",
    "#     session_save_path = os.path.join(model_save_dir_path,'enc{}_dec{}_nl{}_nep{}_{}'.format(enc_len,dec_len,N_ENC_LAYERS,N_EPOCHS,time_str))\n",
    "    param_session_name = 'model_{}'.format(time_str)\n",
    "    session_save_path = os.path.join(save_dir,param_session_name)\n",
    "    sequence_plot_path = os.path.join(session_save_path,'example_sequence_figs')\n",
    "    os.makedirs(session_save_path) # no need to check; there's no way it exists yet.\n",
    "    os.makedirs(sequence_plot_path)\n",
    "    print('saving session data to:\\t{}'.format(session_save_path))\n",
    "\n",
    "    if dry_run:\n",
    "        train_loss = [np.nan]\n",
    "        test_loss = [np.nan]\n",
    "    else:\n",
    "        # make figure (and a place to save it)\n",
    "        f_loss = plt.figure()\n",
    "        ax_loss = f_loss.add_subplot(1,1,1)\n",
    "        \n",
    "        print_train_loss = np.Inf\n",
    "        print_test_loss = np.Inf\n",
    "\n",
    "        for e_idx, epoch in enumerate(range(N_EPOCHS)):\n",
    "            print_progress_bar(epoch,N_EPOCHS,status='epoch: {}\\ttrain loss: {:0.3f}\\tvalid loss:{:0.3f}'.format(epoch,print_train_loss,print_test_loss))\n",
    "\n",
    "            start_time = time.time()\n",
    "\n",
    "            # get new train/test splits\n",
    "            # note: add switch to genLoaders to allow for fixed/random sampling\n",
    "            train_loader, test_loader, _, plot_loader = EcogDataloader.genLoaders(dataset, sample_idx, train_frac, test_frac, valid_frac, BATCH_SIZE, rand_samp=RAND_SAMP, plot_seed=plot_seed_idx)\n",
    "        #     print('Training Network:')\n",
    "            _, trbl_ = model.train_iter(train_loader, optimizer, criterion, CLIP, TFR)\n",
    "            train_batch_loss.append(trbl_)\n",
    "            train_loss[e_idx] = np.mean(trbl_) # this is the plotted training loss\n",
    "        #     print('Testing Network:')\n",
    "            _, tebl_ = model.eval_iter(test_loader, criterion)\n",
    "            # test_batch_loss.append(tebl_)\n",
    "            test_loss[e_idx] = np.mean(tebl_) # this is the plotted test loss\n",
    "            scheduler.step(test_loss[e_idx])\n",
    "#         #     print('Running Figure Sequence:')\n",
    "#             plot_loss, plbl_, plot_data_list = Training.evaluate(model, plot_loader, criterion, plot_flag=True)\n",
    "#             if not (epoch % 10):\n",
    "        #         print('Saving estimate plots:')\n",
    "                # save the data for the plotting window in dict form\n",
    "#                 epoch_plot_path = os.path.join(sequence_plot_path,'epoch{}'.format(epoch))\n",
    "#                 os.makedirs(epoch_plot_path)\n",
    "#                 torch.save(model.state_dict(),os.path.join(epoch_plot_path,'model_epoch{}.pt'.format(epoch)))\n",
    "#                 c_list = ['b','r']\n",
    "#                 for k in range(len(plot_data_list)):\n",
    "#                     c_output = c_list[k//n_plot_seed] # blue for training windows, red for testing windows\n",
    "#                     plot_data_dict = {\n",
    "#                         'src': plot_data_list[k][0],\n",
    "#                         'src_dx': plot_data_list[k][1],\n",
    "#                         'trg': plot_data_list[k][2],\n",
    "#                         'out': plot_data_list[k][3],\n",
    "#                         'enc': plot_data_list[k][4],\n",
    "#                         'dec': plot_data_list[k][5],\n",
    "#                         'srate': srate_down,\n",
    "#                         # 'state_dict': model.state_dict(), # putting this in every file is redundant\n",
    "#                     }\n",
    "#                     torch.save(plot_data_dict,os.path.join(epoch_plot_path,'data_tuple_epoch{}_window{}.pt'.format(epoch,k)))\n",
    "#                     # pass data to plotting function for this window\n",
    "#                     # for plots:\n",
    "#                     # blue: train\n",
    "#                     # red: test\n",
    "#                     # black: real\n",
    "#                     # green: encoder\n",
    "#                     # magenta: decoder\n",
    "#                     f_out, f_enc, f_dec, f_src = Training.eval_plot(plot_data_dict,c_output=c_output)\n",
    "#                     # save plots in current epoch subdir\n",
    "#                     f_out.savefig(os.path.join(epoch_plot_path,'output_plot_epoch{}_window{}.png'.format(epoch,k)))\n",
    "#                     f_enc.savefig(os.path.join(epoch_plot_path,'encoder_plot_epoch{}_window{}.png'.format(epoch,k)))\n",
    "#                     f_dec.savefig(os.path.join(epoch_plot_path,'decoder_plot_epoch{}_window{}.png'.format(epoch,k)))\n",
    "#                     f_src.savefig(os.path.join(epoch_plot_path,'source_plot_epoch{}_window{}.png'.format(epoch,k)))\n",
    "#                     [plt.close(f) for f in [f_out,f_enc,f_dec,f_src]]\n",
    "\n",
    "            end_time = time.time()\n",
    "\n",
    "            epoch_mins, epoch_secs = Util.epoch_time(start_time, end_time)\n",
    "\n",
    "            if test_loss[e_idx] < best_test_loss:\n",
    "                best_test_loss = test_loss[e_idx]\n",
    "                torch.save({ # this needs to be made into a model class method!\n",
    "                        'epoch': epoch,\n",
    "                        'num_epochs': N_EPOCHS,\n",
    "                        'model_state_dict': model.state_dict(),\n",
    "                        'optimizer_state_dict': optimizer.state_dict(),\n",
    "                        'loss': best_test_loss,\n",
    "                        'data_path': data_file_full_path,\n",
    "                        'train_frac': train_frac,\n",
    "                        'test_frac': test_frac,\n",
    "                        'batch_size': BATCH_SIZE,\n",
    "                        'encoder_length': enc_len,\n",
    "                        'decoder_length': dec_len,\n",
    "                        }, os.path.join(session_save_path,'model_checkpoint.pt'))\n",
    "\n",
    "        #     print(f'Epoch: {epoch+1:02} | Time: {epoch_mins}m {epoch_secs}s')\n",
    "        #     print(f'\\tTrain Loss: {train_loss[e_idx]:.3g}')\n",
    "        #     print(f'\\t Test Loss: {test_loss[e_idx]:.3g}')\n",
    "            if e_idx == 0:\n",
    "                ax_loss.plot(e_idx,train_loss[e_idx],'b.',label='train loss')\n",
    "                ax_loss.plot(e_idx,test_loss[e_idx],'r.',label='valid. loss')\n",
    "                ax_loss.legend(loc=0)\n",
    "            else:\n",
    "                ax_loss.plot(e_idx,train_loss[e_idx],'b.')\n",
    "                ax_loss.plot(e_idx,test_loss[e_idx],'r.')\n",
    "            ax_loss.set_ylim(bottom=0,top=1.05*np.concatenate((train_loss,test_loss)).max())\n",
    "            # print the loss curve figure; continuously overwrite (like a fun stock ticker)\n",
    "            f_loss.savefig(os.path.join(session_save_path,'training_progress.png'))\n",
    "            torch.save({'train_loss':train_loss,'test_loss':test_loss,},os.path.join(session_save_path,'training_progress.pt'))\n",
    "            print_train_loss = train_loss[e_idx]\n",
    "            print_test_loss = test_loss[e_idx]\n",
    "    return (train_loss, test_loss, param_session_name, model)"
   ]
  },
  {
   "cell_type": "code",
   "execution_count": 14,
   "metadata": {},
   "outputs": [
    {
     "name": "stdout",
     "output_type": "stream",
     "text": [
      "The model has 6,313,985 trainable parameters\n",
      "saving session data to:\t/Volumes/Samsung_T5/aoLab/Data/models/pyt/seq2seq/enc300_dec150_hps_20200805191447627622/model_20200805191447783272\n",
      "> /Users/mickey/anaconda3/envs/ecog_is2s/lib/python3.7/site-packages/ecog_is2s-0.1-py3.7.egg/ecog_is2s/Seq2Seq.py(132)forward()\n",
      "-> for t in range(trg_len):\n"
     ]
    },
    {
     "name": "stdin",
     "output_type": "stream",
     "text": [
      "(Pdb)  n\n"
     ]
    },
    {
     "name": "stdout",
     "output_type": "stream",
     "text": [
      "> /Users/mickey/anaconda3/envs/ecog_is2s/lib/python3.7/site-packages/ecog_is2s-0.1-py3.7.egg/ecog_is2s/Seq2Seq.py(137)forward()\n",
      "-> pred, output, hidden = self.decoder(input_,hidden)\n"
     ]
    },
    {
     "name": "stdin",
     "output_type": "stream",
     "text": [
      "(Pdb)  n\n"
     ]
    },
    {
     "name": "stdout",
     "output_type": "stream",
     "text": [
      "> /Users/mickey/anaconda3/envs/ecog_is2s/lib/python3.7/site-packages/ecog_is2s-0.1-py3.7.egg/ecog_is2s/Seq2Seq.py(138)forward()\n",
      "-> out[:,t,:] = pred.squeeze(1)\n"
     ]
    },
    {
     "name": "stdin",
     "output_type": "stream",
     "text": [
      "(Pdb)  input_[0,]\n"
     ]
    },
    {
     "name": "stdout",
     "output_type": "stream",
     "text": [
      "tensor([[0.1379]])\n"
     ]
    },
    {
     "name": "stdin",
     "output_type": "stream",
     "text": [
      "(Pdb)  pred[0,]\n"
     ]
    },
    {
     "name": "stdout",
     "output_type": "stream",
     "text": [
      "tensor([[0.0197]], grad_fn=<SelectBackward>)\n"
     ]
    },
    {
     "name": "stdin",
     "output_type": "stream",
     "text": [
      "(Pdb)  (input_[1,],pred[1,])\n"
     ]
    },
    {
     "name": "stdout",
     "output_type": "stream",
     "text": [
      "(tensor([[0.2445]]), tensor([[0.0187]], grad_fn=<SelectBackward>))\n"
     ]
    },
    {
     "name": "stdin",
     "output_type": "stream",
     "text": [
      "(Pdb)  (input_[2,],pred[2,])\n"
     ]
    },
    {
     "name": "stdout",
     "output_type": "stream",
     "text": [
      "(tensor([[-0.0908]]), tensor([[0.0222]], grad_fn=<SelectBackward>))\n"
     ]
    },
    {
     "name": "stdin",
     "output_type": "stream",
     "text": [
      "(Pdb)  self.encoder\n"
     ]
    },
    {
     "name": "stdout",
     "output_type": "stream",
     "text": [
      "Encoder_GRU(\n",
      "  (rnn): GRU(2, 1024, batch_first=True)\n",
      ")\n"
     ]
    },
    {
     "name": "stdin",
     "output_type": "stream",
     "text": [
      "(Pdb)  self.encoder.parameter\n"
     ]
    },
    {
     "name": "stdout",
     "output_type": "stream",
     "text": [
      "*** AttributeError: 'Encoder_GRU' object has no attribute 'parameter'\n"
     ]
    },
    {
     "name": "stdin",
     "output_type": "stream",
     "text": [
      "(Pdb)  self.encoder.state_dict\n"
     ]
    },
    {
     "name": "stdout",
     "output_type": "stream",
     "text": [
      "<bound method Module.state_dict of Encoder_GRU(\n",
      "  (rnn): GRU(2, 1024, batch_first=True)\n",
      ")>\n"
     ]
    },
    {
     "name": "stdin",
     "output_type": "stream",
     "text": [
      "(Pdb)  self.encoder.state_dict()\n"
     ]
    },
    {
     "name": "stdout",
     "output_type": "stream",
     "text": [
      "OrderedDict([('rnn.weight_ih_l0', tensor([[-0.0007,  0.0115],\n",
      "        [-0.0025,  0.0188],\n",
      "        [ 0.0174,  0.0200],\n",
      "        ...,\n",
      "        [-0.0156,  0.0115],\n",
      "        [-0.0082,  0.0285],\n",
      "        [ 0.0197, -0.0228]])), ('rnn.weight_hh_l0', tensor([[ 0.0093, -0.0053,  0.0289,  ...,  0.0179,  0.0017, -0.0216],\n",
      "        [-0.0157,  0.0252,  0.0255,  ..., -0.0160,  0.0160, -0.0141],\n",
      "        [ 0.0111, -0.0308, -0.0261,  ...,  0.0198,  0.0105,  0.0197],\n",
      "        ...,\n",
      "        [ 0.0155, -0.0208,  0.0246,  ..., -0.0110,  0.0181,  0.0138],\n",
      "        [-0.0150, -0.0097,  0.0304,  ...,  0.0274,  0.0261,  0.0228],\n",
      "        [-0.0172, -0.0160,  0.0119,  ...,  0.0043,  0.0253,  0.0104]])), ('rnn.bias_ih_l0', tensor([-0.0253,  0.0106,  0.0300,  ..., -0.0273,  0.0154,  0.0210])), ('rnn.bias_hh_l0', tensor([-0.0040,  0.0095,  0.0076,  ...,  0.0243, -0.0275,  0.0149]))])\n"
     ]
    },
    {
     "name": "stdin",
     "output_type": "stream",
     "text": [
      "(Pdb)  self.encoder.state_dict()['rnn.weight_ih_l0']\n"
     ]
    },
    {
     "name": "stdout",
     "output_type": "stream",
     "text": [
      "tensor([[-0.0007,  0.0115],\n",
      "        [-0.0025,  0.0188],\n",
      "        [ 0.0174,  0.0200],\n",
      "        ...,\n",
      "        [-0.0156,  0.0115],\n",
      "        [-0.0082,  0.0285],\n",
      "        [ 0.0197, -0.0228]])\n"
     ]
    },
    {
     "name": "stdin",
     "output_type": "stream",
     "text": [
      "(Pdb)  self.hid_dim\n"
     ]
    },
    {
     "name": "stdout",
     "output_type": "stream",
     "text": [
      "1024\n"
     ]
    },
    {
     "name": "stdin",
     "output_type": "stream",
     "text": [
      "(Pdb)  1/self.hid_dim\n"
     ]
    },
    {
     "name": "stdout",
     "output_type": "stream",
     "text": [
      "0.0009765625\n"
     ]
    },
    {
     "name": "stdin",
     "output_type": "stream",
     "text": [
      "(Pdb)  np.sqrt(1/self.hid_dim)\n"
     ]
    },
    {
     "name": "stdout",
     "output_type": "stream",
     "text": [
      "0.03125\n"
     ]
    },
    {
     "name": "stdin",
     "output_type": "stream",
     "text": [
      "(Pdb)  1/(0.08**2)\n"
     ]
    },
    {
     "name": "stdout",
     "output_type": "stream",
     "text": [
      "156.25\n"
     ]
    },
    {
     "name": "stdin",
     "output_type": "stream",
     "text": [
      "(Pdb)  n\n"
     ]
    },
    {
     "name": "stdout",
     "output_type": "stream",
     "text": [
      "> /Users/mickey/anaconda3/envs/ecog_is2s/lib/python3.7/site-packages/ecog_is2s-0.1-py3.7.egg/ecog_is2s/Seq2Seq.py(139)forward()\n",
      "-> dec_state[:,t,:] = output.squeeze(1)\n"
     ]
    },
    {
     "name": "stdin",
     "output_type": "stream",
     "text": [
      "(Pdb)  n\n"
     ]
    },
    {
     "name": "stdout",
     "output_type": "stream",
     "text": [
      "> /Users/mickey/anaconda3/envs/ecog_is2s/lib/python3.7/site-packages/ecog_is2s-0.1-py3.7.egg/ecog_is2s/Seq2Seq.py(140)forward()\n",
      "-> teacher_force = torch.rand(1)[0] < teacher_forcing_ratio\n"
     ]
    },
    {
     "name": "stdin",
     "output_type": "stream",
     "text": [
      "(Pdb)  output.shape\n"
     ]
    },
    {
     "name": "stdout",
     "output_type": "stream",
     "text": [
      "torch.Size([100, 1, 1024])\n"
     ]
    },
    {
     "name": "stdin",
     "output_type": "stream",
     "text": [
      "(Pdb)  hidden.shape\n"
     ]
    },
    {
     "name": "stdout",
     "output_type": "stream",
     "text": [
      "torch.Size([1, 100, 1024])\n"
     ]
    },
    {
     "name": "stdin",
     "output_type": "stream",
     "text": [
      "(Pdb)  n\n"
     ]
    },
    {
     "name": "stdout",
     "output_type": "stream",
     "text": [
      "> /Users/mickey/anaconda3/envs/ecog_is2s/lib/python3.7/site-packages/ecog_is2s-0.1-py3.7.egg/ecog_is2s/Seq2Seq.py(141)forward()\n",
      "-> input_ = trg[:,t,:].unsqueeze(1) if teacher_force else pred\n"
     ]
    },
    {
     "name": "stdin",
     "output_type": "stream",
     "text": [
      "(Pdb)  n\n"
     ]
    },
    {
     "name": "stdout",
     "output_type": "stream",
     "text": [
      "> /Users/mickey/anaconda3/envs/ecog_is2s/lib/python3.7/site-packages/ecog_is2s-0.1-py3.7.egg/ecog_is2s/Seq2Seq.py(132)forward()\n",
      "-> for t in range(trg_len):\n"
     ]
    },
    {
     "name": "stdin",
     "output_type": "stream",
     "text": [
      "(Pdb)  input_ == pred\n"
     ]
    },
    {
     "name": "stdout",
     "output_type": "stream",
     "text": [
      "tensor([[[True]],\n",
      "\n",
      "        [[True]],\n",
      "\n",
      "        [[True]],\n",
      "\n",
      "        [[True]],\n",
      "\n",
      "        [[True]],\n",
      "\n",
      "        [[True]],\n",
      "\n",
      "        [[True]],\n",
      "\n",
      "        [[True]],\n",
      "\n",
      "        [[True]],\n",
      "\n",
      "        [[True]],\n",
      "\n",
      "        [[True]],\n",
      "\n",
      "        [[True]],\n",
      "\n",
      "        [[True]],\n",
      "\n",
      "        [[True]],\n",
      "\n",
      "        [[True]],\n",
      "\n",
      "        [[True]],\n",
      "\n",
      "        [[True]],\n",
      "\n",
      "        [[True]],\n",
      "\n",
      "        [[True]],\n",
      "\n",
      "        [[True]],\n",
      "\n",
      "        [[True]],\n",
      "\n",
      "        [[True]],\n",
      "\n",
      "        [[True]],\n",
      "\n",
      "        [[True]],\n",
      "\n",
      "        [[True]],\n",
      "\n",
      "        [[True]],\n",
      "\n",
      "        [[True]],\n",
      "\n",
      "        [[True]],\n",
      "\n",
      "        [[True]],\n",
      "\n",
      "        [[True]],\n",
      "\n",
      "        [[True]],\n",
      "\n",
      "        [[True]],\n",
      "\n",
      "        [[True]],\n",
      "\n",
      "        [[True]],\n",
      "\n",
      "        [[True]],\n",
      "\n",
      "        [[True]],\n",
      "\n",
      "        [[True]],\n",
      "\n",
      "        [[True]],\n",
      "\n",
      "        [[True]],\n",
      "\n",
      "        [[True]],\n",
      "\n",
      "        [[True]],\n",
      "\n",
      "        [[True]],\n",
      "\n",
      "        [[True]],\n",
      "\n",
      "        [[True]],\n",
      "\n",
      "        [[True]],\n",
      "\n",
      "        [[True]],\n",
      "\n",
      "        [[True]],\n",
      "\n",
      "        [[True]],\n",
      "\n",
      "        [[True]],\n",
      "\n",
      "        [[True]],\n",
      "\n",
      "        [[True]],\n",
      "\n",
      "        [[True]],\n",
      "\n",
      "        [[True]],\n",
      "\n",
      "        [[True]],\n",
      "\n",
      "        [[True]],\n",
      "\n",
      "        [[True]],\n",
      "\n",
      "        [[True]],\n",
      "\n",
      "        [[True]],\n",
      "\n",
      "        [[True]],\n",
      "\n",
      "        [[True]],\n",
      "\n",
      "        [[True]],\n",
      "\n",
      "        [[True]],\n",
      "\n",
      "        [[True]],\n",
      "\n",
      "        [[True]],\n",
      "\n",
      "        [[True]],\n",
      "\n",
      "        [[True]],\n",
      "\n",
      "        [[True]],\n",
      "\n",
      "        [[True]],\n",
      "\n",
      "        [[True]],\n",
      "\n",
      "        [[True]],\n",
      "\n",
      "        [[True]],\n",
      "\n",
      "        [[True]],\n",
      "\n",
      "        [[True]],\n",
      "\n",
      "        [[True]],\n",
      "\n",
      "        [[True]],\n",
      "\n",
      "        [[True]],\n",
      "\n",
      "        [[True]],\n",
      "\n",
      "        [[True]],\n",
      "\n",
      "        [[True]],\n",
      "\n",
      "        [[True]],\n",
      "\n",
      "        [[True]],\n",
      "\n",
      "        [[True]],\n",
      "\n",
      "        [[True]],\n",
      "\n",
      "        [[True]],\n",
      "\n",
      "        [[True]],\n",
      "\n",
      "        [[True]],\n",
      "\n",
      "        [[True]],\n",
      "\n",
      "        [[True]],\n",
      "\n",
      "        [[True]],\n",
      "\n",
      "        [[True]],\n",
      "\n",
      "        [[True]],\n",
      "\n",
      "        [[True]],\n",
      "\n",
      "        [[True]],\n",
      "\n",
      "        [[True]],\n",
      "\n",
      "        [[True]],\n",
      "\n",
      "        [[True]],\n",
      "\n",
      "        [[True]],\n",
      "\n",
      "        [[True]],\n",
      "\n",
      "        [[True]],\n",
      "\n",
      "        [[True]]])\n"
     ]
    },
    {
     "name": "stdin",
     "output_type": "stream",
     "text": [
      "(Pdb)  n\n"
     ]
    },
    {
     "name": "stdout",
     "output_type": "stream",
     "text": [
      "> /Users/mickey/anaconda3/envs/ecog_is2s/lib/python3.7/site-packages/ecog_is2s-0.1-py3.7.egg/ecog_is2s/Seq2Seq.py(137)forward()\n",
      "-> pred, output, hidden = self.decoder(input_,hidden)\n"
     ]
    },
    {
     "name": "stdin",
     "output_type": "stream",
     "text": [
      "(Pdb)  n\n"
     ]
    },
    {
     "name": "stdout",
     "output_type": "stream",
     "text": [
      "> /Users/mickey/anaconda3/envs/ecog_is2s/lib/python3.7/site-packages/ecog_is2s-0.1-py3.7.egg/ecog_is2s/Seq2Seq.py(138)forward()\n",
      "-> out[:,t,:] = pred.squeeze(1)\n"
     ]
    },
    {
     "name": "stdin",
     "output_type": "stream",
     "text": [
      "(Pdb)  pred[0,]\n"
     ]
    },
    {
     "name": "stdout",
     "output_type": "stream",
     "text": [
      "tensor([[0.0200]], grad_fn=<SelectBackward>)\n"
     ]
    },
    {
     "name": "stdin",
     "output_type": "stream",
     "text": [
      "(Pdb)  input_[0,]\n"
     ]
    },
    {
     "name": "stdout",
     "output_type": "stream",
     "text": [
      "tensor([[0.0197]], grad_fn=<SelectBackward>)\n"
     ]
    },
    {
     "name": "stdin",
     "output_type": "stream",
     "text": [
      "(Pdb)  exit\n"
     ]
    },
    {
     "ename": "BdbQuit",
     "evalue": "",
     "output_type": "error",
     "traceback": [
      "\u001b[0;31m---------------------------------------------------------------------------\u001b[0m",
      "\u001b[0;31mBdbQuit\u001b[0m                                   Traceback (most recent call last)",
      "\u001b[0;32m<ipython-input-14-15c47a9d7ddd>\u001b[0m in \u001b[0;36m<module>\u001b[0;34m\u001b[0m\n\u001b[1;32m      9\u001b[0m     \u001b[0mrf\u001b[0m\u001b[0;34m.\u001b[0m\u001b[0mwrite\u001b[0m\u001b[0;34m(\u001b[0m\u001b[0;34m'\\n'\u001b[0m\u001b[0;34m)\u001b[0m\u001b[0;34m\u001b[0m\u001b[0;34m\u001b[0m\u001b[0m\n\u001b[1;32m     10\u001b[0m \u001b[0;32mfor\u001b[0m \u001b[0;34m(\u001b[0m\u001b[0mn_l\u001b[0m\u001b[0;34m,\u001b[0m\u001b[0mn_u\u001b[0m\u001b[0;34m,\u001b[0m\u001b[0ml_r\u001b[0m\u001b[0;34m,\u001b[0m\u001b[0md_r\u001b[0m\u001b[0;34m)\u001b[0m \u001b[0;32min\u001b[0m \u001b[0mproduct\u001b[0m\u001b[0;34m(\u001b[0m\u001b[0mn_layers\u001b[0m\u001b[0;34m,\u001b[0m\u001b[0mn_units\u001b[0m\u001b[0;34m,\u001b[0m\u001b[0ml_rate\u001b[0m\u001b[0;34m,\u001b[0m\u001b[0mdropout\u001b[0m\u001b[0;34m)\u001b[0m\u001b[0;34m:\u001b[0m\u001b[0;34m\u001b[0m\u001b[0;34m\u001b[0m\u001b[0m\n\u001b[0;32m---> 11\u001b[0;31m     \u001b[0mtrain_loss\u001b[0m\u001b[0;34m,\u001b[0m \u001b[0mtest_loss\u001b[0m\u001b[0;34m,\u001b[0m \u001b[0mparam_session_name\u001b[0m \u001b[0;34m=\u001b[0m \u001b[0mtrain_eval_seq2seq\u001b[0m\u001b[0;34m(\u001b[0m\u001b[0mdataset\u001b[0m\u001b[0;34m,\u001b[0m\u001b[0mn_l\u001b[0m\u001b[0;34m,\u001b[0m\u001b[0mn_u\u001b[0m\u001b[0;34m,\u001b[0m\u001b[0ml_r\u001b[0m\u001b[0;34m,\u001b[0m\u001b[0md_r\u001b[0m\u001b[0;34m,\u001b[0m\u001b[0mout_dir\u001b[0m\u001b[0;34m)\u001b[0m\u001b[0;34m\u001b[0m\u001b[0;34m\u001b[0m\u001b[0m\n\u001b[0m\u001b[1;32m     12\u001b[0m     \u001b[0;32mwith\u001b[0m \u001b[0mopen\u001b[0m\u001b[0;34m(\u001b[0m\u001b[0mresult_file\u001b[0m\u001b[0;34m,\u001b[0m\u001b[0;34m'a'\u001b[0m\u001b[0;34m)\u001b[0m \u001b[0;32mas\u001b[0m \u001b[0mrf\u001b[0m\u001b[0;34m:\u001b[0m\u001b[0;34m\u001b[0m\u001b[0;34m\u001b[0m\u001b[0m\n\u001b[1;32m     13\u001b[0m         \u001b[0mrf\u001b[0m\u001b[0;34m.\u001b[0m\u001b[0mwrite\u001b[0m\u001b[0;34m(\u001b[0m\u001b[0;34m'{},{},{},{},{},{},{}'\u001b[0m\u001b[0;34m.\u001b[0m\u001b[0mformat\u001b[0m\u001b[0;34m(\u001b[0m\u001b[0mparam_session_name\u001b[0m\u001b[0;34m,\u001b[0m\u001b[0mn_l\u001b[0m\u001b[0;34m,\u001b[0m\u001b[0mn_u\u001b[0m\u001b[0;34m,\u001b[0m\u001b[0ml_r\u001b[0m\u001b[0;34m,\u001b[0m\u001b[0md_r\u001b[0m\u001b[0;34m,\u001b[0m\u001b[0mtrain_loss\u001b[0m\u001b[0;34m[\u001b[0m\u001b[0;34m-\u001b[0m\u001b[0;36m1\u001b[0m\u001b[0;34m]\u001b[0m\u001b[0;34m,\u001b[0m\u001b[0mtest_loss\u001b[0m\u001b[0;34m[\u001b[0m\u001b[0;34m-\u001b[0m\u001b[0;36m1\u001b[0m\u001b[0;34m]\u001b[0m\u001b[0;34m)\u001b[0m\u001b[0;34m)\u001b[0m\u001b[0;34m\u001b[0m\u001b[0;34m\u001b[0m\u001b[0m\n",
      "\u001b[0;32m<ipython-input-13-139df52f93d9>\u001b[0m in \u001b[0;36mtrain_eval_seq2seq\u001b[0;34m(dataset, n_layers, n_units, l_rate, dropout, save_dir, dry_run)\u001b[0m\n\u001b[1;32m     71\u001b[0m             \u001b[0mtrain_loader\u001b[0m\u001b[0;34m,\u001b[0m \u001b[0mtest_loader\u001b[0m\u001b[0;34m,\u001b[0m \u001b[0m_\u001b[0m\u001b[0;34m,\u001b[0m \u001b[0mplot_loader\u001b[0m \u001b[0;34m=\u001b[0m \u001b[0mEcogDataloader\u001b[0m\u001b[0;34m.\u001b[0m\u001b[0mgenLoaders\u001b[0m\u001b[0;34m(\u001b[0m\u001b[0mdataset\u001b[0m\u001b[0;34m,\u001b[0m \u001b[0msample_idx\u001b[0m\u001b[0;34m,\u001b[0m \u001b[0mtrain_frac\u001b[0m\u001b[0;34m,\u001b[0m \u001b[0mtest_frac\u001b[0m\u001b[0;34m,\u001b[0m \u001b[0mvalid_frac\u001b[0m\u001b[0;34m,\u001b[0m \u001b[0mBATCH_SIZE\u001b[0m\u001b[0;34m,\u001b[0m \u001b[0mrand_samp\u001b[0m\u001b[0;34m=\u001b[0m\u001b[0mRAND_SAMP\u001b[0m\u001b[0;34m,\u001b[0m \u001b[0mplot_seed\u001b[0m\u001b[0;34m=\u001b[0m\u001b[0mplot_seed_idx\u001b[0m\u001b[0;34m)\u001b[0m\u001b[0;34m\u001b[0m\u001b[0;34m\u001b[0m\u001b[0m\n\u001b[1;32m     72\u001b[0m         \u001b[0;31m#     print('Training Network:')\u001b[0m\u001b[0;34m\u001b[0m\u001b[0;34m\u001b[0m\u001b[0;34m\u001b[0m\u001b[0m\n\u001b[0;32m---> 73\u001b[0;31m             \u001b[0m_\u001b[0m\u001b[0;34m,\u001b[0m \u001b[0mtrbl_\u001b[0m \u001b[0;34m=\u001b[0m \u001b[0mmodel\u001b[0m\u001b[0;34m.\u001b[0m\u001b[0mtrain_iter\u001b[0m\u001b[0;34m(\u001b[0m\u001b[0mtrain_loader\u001b[0m\u001b[0;34m,\u001b[0m \u001b[0moptimizer\u001b[0m\u001b[0;34m,\u001b[0m \u001b[0mcriterion\u001b[0m\u001b[0;34m,\u001b[0m \u001b[0mCLIP\u001b[0m\u001b[0;34m,\u001b[0m \u001b[0mTFR\u001b[0m\u001b[0;34m)\u001b[0m\u001b[0;34m\u001b[0m\u001b[0;34m\u001b[0m\u001b[0m\n\u001b[0m\u001b[1;32m     74\u001b[0m             \u001b[0mtrain_batch_loss\u001b[0m\u001b[0;34m.\u001b[0m\u001b[0mappend\u001b[0m\u001b[0;34m(\u001b[0m\u001b[0mtrbl_\u001b[0m\u001b[0;34m)\u001b[0m\u001b[0;34m\u001b[0m\u001b[0;34m\u001b[0m\u001b[0m\n\u001b[1;32m     75\u001b[0m             \u001b[0mtrain_loss\u001b[0m\u001b[0;34m[\u001b[0m\u001b[0me_idx\u001b[0m\u001b[0;34m]\u001b[0m \u001b[0;34m=\u001b[0m \u001b[0mnp\u001b[0m\u001b[0;34m.\u001b[0m\u001b[0mmean\u001b[0m\u001b[0;34m(\u001b[0m\u001b[0mtrbl_\u001b[0m\u001b[0;34m)\u001b[0m \u001b[0;31m# this is the plotted training loss\u001b[0m\u001b[0;34m\u001b[0m\u001b[0;34m\u001b[0m\u001b[0m\n",
      "\u001b[0;32m~/anaconda3/envs/ecog_is2s/lib/python3.7/site-packages/ecog_is2s-0.1-py3.7.egg/ecog_is2s/Seq2Seq.py\u001b[0m in \u001b[0;36mtrain_iter\u001b[0;34m(self, iterator, optimizer, criterion, clip, teacher_forcing_ratio)\u001b[0m\n\u001b[1;32m    157\u001b[0m \u001b[0;34m\u001b[0m\u001b[0m\n\u001b[1;32m    158\u001b[0m             \u001b[0moptimizer\u001b[0m\u001b[0;34m.\u001b[0m\u001b[0mzero_grad\u001b[0m\u001b[0;34m(\u001b[0m\u001b[0;34m)\u001b[0m\u001b[0;34m\u001b[0m\u001b[0;34m\u001b[0m\u001b[0m\n\u001b[0;32m--> 159\u001b[0;31m             \u001b[0moutput\u001b[0m\u001b[0;34m,\u001b[0m \u001b[0m_\u001b[0m\u001b[0;34m,\u001b[0m \u001b[0m_\u001b[0m \u001b[0;34m=\u001b[0m \u001b[0mself\u001b[0m\u001b[0;34m(\u001b[0m\u001b[0msrc\u001b[0m\u001b[0;34m,\u001b[0m\u001b[0mtrg\u001b[0m\u001b[0;34m,\u001b[0m\u001b[0mteacher_forcing_ratio\u001b[0m\u001b[0;34m=\u001b[0m\u001b[0mteacher_forcing_ratio\u001b[0m\u001b[0;34m)\u001b[0m\u001b[0;34m\u001b[0m\u001b[0;34m\u001b[0m\u001b[0m\n\u001b[0m\u001b[1;32m    160\u001b[0m \u001b[0;34m\u001b[0m\u001b[0m\n\u001b[1;32m    161\u001b[0m             \u001b[0mloss\u001b[0m \u001b[0;34m=\u001b[0m \u001b[0mcriterion\u001b[0m\u001b[0;34m(\u001b[0m\u001b[0moutput\u001b[0m\u001b[0;34m,\u001b[0m\u001b[0mtrg\u001b[0m\u001b[0;34m)\u001b[0m\u001b[0;34m\u001b[0m\u001b[0;34m\u001b[0m\u001b[0m\n",
      "\u001b[0;32m~/anaconda3/envs/ecog_is2s/lib/python3.7/site-packages/torch/nn/modules/module.py\u001b[0m in \u001b[0;36m__call__\u001b[0;34m(self, *input, **kwargs)\u001b[0m\n\u001b[1;32m    530\u001b[0m             \u001b[0mresult\u001b[0m \u001b[0;34m=\u001b[0m \u001b[0mself\u001b[0m\u001b[0;34m.\u001b[0m\u001b[0m_slow_forward\u001b[0m\u001b[0;34m(\u001b[0m\u001b[0;34m*\u001b[0m\u001b[0minput\u001b[0m\u001b[0;34m,\u001b[0m \u001b[0;34m**\u001b[0m\u001b[0mkwargs\u001b[0m\u001b[0;34m)\u001b[0m\u001b[0;34m\u001b[0m\u001b[0;34m\u001b[0m\u001b[0m\n\u001b[1;32m    531\u001b[0m         \u001b[0;32melse\u001b[0m\u001b[0;34m:\u001b[0m\u001b[0;34m\u001b[0m\u001b[0;34m\u001b[0m\u001b[0m\n\u001b[0;32m--> 532\u001b[0;31m             \u001b[0mresult\u001b[0m \u001b[0;34m=\u001b[0m \u001b[0mself\u001b[0m\u001b[0;34m.\u001b[0m\u001b[0mforward\u001b[0m\u001b[0;34m(\u001b[0m\u001b[0;34m*\u001b[0m\u001b[0minput\u001b[0m\u001b[0;34m,\u001b[0m \u001b[0;34m**\u001b[0m\u001b[0mkwargs\u001b[0m\u001b[0;34m)\u001b[0m\u001b[0;34m\u001b[0m\u001b[0;34m\u001b[0m\u001b[0m\n\u001b[0m\u001b[1;32m    533\u001b[0m         \u001b[0;32mfor\u001b[0m \u001b[0mhook\u001b[0m \u001b[0;32min\u001b[0m \u001b[0mself\u001b[0m\u001b[0;34m.\u001b[0m\u001b[0m_forward_hooks\u001b[0m\u001b[0;34m.\u001b[0m\u001b[0mvalues\u001b[0m\u001b[0;34m(\u001b[0m\u001b[0;34m)\u001b[0m\u001b[0;34m:\u001b[0m\u001b[0;34m\u001b[0m\u001b[0;34m\u001b[0m\u001b[0m\n\u001b[1;32m    534\u001b[0m             \u001b[0mhook_result\u001b[0m \u001b[0;34m=\u001b[0m \u001b[0mhook\u001b[0m\u001b[0;34m(\u001b[0m\u001b[0mself\u001b[0m\u001b[0;34m,\u001b[0m \u001b[0minput\u001b[0m\u001b[0;34m,\u001b[0m \u001b[0mresult\u001b[0m\u001b[0;34m)\u001b[0m\u001b[0;34m\u001b[0m\u001b[0;34m\u001b[0m\u001b[0m\n",
      "\u001b[0;32m~/anaconda3/envs/ecog_is2s/lib/python3.7/site-packages/ecog_is2s-0.1-py3.7.egg/ecog_is2s/Seq2Seq.py\u001b[0m in \u001b[0;36mforward\u001b[0;34m(self, src, trg, teacher_forcing_ratio)\u001b[0m\n\u001b[1;32m    136\u001b[0m             \u001b[0;31m#       ^ if you want to see each layer's activity at the last time point, use this.\u001b[0m\u001b[0;34m\u001b[0m\u001b[0;34m\u001b[0m\u001b[0;34m\u001b[0m\u001b[0m\n\u001b[1;32m    137\u001b[0m             \u001b[0mpred\u001b[0m\u001b[0;34m,\u001b[0m \u001b[0moutput\u001b[0m\u001b[0;34m,\u001b[0m \u001b[0mhidden\u001b[0m \u001b[0;34m=\u001b[0m \u001b[0mself\u001b[0m\u001b[0;34m.\u001b[0m\u001b[0mdecoder\u001b[0m\u001b[0;34m(\u001b[0m\u001b[0minput_\u001b[0m\u001b[0;34m,\u001b[0m\u001b[0mhidden\u001b[0m\u001b[0;34m)\u001b[0m\u001b[0;34m\u001b[0m\u001b[0;34m\u001b[0m\u001b[0m\n\u001b[0;32m--> 138\u001b[0;31m             \u001b[0mout\u001b[0m\u001b[0;34m[\u001b[0m\u001b[0;34m:\u001b[0m\u001b[0;34m,\u001b[0m\u001b[0mt\u001b[0m\u001b[0;34m,\u001b[0m\u001b[0;34m:\u001b[0m\u001b[0;34m]\u001b[0m \u001b[0;34m=\u001b[0m \u001b[0mpred\u001b[0m\u001b[0;34m.\u001b[0m\u001b[0msqueeze\u001b[0m\u001b[0;34m(\u001b[0m\u001b[0;36m1\u001b[0m\u001b[0;34m)\u001b[0m\u001b[0;34m\u001b[0m\u001b[0;34m\u001b[0m\u001b[0m\n\u001b[0m\u001b[1;32m    139\u001b[0m             \u001b[0mdec_state\u001b[0m\u001b[0;34m[\u001b[0m\u001b[0;34m:\u001b[0m\u001b[0;34m,\u001b[0m\u001b[0mt\u001b[0m\u001b[0;34m,\u001b[0m\u001b[0;34m:\u001b[0m\u001b[0;34m]\u001b[0m \u001b[0;34m=\u001b[0m \u001b[0moutput\u001b[0m\u001b[0;34m.\u001b[0m\u001b[0msqueeze\u001b[0m\u001b[0;34m(\u001b[0m\u001b[0;36m1\u001b[0m\u001b[0;34m)\u001b[0m\u001b[0;34m\u001b[0m\u001b[0;34m\u001b[0m\u001b[0m\n\u001b[1;32m    140\u001b[0m             \u001b[0mteacher_force\u001b[0m \u001b[0;34m=\u001b[0m \u001b[0mtorch\u001b[0m\u001b[0;34m.\u001b[0m\u001b[0mrand\u001b[0m\u001b[0;34m(\u001b[0m\u001b[0;36m1\u001b[0m\u001b[0;34m)\u001b[0m\u001b[0;34m[\u001b[0m\u001b[0;36m0\u001b[0m\u001b[0;34m]\u001b[0m \u001b[0;34m<\u001b[0m \u001b[0mteacher_forcing_ratio\u001b[0m\u001b[0;34m\u001b[0m\u001b[0;34m\u001b[0m\u001b[0m\n",
      "\u001b[0;32m~/anaconda3/envs/ecog_is2s/lib/python3.7/site-packages/ecog_is2s-0.1-py3.7.egg/ecog_is2s/Seq2Seq.py\u001b[0m in \u001b[0;36mforward\u001b[0;34m(self, src, trg, teacher_forcing_ratio)\u001b[0m\n\u001b[1;32m    136\u001b[0m             \u001b[0;31m#       ^ if you want to see each layer's activity at the last time point, use this.\u001b[0m\u001b[0;34m\u001b[0m\u001b[0;34m\u001b[0m\u001b[0;34m\u001b[0m\u001b[0m\n\u001b[1;32m    137\u001b[0m             \u001b[0mpred\u001b[0m\u001b[0;34m,\u001b[0m \u001b[0moutput\u001b[0m\u001b[0;34m,\u001b[0m \u001b[0mhidden\u001b[0m \u001b[0;34m=\u001b[0m \u001b[0mself\u001b[0m\u001b[0;34m.\u001b[0m\u001b[0mdecoder\u001b[0m\u001b[0;34m(\u001b[0m\u001b[0minput_\u001b[0m\u001b[0;34m,\u001b[0m\u001b[0mhidden\u001b[0m\u001b[0;34m)\u001b[0m\u001b[0;34m\u001b[0m\u001b[0;34m\u001b[0m\u001b[0m\n\u001b[0;32m--> 138\u001b[0;31m             \u001b[0mout\u001b[0m\u001b[0;34m[\u001b[0m\u001b[0;34m:\u001b[0m\u001b[0;34m,\u001b[0m\u001b[0mt\u001b[0m\u001b[0;34m,\u001b[0m\u001b[0;34m:\u001b[0m\u001b[0;34m]\u001b[0m \u001b[0;34m=\u001b[0m \u001b[0mpred\u001b[0m\u001b[0;34m.\u001b[0m\u001b[0msqueeze\u001b[0m\u001b[0;34m(\u001b[0m\u001b[0;36m1\u001b[0m\u001b[0;34m)\u001b[0m\u001b[0;34m\u001b[0m\u001b[0;34m\u001b[0m\u001b[0m\n\u001b[0m\u001b[1;32m    139\u001b[0m             \u001b[0mdec_state\u001b[0m\u001b[0;34m[\u001b[0m\u001b[0;34m:\u001b[0m\u001b[0;34m,\u001b[0m\u001b[0mt\u001b[0m\u001b[0;34m,\u001b[0m\u001b[0;34m:\u001b[0m\u001b[0;34m]\u001b[0m \u001b[0;34m=\u001b[0m \u001b[0moutput\u001b[0m\u001b[0;34m.\u001b[0m\u001b[0msqueeze\u001b[0m\u001b[0;34m(\u001b[0m\u001b[0;36m1\u001b[0m\u001b[0;34m)\u001b[0m\u001b[0;34m\u001b[0m\u001b[0;34m\u001b[0m\u001b[0m\n\u001b[1;32m    140\u001b[0m             \u001b[0mteacher_force\u001b[0m \u001b[0;34m=\u001b[0m \u001b[0mtorch\u001b[0m\u001b[0;34m.\u001b[0m\u001b[0mrand\u001b[0m\u001b[0;34m(\u001b[0m\u001b[0;36m1\u001b[0m\u001b[0;34m)\u001b[0m\u001b[0;34m[\u001b[0m\u001b[0;36m0\u001b[0m\u001b[0;34m]\u001b[0m \u001b[0;34m<\u001b[0m \u001b[0mteacher_forcing_ratio\u001b[0m\u001b[0;34m\u001b[0m\u001b[0;34m\u001b[0m\u001b[0m\n",
      "\u001b[0;32m~/anaconda3/envs/ecog_is2s/lib/python3.7/bdb.py\u001b[0m in \u001b[0;36mtrace_dispatch\u001b[0;34m(self, frame, event, arg)\u001b[0m\n\u001b[1;32m     86\u001b[0m             \u001b[0;32mreturn\u001b[0m \u001b[0;31m# None\u001b[0m\u001b[0;34m\u001b[0m\u001b[0;34m\u001b[0m\u001b[0m\n\u001b[1;32m     87\u001b[0m         \u001b[0;32mif\u001b[0m \u001b[0mevent\u001b[0m \u001b[0;34m==\u001b[0m \u001b[0;34m'line'\u001b[0m\u001b[0;34m:\u001b[0m\u001b[0;34m\u001b[0m\u001b[0;34m\u001b[0m\u001b[0m\n\u001b[0;32m---> 88\u001b[0;31m             \u001b[0;32mreturn\u001b[0m \u001b[0mself\u001b[0m\u001b[0;34m.\u001b[0m\u001b[0mdispatch_line\u001b[0m\u001b[0;34m(\u001b[0m\u001b[0mframe\u001b[0m\u001b[0;34m)\u001b[0m\u001b[0;34m\u001b[0m\u001b[0;34m\u001b[0m\u001b[0m\n\u001b[0m\u001b[1;32m     89\u001b[0m         \u001b[0;32mif\u001b[0m \u001b[0mevent\u001b[0m \u001b[0;34m==\u001b[0m \u001b[0;34m'call'\u001b[0m\u001b[0;34m:\u001b[0m\u001b[0;34m\u001b[0m\u001b[0;34m\u001b[0m\u001b[0m\n\u001b[1;32m     90\u001b[0m             \u001b[0;32mreturn\u001b[0m \u001b[0mself\u001b[0m\u001b[0;34m.\u001b[0m\u001b[0mdispatch_call\u001b[0m\u001b[0;34m(\u001b[0m\u001b[0mframe\u001b[0m\u001b[0;34m,\u001b[0m \u001b[0marg\u001b[0m\u001b[0;34m)\u001b[0m\u001b[0;34m\u001b[0m\u001b[0;34m\u001b[0m\u001b[0m\n",
      "\u001b[0;32m~/anaconda3/envs/ecog_is2s/lib/python3.7/bdb.py\u001b[0m in \u001b[0;36mdispatch_line\u001b[0;34m(self, frame)\u001b[0m\n\u001b[1;32m    111\u001b[0m         \u001b[0;32mif\u001b[0m \u001b[0mself\u001b[0m\u001b[0;34m.\u001b[0m\u001b[0mstop_here\u001b[0m\u001b[0;34m(\u001b[0m\u001b[0mframe\u001b[0m\u001b[0;34m)\u001b[0m \u001b[0;32mor\u001b[0m \u001b[0mself\u001b[0m\u001b[0;34m.\u001b[0m\u001b[0mbreak_here\u001b[0m\u001b[0;34m(\u001b[0m\u001b[0mframe\u001b[0m\u001b[0;34m)\u001b[0m\u001b[0;34m:\u001b[0m\u001b[0;34m\u001b[0m\u001b[0;34m\u001b[0m\u001b[0m\n\u001b[1;32m    112\u001b[0m             \u001b[0mself\u001b[0m\u001b[0;34m.\u001b[0m\u001b[0muser_line\u001b[0m\u001b[0;34m(\u001b[0m\u001b[0mframe\u001b[0m\u001b[0;34m)\u001b[0m\u001b[0;34m\u001b[0m\u001b[0;34m\u001b[0m\u001b[0m\n\u001b[0;32m--> 113\u001b[0;31m             \u001b[0;32mif\u001b[0m \u001b[0mself\u001b[0m\u001b[0;34m.\u001b[0m\u001b[0mquitting\u001b[0m\u001b[0;34m:\u001b[0m \u001b[0;32mraise\u001b[0m \u001b[0mBdbQuit\u001b[0m\u001b[0;34m\u001b[0m\u001b[0;34m\u001b[0m\u001b[0m\n\u001b[0m\u001b[1;32m    114\u001b[0m         \u001b[0;32mreturn\u001b[0m \u001b[0mself\u001b[0m\u001b[0;34m.\u001b[0m\u001b[0mtrace_dispatch\u001b[0m\u001b[0;34m\u001b[0m\u001b[0;34m\u001b[0m\u001b[0m\n\u001b[1;32m    115\u001b[0m \u001b[0;34m\u001b[0m\u001b[0m\n",
      "\u001b[0;31mBdbQuit\u001b[0m: "
     ]
    },
    {
     "data": {
      "image/png": "[encoded data removed]",
      "text/plain": [
       "<Figure size 432x288 with 1 Axes>"
      ]
     },
     "metadata": {
      "needs_background": "light"
     },
     "output_type": "display_data"
    }
   ],
   "source": [
    "# sweep over parameters!\n",
    "# create log file\n",
    "time_str = Util.time_str()\n",
    "out_dir = os.path.join(model_save_dir_path,'enc{}_dec{}_hps_{}'.format(enc_len,dec_len,time_str))\n",
    "os.makedirs(out_dir)\n",
    "result_file = os.path.join(out_dir,'hps_results.csv')\n",
    "with open(result_file,'w') as rf:\n",
    "    rf.write('id,n_layer,n_unit,l_rate,d_rate,train_loss_end,test_loss_end')\n",
    "    rf.write('\\n')\n",
    "for (n_l,n_u,l_r,d_r) in product(n_layers,n_units,l_rate,dropout):\n",
    "    train_loss, test_loss, param_session_name, model = train_eval_seq2seq(dataset,n_l,n_u,l_r,d_r,out_dir)\n",
    "    with open(result_file,'a') as rf:\n",
    "        rf.write('{},{},{},{},{},{},{}'.format(param_session_name,n_l,n_u,l_r,d_r,train_loss[-1],test_loss[-1]))\n",
    "        rf.write('\\n')"
   ]
  },
  {
   "cell_type": "code",
   "execution_count": null,
   "metadata": {},
   "outputs": [],
   "source": [
    "# plot sample\n",
    "CHKPT_PATH = '/home/mickey/models/pyt/seq2seq/enc250_dec100_hps_20200806193302137872/model_20200806193304016459/model_checkpoint.pt'\n",
    "model_dict = torch.load(CHKPT_PATH)['model_state_dict']\n",
    "model = Seq2Seq.Seq2Seq_GRU(dataset.n_ch, n_units[0], n_layers[0], ENCODER_DEPTH, DECODER_DEPTH, device, use_diff=True).to(device)\n",
    "model.load_state_dict(model_dict)\n",
    "train_loader, test_loader, _, plot_loader = EcogDataloader.genLoaders(dataset, sample_idx, train_frac, test_frac, valid_frac, BATCH_SIZE, rand_samp=True, plot_seed=plot_seed_idx)\n",
    "src, trg = next(iter(test_loader))\n",
    "# src = src.unsqueeze(0)\n",
    "# trg = trg.unsqueeze(0)\n",
    "out, enc, dec = model(src,trg,teacher_forcing_ratio=0.0)\n",
    "src_t = np.arange(-enc_len,0)/srate_down\n",
    "trg_t = np.arange(dec_len)/srate_down\n",
    "f,ax = plt.subplots(dpi=150,figsize=(10,3))\n",
    "ax.plot(src_t,src[0,:,0].cpu(),label='src',color='#777777')\n",
    "ax.plot(src_t,src[0,:,1].cpu(),label='dsrc',color='#777777',linestyle='--')\n",
    "ax.plot(trg_t,trg[0,].cpu(),label='trg',color='#000000')\n",
    "ax.plot(trg_t,out[0,].cpu().detach().numpy(),label='out',color='#FF0000')\n",
    "ax.set_xlabel('time (s)')\n",
    "ax.set_ylabel('norm. amp. (a.u.)')\n",
    "ax.legend(loc=0)\n",
    "f.show()\n",
    "# plot the beginning of the output\n",
    "f,ax = plt.subplots(1,1)\n",
    "ax.plot(trg[0,:50].cpu())\n",
    "ax.plot(out[0,:50].cpu().detach().numpy())"
   ]
  }
 ],
 "metadata": {
  "kernelspec": {
   "display_name": "ecog_is2s",
   "language": "python",
   "name": "ecog_is2s"
  },
  "language_info": {
   "codemirror_mode": {
    "name": "ipython",
    "version": 3
   },
   "file_extension": ".py",
   "mimetype": "text/x-python",
   "name": "python",
   "nbconvert_exporter": "python",
   "pygments_lexer": "ipython3",
   "version": "3.7.6"
  }
 },
 "nbformat": 4,
 "nbformat_minor": 4
}
