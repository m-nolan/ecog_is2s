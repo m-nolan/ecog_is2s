{
 "metadata": {
  "language_info": {
   "codemirror_mode": {
    "name": "ipython",
    "version": 3
   },
   "file_extension": ".py",
   "mimetype": "text/x-python",
   "name": "python",
   "nbconvert_exporter": "python",
   "pygments_lexer": "ipython3",
   "version": "3.7.7-final"
  },
  "orig_nbformat": 2,
  "kernelspec": {
   "name": "python_defaultSpec_1599159149025",
   "display_name": "Python 3.7.7 64-bit ('ecog_is2s': conda)"
  }
 },
 "nbformat": 4,
 "nbformat_minor": 2,
 "cells": [
  {
   "cell_type": "markdown",
   "metadata": {},
   "source": [
    "# Aligning video data\n",
    "\n",
    "Michael Nolan\n",
    "\n",
    "2020.09.02.1623"
   ]
  },
  {
   "cell_type": "markdown",
   "metadata": {},
   "source": [
    "We have ECoG data from monkeys doing... whatever they feel like. They're in their cages between trial sessions for other experiments, but the electrode drive is still recording. Connecting signals to behavior requires knowing something about the behavior! Lucky me: there are cameras rolling the whole time.\n",
    "\n",
    "Ive taken those videos and labeled time windows as \"sleeping\" and \"not sleeping.\" This is great! Good work me. Unfortunately, these time windows aren't aligned to the recordings. I need a way to align the time periods to the data in order to label things appropriately.\n",
    "\n",
    "Amy mentioned something a long time ago about the .nev file having the video triggers in it."
   ]
  },
  {
   "cell_type": "code",
   "execution_count": 24,
   "metadata": {},
   "outputs": [],
   "source": [
    "from aopy import datareader, datafilter, brpylib\n",
    "import numpy as np\n",
    "import matplotlib.pyplot as plt"
   ]
  },
  {
   "cell_type": "code",
   "execution_count": 25,
   "metadata": {
    "tags": []
   },
   "outputs": [
    {
     "output_type": "stream",
     "name": "stdout",
     "text": "\nG:\\Shared drives\\aoLab\\Data\\WirelessData\\Goose_Multiscale_M1\\180325\\001\\rec001.ns5 opened\n"
    }
   ],
   "source": [
    "# get a sample .ns5 file\n",
    "ns5_file_path = \"G:\\\\Shared drives\\\\aoLab\\\\Data\\\\WirelessData\\\\Goose_Multiscale_M1\\\\180325\\\\001\\\\rec001.ns5\"\n",
    "ns5_data = brpylib.NsxFile(datafile=nev_file_path)"
   ]
  },
  {
   "cell_type": "code",
   "execution_count": 20,
   "metadata": {},
   "outputs": [
    {
     "output_type": "execute_result",
     "data": {
      "text/plain": "{}"
     },
     "metadata": {},
     "execution_count": 20
    }
   ],
   "source": []
  },
  {
   "cell_type": "code",
   "execution_count": 7,
   "metadata": {},
   "outputs": [
    {
     "output_type": "execute_result",
     "data": {
      "text/plain": "{}"
     },
     "metadata": {},
     "execution_count": 7
    }
   ],
   "source": []
  },
  {
   "cell_type": "code",
   "execution_count": null,
   "metadata": {},
   "outputs": [],
   "source": []
  }
 ]
}