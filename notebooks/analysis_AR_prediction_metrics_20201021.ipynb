{
 "metadata": {
  "language_info": {
   "codemirror_mode": {
    "name": "ipython",
    "version": 3
   },
   "file_extension": ".py",
   "mimetype": "text/x-python",
   "name": "python",
   "nbconvert_exporter": "python",
   "pygments_lexer": "ipython3",
   "version": "3.7.6-final"
  },
  "orig_nbformat": 2,
  "kernelspec": {
   "name": "python3",
   "display_name": "Python 3.7.6 64-bit ('ecog_is2s': conda)",
   "metadata": {
    "interpreter": {
     "hash": "fe8054fe0736511d0a995e424bd42fab5ba13013efdf79ed2907f82c79967e8d"
    }
   }
  }
 },
 "nbformat": 4,
 "nbformat_minor": 2,
 "cells": [
  {
   "cell_type": "code",
   "execution_count": null,
   "metadata": {},
   "outputs": [],
   "source": [
    "import numpy as np\n",
    "import scipy as sp\n",
    "import pandas as pd\n",
    "import matplotlib.pyplot as plt\n",
    "import seaborn as sns\n",
    "import os.path as path\n",
    "import itertools"
   ]
  },
  {
   "cell_type": "code",
   "execution_count": null,
   "metadata": {},
   "outputs": [],
   "source": [
    "# load data tables (dataframes, .csv files)\n",
    "analysis_path = \"D:\\\\Users\\\\mickey\\\\Data\\\\analysis\\\\prediction_p10_1s_20210106163829\"\n",
    "metric_stat_df = pd.read_csv(path.join(analysis_path,'prediction_metric_stats.csv'))\n",
    "metric_stat_all_df = pd.read_csv(path.join(analysis_path,'prediction_metric_all_stats.csv'))\n",
    "metric_stat_bin_df = pd.read_csv(path.join(analysis_path,'prediction_metric_bin_stats.csv'))"
   ]
  },
  {
   "cell_type": "code",
   "execution_count": null,
   "metadata": {},
   "outputs": [],
   "source": [
    "def bootstrap_est(data,n_boot,f):\n",
    "    n_sample = data.shape[0]\n",
    "    est = []\n",
    "    for n in range(n_boot):\n",
    "        _idx = np.random.choice(np.arange(n_sample),size=n_sample,replace=True)\n",
    "        est.append(f(data[_idx,]))\n",
    "    est = np.stack(est,axis=0)\n",
    "    return est"
   ]
  },
  {
   "cell_type": "code",
   "execution_count": null,
   "metadata": {},
   "outputs": [],
   "source": [
    "corr_lists = [[float(x) for x in a.replace('[','').replace(']','').replace('\\n','').split(' ') if not x=='']  for a in metric_stat_df.corr_mean.values]\n",
    "corr_means = np.array(list(itertools.chain.from_iterable(corr_lists)))\n",
    "# corr_mean_bsd = bootstrap_est(corr_means,100,lambda x: np.nanmean(x))\n",
    "corr_mean = np.nanmean(corr_means)\n",
    "corr_ci = np.nanpercentile(corr_means,[2.5,97.5])\n",
    "print(corr_mean,corr_ci)"
   ]
  },
  {
   "cell_type": "code",
   "execution_count": null,
   "metadata": {},
   "outputs": [],
   "source": [
    "rpe_lists = [[float(x) for x in a.replace('[','').replace(']','').replace('\\n','').split(' ') if not x=='']  for a in metric_stat_df.rpe_mean.values]\n",
    "rpe_means = np.array(list(itertools.chain.from_iterable(rpe_lists)))\n",
    "rpe_means = rpe_means[rpe_means < 10.0]\n",
    "# corr_mean_bsd = bootstrap_est(corr_means,100,lambda x: np.nanmean(x))\n",
    "rpe_mean = np.nanmean(rpe_means)\n",
    "rpe_ci = np.nanpercentile(rpe_means,[2.5,97.5])\n",
    "print(rpe_mean,rpe_ci)"
   ]
  },
  {
   "cell_type": "code",
   "execution_count": null,
   "metadata": {},
   "outputs": [],
   "source": [
    "# make xlabel string\n",
    "rec_label = [f'{path.basename(path.dirname(path.dirname(f)))[-2:]}.{path.basename(path.dirname(f))}' for f in metric_stat_all_df.file_path]\n",
    "print(rec_label)"
   ]
  },
  {
   "cell_type": "code",
   "execution_count": null,
   "metadata": {},
   "outputs": [],
   "source": [
    "rec_day = [path.basename(path.dirname(path.dirname(f)))[-2:] for f in metric_stat_all_df.file_path]\n",
    "plt.figure(figsize=(8,2),dpi=80)\n",
    "plt.fill_between(np.arange(len(metric_stat_all_df)),metric_stat_all_df['rpe_ci_2.5'],metric_stat_all_df['rpe_ci_97.5'],label='CI',alpha=0.2)\n",
    "plt.plot(metric_stat_all_df.rpe_mean,label='mean')\n",
    "plt.xticks(ticks=np.arange(len(metric_stat_all_df)),labels=rec_label,rotation=90);\n",
    "plt.legend(loc=0)\n",
    "plt.title('RPE, AR model (p = 10)')\n",
    "plt.xlabel('Recording')\n",
    "plt.ylabel('RPE')\n",
    "plt.savefig(path.join(analysis_path,'rpe_v_files.png'))"
   ]
  },
  {
   "cell_type": "code",
   "execution_count": null,
   "metadata": {},
   "outputs": [],
   "source": [
    "# model_use_idx = np.array([1,2,3,4,9,10,11,12,13,14,19,20,21,22,23,24,26,27,28,29,30,31,32,33,34])\n",
    "# display(metric_stat_all_df.iloc[model_use_idx])\n",
    "model_use_idx = np.arange(len(metric_stat_all_df.rpe_mean))[metric_stat_all_df.rpe_mean < 2.0]"
   ]
  },
  {
   "cell_type": "code",
   "execution_count": null,
   "metadata": {},
   "outputs": [],
   "source": [
    "rec_label[metric_stat_all_df.rpe_mean.values.argmin()]"
   ]
  },
  {
   "cell_type": "code",
   "execution_count": null,
   "metadata": {},
   "outputs": [],
   "source": [
    "files_used = list(metric_stat_all_df.file_path.iloc[model_use_idx])\n",
    "stat_bin_use = [f in files_used for f in list(metric_stat_bin_df.file_path)]\n",
    "metric_stat_bin_df['file_label'] = np.array(rec_label).repeat(10)"
   ]
  },
  {
   "cell_type": "code",
   "execution_count": null,
   "metadata": {},
   "outputs": [],
   "source": [
    "g = sns.lineplot(x='bin_t',y='rpe_bin_mean',hue=\"file_label\"\n",
    "    ,data=metric_stat_bin_df[stat_bin_use],ci=None,palette='coolwarm')\n",
    "g.set_title(\"Mean RPE v. Time\")\n",
    "g.get_figure().savefig(path.join(analysis_path,\"mean_rpe_v_time.png\"))\n",
    "# g.set_legend(rec_label)"
   ]
  },
  {
   "cell_type": "code",
   "execution_count": null,
   "metadata": {},
   "outputs": [],
   "source": []
  }
 ]
}